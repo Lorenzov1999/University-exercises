{
 "cells": [
  {
   "cell_type": "markdown",
   "metadata": {},
   "source": [
    "1\\. Write the following as a list comprehension"
   ]
  },
  {
   "cell_type": "code",
   "execution_count": 1,
   "metadata": {},
   "outputs": [
    {
     "name": "stdout",
     "output_type": "stream",
     "text": [
      "#1: [(0, 0), (0, 1), (0, 2), (0, 3), (1, 0), (1, 1), (1, 2), (1, 3), (2, 0), (2, 1), (2, 2), (2, 3)]\n",
      "#2: [0, 4, 16]\n",
      "new lists as comprehensions:\n",
      "#1: [(0, 0), (0, 1), (0, 2), (0, 3), (1, 0), (1, 1), (1, 2), (1, 3), (2, 0), (2, 1), (2, 2), (2, 3)]\n",
      "#2: [0, 4, 16]\n"
     ]
    }
   ],
   "source": [
    "# 1\n",
    "ans = []\n",
    "for i in range(3):\n",
    "    for j in range(4):\n",
    "        ans.append((i, j))\n",
    "print (\"#1:\",ans)\n",
    "        \n",
    "# 2\n",
    "ans = map(lambda x: x*x, filter(lambda x: x%2 == 0, range(5)))\n",
    "print (\"#2:\",list(ans))\n",
    "\n",
    "print(\"new lists as comprehensions:\")\n",
    "\n",
    "#1sol\n",
    "ans = [(i,j) for i in range(0,3) for j in range (0,4)]\n",
    "print (\"#1:\",ans)\n",
    "\n",
    "#2sol\n",
    "ans = [x**2 for x in range (5) if x%2==0]\n",
    "print (\"#2:\",ans)\n"
   ]
  },
  {
   "cell_type": "markdown",
   "metadata": {},
   "source": [
    "2\\. Convert the following function into a pure function with no global variables or side effects"
   ]
  },
  {
   "cell_type": "code",
   "execution_count": 2,
   "metadata": {},
   "outputs": [
    {
     "name": "stdout",
     "output_type": "stream",
     "text": [
      "with the old function:\n",
      "ans: [1, 2, 3, 0, 1, 2, 3, 4]\n",
      "alist: [1, 2, 3, 0, 1, 2, 3, 4]\n",
      "with the new function:\n",
      "bns: [1, 2, 3, 0, 1, 2, 3, 4]\n",
      "blist: [1, 2, 3]\n"
     ]
    }
   ],
   "source": [
    "print(\"with the old function:\")\n",
    "x = 5\n",
    "def f(alist):\n",
    "    for i in range(x):\n",
    "         alist.append(i)\n",
    "    return alist\n",
    "\n",
    "alist = [1,2,3]\n",
    "ans = f(alist)\n",
    "print (\"ans:\",ans)\n",
    "print (\"alist:\",alist) # alist has been changed!\n",
    "\n",
    "print(\"with the new function:\")\n",
    "\n",
    "def f(blist,y):\n",
    "    clist=list(blist)\n",
    "    for i in range(y):\n",
    "        clist.append(i)\n",
    "    return clist\n",
    "\n",
    "blist = [1,2,3]\n",
    "bns = f(blist,5)\n",
    "print (\"bns:\",bns)\n",
    "print (\"blist:\",blist)"
   ]
  },
  {
   "cell_type": "markdown",
   "metadata": {},
   "source": [
    "3\\. Write a `decorator` hello that makes every wrapped function print “Hello!”, i.e. something like:\n",
    "\n",
    "```python\n",
    "@hello\n",
    "def square(x):\n",
    "    return x*x\n",
    "```\n",
    "\n"
   ]
  },
  {
   "cell_type": "code",
   "execution_count": 3,
   "metadata": {},
   "outputs": [],
   "source": [
    "#using *args we can use the same decorator for functions which have different inputs\n",
    "def hello(func):\n",
    "    def wrapper(*x):\n",
    "        print(\"hello\")\n",
    "        func(*x)\n",
    "        print(\"hello\")\n",
    "    return wrapper\n",
    "\n",
    "@hello\n",
    "def square(x):\n",
    "    print (x**2)\n",
    "    \n",
    "@hello\n",
    "def nothing():\n",
    "    print (\"nothing\")"
   ]
  },
  {
   "cell_type": "code",
   "execution_count": 4,
   "metadata": {},
   "outputs": [
    {
     "name": "stdout",
     "output_type": "stream",
     "text": [
      "hello\n",
      "25\n",
      "hello\n",
      "hello\n",
      "nothing\n",
      "hello\n"
     ]
    }
   ],
   "source": [
    "square(5)\n",
    "\n",
    "nothing()"
   ]
  },
  {
   "cell_type": "markdown",
   "metadata": {},
   "source": [
    "4\\. Write the factorial function so that it a) does and b) does not use recursion."
   ]
  },
  {
   "cell_type": "code",
   "execution_count": 5,
   "metadata": {},
   "outputs": [
    {
     "name": "stdout",
     "output_type": "stream",
     "text": [
      "set the value of n5\n",
      "calculated with recursive factorial =  120\n",
      "calculated with non recursive factorial =  120\n"
     ]
    }
   ],
   "source": [
    "def nonrecursivefactorial(x):\n",
    "    nonrecfactx=1\n",
    "    for i in range (1,x+1):\n",
    "        nonrecfactx=nonrecfactx*i\n",
    "    return nonrecfactx\n",
    "\n",
    "def recursivefactorial(x):\n",
    "    if x==0:\n",
    "        return 1\n",
    "    else :\n",
    "        return x*recursivefactorial(x-1)\n",
    "\n",
    "n=input(\"set the value of n\")\n",
    "n=int(n)\n",
    "print (\"calculated with recursive factorial = \",recursivefactorial(n))\n",
    "print (\"calculated with non recursive factorial = \", nonrecursivefactorial(n))"
   ]
  },
  {
   "cell_type": "markdown",
   "metadata": {},
   "source": [
    "5\\. Use HOFs (zip in particular) to compute the weight of a circle, a disk and a sphere, assuming different radii and different densities:\n",
    "\n",
    "```python\n",
    "densities = {\"Al\":[0.5,1,2],\"Fe\":[3,4,5],\"Pb\": [15,20,30]}\n",
    "radii = [1,2,3]\n",
    "```\n",
    "\n",
    "where the entries of the dictionary's values are the linear, superficial and volumetric densities of the materials respectively.\n",
    "\n",
    "In particular define a list of three lambda functions using a comprehension that computes the circumference, the area and the volume for a given radius.\n"
   ]
  },
  {
   "cell_type": "code",
   "execution_count": 6,
   "metadata": {},
   "outputs": [
    {
     "name": "stdout",
     "output_type": "stream",
     "text": [
      "{'Al': [3.141592653589793, 12.566370614359172, 226.19467105846508], 'Fe': [18.84955592153876, 50.26548245743669, 565.4866776461627], 'Pb': [94.24777960769379, 251.32741228718345, 3392.920065876976]}\n"
     ]
    }
   ],
   "source": [
    "import numpy as np\n",
    "\n",
    "densities = {\"Al\":[0.5,1,2],\"Fe\":[3,4,5],\"Pb\": [15,20,30]}\n",
    "radii = [1,2,3]\n",
    "frac=[2,1,4/3]\n",
    "functions_list = [(lambda r, i=i: np.pi*pow(r,i+1)*frac[i]) for i in range(0,3)]\n",
    "weights = {}\n",
    "for key in densities:\n",
    "    weights[key] = [(lambda rad,vol,dens: vol(rad)*dens)(rad,vol,dens) for rad,vol,dens in zip(radii,functions_list,densities.get(key))]\n",
    "print(weights)"
   ]
  },
  {
   "cell_type": "markdown",
   "metadata": {},
   "source": [
    "6\\. Edit the class defintion to add an instance attribute of is_hungry = True to the Dog class. Then add a method called eat() which changes the value of is_hungry to False when called. Figure out the best way to feed each dog and then output “My dogs are hungry.” if all are hungry or “My dogs are not hungry.” if all are not hungry. The final output should look like this:\n",
    "\n",
    "`I have 3 dogs. \n",
    "Tom is 6. \n",
    "Fletcher is 7. \n",
    "Larry is 9. \n",
    "And they're all mammals, of course. \n",
    "My dogs are not hungry.\n",
    "`\n",
    "\n",
    "```python\n",
    "# Parent class\n",
    "class Dog:\n",
    "\n",
    "    # Class attribute\n",
    "    species = 'mammal'\n",
    "\n",
    "    # Initializer / Instance attributes\n",
    "    def __init__(self, name, age):\n",
    "        self.name = name\n",
    "        self.age = age\n",
    "\n",
    "    # instance method\n",
    "    def description(self):\n",
    "        return \"{} is {} years old\".format(self.name, self.age)\n",
    "\n",
    "    # instance method\n",
    "    def speak(self, sound):\n",
    "        return \"{} says {}\".format(self.name, sound)\n",
    "\n",
    "# Child class (inherits from Dog class)\n",
    "class RussellTerrier(Dog):\n",
    "    def run(self, speed):\n",
    "        return \"{} runs {}\".format(self.name, speed)\n",
    "\n",
    "# Child class (inherits from Dog class)\n",
    "class Bulldog(Dog):\n",
    "    def run(self, speed):\n",
    "        return \"{} runs {}\".format(self.name, speed)\n",
    "```"
   ]
  },
  {
   "cell_type": "code",
   "execution_count": 7,
   "metadata": {},
   "outputs": [],
   "source": [
    "# Parent class\n",
    "class Dog:\n",
    "\n",
    "    # Class attribute\n",
    "    species = 'mammal'\n",
    "\n",
    "    # Initializer / Instance attributes\n",
    "    def __init__(self, name, age):\n",
    "        self.name = name\n",
    "        self.age = age\n",
    "        self.hunger=True\n",
    "\n",
    "    # instance method\n",
    "    def description(self):\n",
    "        return \"{} is {} years old.\".format(self.name, self.age)\n",
    "\n",
    "    # instance method\n",
    "    def speak(self, sound):\n",
    "        return \"{} says {}\".format(self.name, sound)\n",
    "    \n",
    "    # instance method\n",
    "    def eat(self):\n",
    "        self.hunger=False\n",
    "\n",
    "\n",
    "# Child class (inherits from Dog class)\n",
    "class RussellTerrier(Dog):\n",
    "    def run(self, speed):\n",
    "        return \"{} runs {}\".format(self.name, speed)\n",
    "\n",
    "# Child class (inherits from Dog class)\n",
    "class Bulldog(Dog):\n",
    "    def run(self, speed):\n",
    "        return \"{} runs {}\".format(self.name, speed)\n",
    "\n",
    "# Child class (inherits from Dog class)\n",
    "class Husky(Dog):\n",
    "    def run(self, speed):\n",
    "        return \"{} runs {}\".format(self.name, speed)"
   ]
  },
  {
   "cell_type": "code",
   "execution_count": 8,
   "metadata": {},
   "outputs": [
    {
     "name": "stdout",
     "output_type": "stream",
     "text": [
      "I have 3 dogs.\n",
      "Tom is 6 years old.\n",
      "Larry is 7 years old.\n",
      "Fletcher is 9 years old.\n",
      "And they are all mammals, of course.\n",
      "My dogs are not hungry.\n"
     ]
    }
   ],
   "source": [
    "doglist=[]\n",
    "dog1=Bulldog(\"Tom\",6)\n",
    "doglist.append(dog1)\n",
    "dog2=RussellTerrier(\"Larry\",7)\n",
    "doglist.append(dog2)\n",
    "dog3=Husky(\"Fletcher\",9)\n",
    "doglist.append(dog3)\n",
    "\n",
    "print(\"I have\", len(doglist),\"dogs.\")\n",
    "for dog in doglist:\n",
    "    print(dog.description())\n",
    "print(\"And they are all\", Dog.species+ \"s, of course.\")\n",
    "hungercounter=0\n",
    "for dog in doglist:\n",
    "    if dog.hunger==True:\n",
    "        dog.eat()\n",
    "for dog in doglist:\n",
    "    if dog.hunger==True:\n",
    "        hungercounter=hungercounter+1\n",
    "if hungercounter==len(doglist):\n",
    "    print(\"My dogs are hungry\")\n",
    "if hungercounter==0:\n",
    "    print(\"My dogs are not hungry.\")\n",
    "        \n"
   ]
  },
  {
   "cell_type": "code",
   "execution_count": null,
   "metadata": {},
   "outputs": [],
   "source": []
  }
 ],
 "metadata": {
  "kernelspec": {
   "display_name": "Python 3",
   "language": "python",
   "name": "python3"
  },
  "language_info": {
   "codemirror_mode": {
    "name": "ipython",
    "version": 3
   },
   "file_extension": ".py",
   "mimetype": "text/x-python",
   "name": "python",
   "nbconvert_exporter": "python",
   "pygments_lexer": "ipython3",
   "version": "3.8.8"
  }
 },
 "nbformat": 4,
 "nbformat_minor": 2
}
