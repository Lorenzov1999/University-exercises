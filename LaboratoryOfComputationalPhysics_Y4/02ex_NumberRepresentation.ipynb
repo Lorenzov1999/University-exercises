{
 "cells": [
  {
   "cell_type": "markdown",
   "metadata": {},
   "source": [
    "1\\. Write a function that converts number representation (bin<->dec<->hex)"
   ]
  },
  {
   "cell_type": "code",
   "execution_count": 1,
   "metadata": {},
   "outputs": [
    {
     "name": "stdout",
     "output_type": "stream",
     "text": [
      "0b1000000010000\n"
     ]
    }
   ],
   "source": [
    "#from binary to decimal\n",
    "def bintodec(binn):\n",
    "    decn=0\n",
    "    for i in range(2,len(binn)):\n",
    "        if binn[i]=='1':\n",
    "            decn=decn+2**(len(binn)-i-1)\n",
    "    return decn\n",
    "\n",
    "#from hexadecimal to decimal\n",
    "def hextodec(hexn):\n",
    "    decn=0\n",
    "    for i in range(2,len(hexn)):\n",
    "        if hexn[i]=='1':\n",
    "            decn=decn+16**(len(hexn)-i-1)\n",
    "        if hexn[i]=='2':\n",
    "            decn=decn+2*16**(len(hexn)-i-1)\n",
    "        if hexn[i]=='3':\n",
    "            decn=decn+3*16**(len(hexn)-i-1)\n",
    "        if hexn[i]=='4':\n",
    "            decn=decn+4*16**(len(hexn)-i-1)\n",
    "        if hexn[i]=='5':\n",
    "            decn=decn+5*16**(len(hexn)-i-1)\n",
    "        if hexn[i]=='6':\n",
    "            decn=decn+6*16**(len(hexn)-i-1)\n",
    "        if hexn[i]=='7':\n",
    "            decn=decn+7*16**(len(hexn)-i-1)\n",
    "        if hexn[i]=='8':\n",
    "            decn=decn+8*16**(len(hexn)-i-1)\n",
    "        if hexn[i]=='9':\n",
    "            decn=decn+9*16**(len(hexn)-i-1)\n",
    "        if hexn[i]=='a':\n",
    "            decn=decn+10*16**(len(hexn)-i-1)\n",
    "        if hexn[i]=='b':\n",
    "            decn=decn+11*16**(len(hexn)-i-1)\n",
    "        if hexn[i]=='c':\n",
    "            decn=decn+12*16**(len(hexn)-i-1)\n",
    "        if hexn[i]=='d':\n",
    "            decn=decn+13*16**(len(hexn)-i-1)\n",
    "        if hexn[i]=='e':\n",
    "            decn=decn+14*16**(len(hexn)-i-1)\n",
    "        if hexn[i]=='f':\n",
    "            decn=decn+15*16**(len(hexn)-i-1)\n",
    "    return decn\n",
    "\n",
    "#from decimal to binary\n",
    "def dectobin(decn):\n",
    "    quoz=decn\n",
    "    rest=0\n",
    "    binn=''\n",
    "    if decn==0:\n",
    "        binn='0b0'\n",
    "    else:\n",
    "        while quoz>=2:\n",
    "            rest=quoz%2\n",
    "            quoz=quoz//2\n",
    "            if rest==0:\n",
    "                binn='0'+binn\n",
    "            if rest==1:\n",
    "                binn='1'+binn\n",
    "        binn='0b1'+binn\n",
    "    return binn\n",
    "\n",
    "#from decimal to hexadecimal\n",
    "def dectohex(decn):\n",
    "    quoz=decn\n",
    "    rest=0\n",
    "    hexn=''\n",
    "    if decn==0:\n",
    "        hexn='0x0'\n",
    "    else:\n",
    "        while quoz>=16:\n",
    "            rest=quoz%16\n",
    "            quoz=quoz//16\n",
    "            if rest==0:\n",
    "                hexn='0'+hexn\n",
    "            if rest==1:\n",
    "                hexn='1'+hexn\n",
    "            if rest==2:\n",
    "                hexn='2'+hexn\n",
    "            if rest==3:\n",
    "                hexn='3'+hexn\n",
    "            if rest==4:\n",
    "                hexn='4'+hexn\n",
    "            if rest==5:\n",
    "                hexn='5'+hexn\n",
    "            if rest==6:\n",
    "                hexn='6'+hexn\n",
    "            if rest==7:\n",
    "                hexn='7'+hexn\n",
    "            if rest==8:\n",
    "                hexn='8'+hexn\n",
    "            if rest==9:\n",
    "                hexn='9'+hexn\n",
    "            if rest==10:\n",
    "                hexn='a'+hexn\n",
    "            if rest==11:\n",
    "                hexn='b'+hexn\n",
    "            if rest==12:\n",
    "                hexn='c'+hexn\n",
    "            if rest==13:\n",
    "                hexn='d'+hexn\n",
    "            if rest==14:\n",
    "                hexn='e'+hexn\n",
    "            if rest==15:\n",
    "                hexn='f'+hexn    \n",
    "        if quoz==0:\n",
    "             hexn='0'+hexn\n",
    "        if quoz==1:\n",
    "            hexn='1'+hexn\n",
    "        if quoz==2:\n",
    "            hexn='2'+hexn\n",
    "        if quoz==3:\n",
    "            hexn='3'+hexn\n",
    "        if quoz==4:\n",
    "            hexn='4'+hexn\n",
    "        if quoz==5:\n",
    "            hexn='5'+hexn\n",
    "        if quoz==6:\n",
    "            hexn='6'+hexn\n",
    "        if quoz==7:\n",
    "            hexn='7'+hexn\n",
    "        if quoz==8:\n",
    "            hexn='8'+hexn\n",
    "        if quoz==9:\n",
    "            hexn='9'+hexn\n",
    "        if quoz==10:\n",
    "            hexn='a'+hexn\n",
    "        if quoz==11:\n",
    "            hexn='b'+hexn\n",
    "        if quoz==12:\n",
    "            hexn='c'+hexn\n",
    "        if quoz==13:\n",
    "            hexn='d'+hexn\n",
    "        if quoz==14:\n",
    "            hexn='e'+hexn\n",
    "        if quoz==15:\n",
    "            hexn='f'+hexn\n",
    "        hexn='ox'+hexn\n",
    "    return hexn\n",
    "    \n",
    "\n",
    "#put together\n",
    "def basechange (n,startbase, endbase):\n",
    "    if endbase==2:\n",
    "        if startbase==10:\n",
    "            return dectobin(n)\n",
    "        if startbase==16:\n",
    "            return dectobin(hextodec(n))\n",
    "    if endbase==16:\n",
    "        if startbase==10:\n",
    "            return dectohex(n)\n",
    "        if startbase==2:\n",
    "            return dectohex(bintodec(n))\n",
    "    if endbase==10:\n",
    "        if startbase==2:\n",
    "            return bintodec(n)\n",
    "        if startbase==16:\n",
    "            return hextodec(n)\n",
    "        \n",
    "#To mimic at the best the functions bin, hex, int, \n",
    "#changebase requires/accepts in input/output numbers in the following formats:\n",
    "#decimal: integer\n",
    "#binary: string (preceded by '0b')\n",
    "#hexadecimal: string (preceded by '0x')\n",
    "\n",
    "print(basechange('0b1010',16,2))"
   ]
  },
  {
   "cell_type": "markdown",
   "metadata": {},
   "source": [
    "2\\. Write a function that converts a 32 bit word into a single precision floating point (i.e. interprets the various bits as sign, mantissa and exponent)"
   ]
  },
  {
   "cell_type": "code",
   "execution_count": 2,
   "metadata": {},
   "outputs": [
    {
     "name": "stdout",
     "output_type": "stream",
     "text": [
      "sgn= 1\n",
      "exponent-127= -126\n",
      "mantissa+1= 1.75\n",
      "-2.0571151139390031e-38\n"
     ]
    }
   ],
   "source": [
    "def floater(x):\n",
    "    sgn=int(x[0])\n",
    "    print(\"sgn=\",sgn)\n",
    "    exponent=int(x[1:9],2)-127\n",
    "    print(\"exponent-127=\",exponent)\n",
    "    mantissa=0\n",
    "    for i in range (1,18):\n",
    "        mantissa=mantissa+int(x[i+8])/(2**i)\n",
    "    print(\"mantissa+1=\",mantissa+1)\n",
    "    float=((-1)**sgn)*(1+mantissa)*((2)**exponent)\n",
    "    print(float)\n",
    "floater(str(100000001110000000000000000))"
   ]
  },
  {
   "cell_type": "markdown",
   "metadata": {},
   "source": [
    "3\\. Write a program to determine the underflow and overflow limits (within a factor of 2) for python on your computer. \n",
    "\n",
    "**Tips**: define two variables inizialized to 1 and halve/double them enough time to exceed the under/over-flow limits  "
   ]
  },
  {
   "cell_type": "code",
   "execution_count": 3,
   "metadata": {},
   "outputs": [
    {
     "name": "stdout",
     "output_type": "stream",
     "text": [
      "The overflow limit is about:\n"
     ]
    },
    {
     "data": {
      "text/plain": [
       "8.98846567431158e+307"
      ]
     },
     "execution_count": 3,
     "metadata": {},
     "output_type": "execute_result"
    }
   ],
   "source": [
    "#overflow (for a float)\n",
    "def overflower():\n",
    "    num=1.0\n",
    "    a=0\n",
    "    while num != 0:\n",
    "        if num!=float(\"inf\"):\n",
    "            a=num\n",
    "            num=num*2\n",
    "        else:\n",
    "            break\n",
    "    return a\n",
    "\n",
    "print(\"The overflow limit is about:\")\n",
    "overflower()\n"
   ]
  },
  {
   "cell_type": "code",
   "execution_count": 4,
   "metadata": {},
   "outputs": [
    {
     "name": "stdout",
     "output_type": "stream",
     "text": [
      "The underflow limit is about:\n"
     ]
    },
    {
     "data": {
      "text/plain": [
       "5e-324"
      ]
     },
     "execution_count": 4,
     "metadata": {},
     "output_type": "execute_result"
    }
   ],
   "source": [
    "#underflow\n",
    "\n",
    "def underflower():\n",
    "    num=1.0\n",
    "    a=0\n",
    "    while num != 0:\n",
    "        if num!=float(\"inf\"):\n",
    "            a=num\n",
    "            num=num/2\n",
    "        else:\n",
    "            break\n",
    "    return a\n",
    "\n",
    "print(\"The underflow limit is about:\")\n",
    "underflower()\n"
   ]
  },
  {
   "cell_type": "markdown",
   "metadata": {},
   "source": [
    "4\\. Write a program to determine the machine precision\n",
    "\n",
    "**Tips**: define a new variable by adding a smaller and smaller value (proceeding similarly to prob. 2) to an original variable and check the point where the two are the same "
   ]
  },
  {
   "cell_type": "code",
   "execution_count": 7,
   "metadata": {},
   "outputs": [
    {
     "name": "stdout",
     "output_type": "stream",
     "text": [
      "The max precision is 2^( -55 )\n"
     ]
    }
   ],
   "source": [
    "a=1\n",
    "b=0\n",
    "for i in range (1,250):\n",
    "    if a==b:\n",
    "        print(\"The max precision is 2^(\",-i,\")\")\n",
    "        break\n",
    "    else:\n",
    "        k=2**(-i)\n",
    "        b=b+k\n"
   ]
  },
  {
   "cell_type": "markdown",
   "metadata": {},
   "source": [
    "5\\. Write a function that takes in input three parameters $a$, $b$ and $c$ and prints out the two solutions to the quadratic equation $ax^2+bx+c=0$ using the standard formula:\n",
    "$$\n",
    "x=\\frac{-b\\pm\\sqrt{b^2-4ac}}{2a}\n",
    "$$\n",
    "\n",
    "(a) use the program to compute the solution for $a=0.001$, $b=1000$ and $c=0.001$\n",
    "\n",
    "(b) re-express the standard solution formula by multiplying top and bottom by $-b\\mp\\sqrt{b^2-4ac}$ and again find the solution for $a=0.001$, $b=1000$ and $c=0.001$. How does it compare with what previously obtained? Why?\n",
    "\n",
    "(c) write a function that compute the roots of a quadratic equation accurately in all cases"
   ]
  },
  {
   "cell_type": "code",
   "execution_count": 8,
   "metadata": {},
   "outputs": [
    {
     "name": "stdout",
     "output_type": "stream",
     "text": [
      "The correct roots should be -999999.999999 -1.000000000001e-06\n",
      "-9.999894245993346e-07 -999999.999999\n",
      "-1.000000000001e-06 -1000010.5755125057\n",
      "Each one of the first two methods gives a good solution and an inaccurate one (due to the subtraction of close numbers, then, luckily, they are not the same solution). So, we can take from each method the best solution and use them in the third method, that, as we see, has an optimal precision.\n",
      "-999999.999999 -1.000000000001e-06\n"
     ]
    }
   ],
   "source": [
    "def roots_0(a,b,c):\n",
    "    x1=(-b+(b**2-4*a*c)**0.5)/(2*a)\n",
    "    x2=(-b-(b**2-4*a*c)**0.5)/(2*a)\n",
    "    print(x1, x2)\n",
    "\n",
    "def roots_1(a,b,c):\n",
    "    x1=2*c/((-b-(b**2-4*a*c)**0.5))\n",
    "    x2=2*c/((-b+(b**2-4*a*c)**0.5))\n",
    "    print(x1, x2)\n",
    "\n",
    "def roots_2(a,b,c):\n",
    "    x1=(-b-(b**2-4*a*c)**0.5)/(2*a)\n",
    "    x2=2*c/((-b-(b**2-4*a*c)**0.5))\n",
    "    print(x1, x2)\n",
    "\n",
    "\n",
    "from numpy import roots\n",
    "tworoots=roots([0.001,1000,0.001])\n",
    "print(\"The correct roots should be\",tworoots[0], tworoots[1])\n",
    "roots_0(0.001,1000,0.001)\n",
    "roots_1(0.001,1000,0.001) #This one has a differentoutput for the second root at at the10th decimal point\n",
    "print(\"Each one of the first two methods gives a good solution and an inaccurate one (due to the subtraction of close numbers, then, luckily, they are not the same solution). So, we can take from each method the best solution and use them in the third method, that, as we see, has an optimal precision.\")\n",
    "roots_2(0.001,1000,0.001) #This should be the most accurate one.\n"
   ]
  },
  {
   "cell_type": "markdown",
   "metadata": {},
   "source": [
    "6\\. Write a program that implements the function $f(x)=x(x−1)$\n",
    "\n",
    "(a) Calculate the derivative of the function at the point $x = 1$ using the derivative definition:\n",
    "\n",
    "$$\n",
    "\\frac{{\\rm d}f}{{\\rm d}x} = \\lim_{\\delta\\to0} \\frac{f(x+\\delta)-f(x)}{\\delta}\n",
    "$$\n",
    "\n",
    "with $\\delta = 10^{−2}$. Calculate the true value of the same derivative analytically and compare with the answer your program gives. The two will not agree perfectly. Why not?\n",
    "\n",
    "(b) Repeat the calculation for $\\delta = 10^{−4}, 10^{−6}, 10^{−8}, 10^{−10}, 10^{−12}$ and $10^{−14}$. How does the accuracy scales with $\\delta$?"
   ]
  },
  {
   "cell_type": "code",
   "execution_count": 9,
   "metadata": {},
   "outputs": [
    {
     "name": "stdout",
     "output_type": "stream",
     "text": [
      "1.010000000000001\n",
      "1.0000999999998899\n",
      "1.0000009999177333\n",
      "1.0000000039225287\n",
      "1.000000082840371\n",
      "1.0000889005833413\n",
      "0.9992007221626509\n",
      "The results gets better and better as delta approaches 10 to the minus 8, then decreases due to the roundment effects.\n"
     ]
    }
   ],
   "source": [
    "def derivative(func,x,i):\n",
    "    dxf=(func(x+10**(-2*i))-func(x))/10**-(2*i)\n",
    "    return(dxf)\n",
    "\n",
    "def f(y):\n",
    "    z=y*(y-1)\n",
    "    return z\n",
    "for i in range (1,8):\n",
    "    print(derivative(f,1,i))\n",
    "\n",
    "print(\"The results gets better and better as delta approaches 10 to the minus 8, then decreases due to the roundment effects.\")"
   ]
  },
  {
   "cell_type": "markdown",
   "metadata": {},
   "source": [
    "7\\. Consider the integral of the semicircle of radius 1:\n",
    "$$\n",
    "I=\\int_{-1}^{1} \\sqrt(1-x^2) {\\rm d}x\n",
    "$$\n",
    "which it's known to be $I=\\frac{\\pi}{2}=1.57079632679...$.\n",
    "Alternatively we can use the Riemann definition of the integral:\n",
    "$$\n",
    "I=\\lim_{N\\to\\infty} \\sum_{k=1}^{N} h y_k \n",
    "$$\n",
    "\n",
    "with $h=2/N$ the width of each of the $N$ slices the domain is divided into and where\n",
    "$y_k$ is the value of the function at the $k-$th slice.\n",
    "\n",
    "(a) Write a programe to compute the integral with $N=100$. How does the result compares to the true value?\n",
    "\n",
    "(b) How much can $N$ be increased if the computation needs to be run in less than a second? What is the gain in running it for 1 minute? \n"
   ]
  },
  {
   "cell_type": "code",
   "execution_count": 11,
   "metadata": {},
   "outputs": [
    {
     "name": "stdout",
     "output_type": "stream",
     "text": [
      "1.5691342555492505\n",
      "43.5 µs ± 547 ns per loop (mean ± std. dev. of 7 runs, 10000 loops each)\n",
      "1.570743738501071\n",
      "490 µs ± 23.4 µs per loop (mean ± std. dev. of 7 runs, 1000 loops each)\n",
      "1.570794663715291\n",
      "4.55 ms ± 171 µs per loop (mean ± std. dev. of 7 runs, 100 loops each)\n",
      "1.5707962742034223\n",
      "45.4 ms ± 781 µs per loop (mean ± std. dev. of 7 runs, 10 loops each)\n",
      "1.5707963251317274\n",
      "443 ms ± 5.39 ms per loop (mean ± std. dev. of 7 runs, 1 loop each)\n",
      "1.5707963267423612\n",
      "4.52 s ± 52.9 ms per loop (mean ± std. dev. of 7 runs, 1 loop each)\n",
      "1.570796326793284\n",
      "45.6 s ± 724 ms per loop (mean ± std. dev. of 7 runs, 1 loop each)\n",
      "The first result is the one with N=100. We can see that each step of the integration requires about 0.45 microseconds, so the integration time increases linearly with the number of steps. For this reason we can easily calculate the number of steps necessary for a particular integration time \n"
     ]
    }
   ],
   "source": [
    "def integrator(func, a, b, N):\n",
    "    step=(b-a)/N\n",
    "    progressivesum=0\n",
    "    for i in range (0,N):\n",
    "        x=a+step*i\n",
    "        progressivesum=progressivesum+func(x)*step\n",
    "    return progressivesum\n",
    "\n",
    "def f(x):\n",
    "    y=(1-x**2)**0.5\n",
    "    return y\n",
    "\n",
    "for i in range (2,9):   \n",
    "    print(integrator(f,-1,1,10**i))\n",
    "    %timeit integrator(f,-1,1,10**i)\n",
    "print(\"The first result is the one with N=100. We can see that each step of the integration requires about 0.45 microseconds, so the integration time increases linearly with the number of steps. For this reason we can easily calculate the number of steps necessary for a particular integration time \")\n"
   ]
  },
  {
   "cell_type": "code",
   "execution_count": 12,
   "metadata": {},
   "outputs": [
    {
     "name": "stdout",
     "output_type": "stream",
     "text": [
      "1.570796326285225\n",
      "999 ms ± 30.1 ms per loop (mean ± std. dev. of 7 runs, 1 loop each)\n"
     ]
    }
   ],
   "source": [
    "print(integrator(f,-1,1,(10**5)*22))\n",
    "%timeit integrator(f,-1,1,(10**5)*22)"
   ]
  },
  {
   "cell_type": "code",
   "execution_count": 13,
   "metadata": {},
   "outputs": [
    {
     "name": "stdout",
     "output_type": "stream",
     "text": [
      "The precision for less than 1 second is 5.096716382269051e-10\n"
     ]
    }
   ],
   "source": [
    "import numpy as np\n",
    "print(\"The precision for less than 1 second is\",(-integrator(f,-1,1,22*10**5)+np.pi/2))"
   ]
  },
  {
   "cell_type": "code",
   "execution_count": 14,
   "metadata": {},
   "outputs": [
    {
     "name": "stdout",
     "output_type": "stream",
     "text": [
      "1.570796326793847\n",
      "58.7 s ± 835 ms per loop (mean ± std. dev. of 7 runs, 1 loop each)\n"
     ]
    }
   ],
   "source": [
    "print(integrator(f,-1,1,133*10**6))\n",
    "%timeit integrator(f,-1,1,133*10**6)"
   ]
  },
  {
   "cell_type": "code",
   "execution_count": 15,
   "metadata": {},
   "outputs": [
    {
     "name": "stdout",
     "output_type": "stream",
     "text": [
      "The precision for less than 1 minute is 1.049604847480623e-12\n"
     ]
    }
   ],
   "source": [
    "import numpy as np\n",
    "print(\"The precision for less than 1 minute is\",(-integrator(f,-1,1,133*10**6)+np.pi/2))"
   ]
  },
  {
   "cell_type": "markdown",
   "metadata": {},
   "source": [
    "A better way of doing the same thing is using the timing together with a cycle, until we compute the integral in the desired time."
   ]
  },
  {
   "cell_type": "code",
   "execution_count": 16,
   "metadata": {},
   "outputs": [
    {
     "name": "stdout",
     "output_type": "stream",
     "text": [
      "1.5707963267938208 59.97284507751465\n",
      "28\n"
     ]
    }
   ],
   "source": [
    "\n",
    "import time as time\n",
    "def integrator(func, a, b, N):\n",
    "    tstart=time.time()\n",
    "    step=(b-a)/N\n",
    "    progressivesum=0\n",
    "    for i in range (0,N):\n",
    "        x=a+step*i\n",
    "        progressivesum=progressivesum+func(x)*step\n",
    "    tend=time.time()\n",
    "    deltat=tend-tstart\n",
    "    return progressivesum, deltat\n",
    "\n",
    "def f(x):\n",
    "    y=(1-x**2)**0.5\n",
    "    return y\n",
    "\n",
    "t=0\n",
    "i=0\n",
    "value=0\n",
    "while t<=55:\n",
    "    value,t=integrator(f,-1,1,2**i)\n",
    "    i=i+1\n",
    "print(value,t)\n",
    "print(i)"
   ]
  },
  {
   "cell_type": "markdown",
   "metadata": {},
   "source": [
    "However this last value is just due to luck: we are increasing the number of steps much faster than what is necessary to get the desired densibility. The best way would be to increase the number of steps linearly (instead than esponentially) starting from a good guess of the number of steps (that we can take from the previous results). Sadly, doing this requires too much time to my computer."
   ]
  },
  {
   "cell_type": "code",
   "execution_count": null,
   "metadata": {},
   "outputs": [],
   "source": []
  }
 ],
 "metadata": {
  "kernelspec": {
   "display_name": "Python 3",
   "language": "python",
   "name": "python3"
  },
  "language_info": {
   "codemirror_mode": {
    "name": "ipython",
    "version": 3
   },
   "file_extension": ".py",
   "mimetype": "text/x-python",
   "name": "python",
   "nbconvert_exporter": "python",
   "pygments_lexer": "ipython3",
   "version": "3.8.8"
  }
 },
 "nbformat": 4,
 "nbformat_minor": 2
}
