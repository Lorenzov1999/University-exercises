{
 "cells": [
  {
   "cell_type": "markdown",
   "metadata": {},
   "source": [
    "1. The MickeyMouse problem\n",
    "\n",
    "a) Write a program that prints the numbers from 1 to 100. But for multiples of three print Mickey instead of the number and for the multiples of five print Mouse. For numbers which are multiples of both three and five print MickeyMouse\n",
    "\n",
    "b) Put the result in a tuple and substitute Mickey with Donald and Mouse with Duck"
   ]
  },
  {
   "cell_type": "code",
   "execution_count": 1,
   "metadata": {},
   "outputs": [
    {
     "name": "stdout",
     "output_type": "stream",
     "text": [
      "1\n",
      "2\n",
      "Mickey\n",
      "4\n",
      "Mouse\n",
      "Mickey\n",
      "7\n",
      "8\n",
      "Mickey\n",
      "Mouse\n",
      "11\n",
      "Mickey\n",
      "13\n",
      "14\n",
      "MickeyMouse\n",
      "16\n",
      "17\n",
      "Mickey\n",
      "19\n",
      "Mouse\n",
      "Mickey\n",
      "22\n",
      "23\n",
      "Mickey\n",
      "Mouse\n",
      "26\n",
      "Mickey\n",
      "28\n",
      "29\n",
      "MickeyMouse\n",
      "31\n",
      "32\n",
      "Mickey\n",
      "34\n",
      "Mouse\n",
      "Mickey\n",
      "37\n",
      "38\n",
      "Mickey\n",
      "Mouse\n",
      "41\n",
      "Mickey\n",
      "43\n",
      "44\n",
      "MickeyMouse\n",
      "46\n",
      "47\n",
      "Mickey\n",
      "49\n",
      "Mouse\n",
      "Mickey\n",
      "52\n",
      "53\n",
      "Mickey\n",
      "Mouse\n",
      "56\n",
      "Mickey\n",
      "58\n",
      "59\n",
      "MickeyMouse\n",
      "61\n",
      "62\n",
      "Mickey\n",
      "64\n",
      "Mouse\n",
      "Mickey\n",
      "67\n",
      "68\n",
      "Mickey\n",
      "Mouse\n",
      "71\n",
      "Mickey\n",
      "73\n",
      "74\n",
      "MickeyMouse\n",
      "76\n",
      "77\n",
      "Mickey\n",
      "79\n",
      "Mouse\n",
      "Mickey\n",
      "82\n",
      "83\n",
      "Mickey\n",
      "Mouse\n",
      "86\n",
      "Mickey\n",
      "88\n",
      "89\n",
      "MickeyMouse\n",
      "91\n",
      "92\n",
      "Mickey\n",
      "94\n",
      "Mouse\n",
      "Mickey\n",
      "97\n",
      "98\n",
      "Mickey\n",
      "Mouse\n",
      "(1, 2, 'Donald', 4, 'Duck', 'Donald', 7, 8, 'Donald', 'Duck', 11, 'Donald', 13, 14, 'DonaldDuck', 16, 17, 'Donald', 19, 'Duck', 'Donald', 22, 23, 'Donald', 'Duck', 26, 'Donald', 28, 29, 'DonaldDuck', 31, 32, 'Donald', 34, 'Duck', 'Donald', 37, 38, 'Donald', 'Duck', 41, 'Donald', 43, 44, 'DonaldDuck', 46, 47, 'Donald', 49, 'Duck', 'Donald', 52, 53, 'Donald', 'Duck', 56, 'Donald', 58, 59, 'DonaldDuck', 61, 62, 'Donald', 64, 'Duck', 'Donald', 67, 68, 'Donald', 'Duck', 71, 'Donald', 73, 74, 'DonaldDuck', 76, 77, 'Donald', 79, 'Duck', 'Donald', 82, 83, 'Donald', 'Duck', 86, 'Donald', 88, 89, 'DonaldDuck', 91, 92, 'Donald', 94, 'Duck', 'Donald', 97, 98, 'Donald', 'Duck')\n"
     ]
    }
   ],
   "source": [
    "def counter (number):\n",
    "    if number%15==0: return c\n",
    "    elif number%5==0: return b\n",
    "    elif number%3==0: return a\n",
    "    else: return number\n",
    "    \n",
    "a=\"Mickey\"\n",
    "b=\"Mouse\"\n",
    "c=\"MickeyMouse\"\n",
    "for i in range (1,101): print(counter(i))\n",
    "a=\"Donald\"\n",
    "b=\"Duck\"\n",
    "c=\"DonaldDuck\"\n",
    "a_tuple=()\n",
    "for i in range (1,101): \n",
    "    a_tuple=a_tuple+(counter(i),)\n",
    "print(a_tuple)"
   ]
  },
  {
   "cell_type": "markdown",
   "metadata": {},
   "source": [
    "2\\. The swap function\n",
    "\n",
    "Write a function that swap the values of two input variables x and y (whatever the type). Try to do that also without a temporary variable"
   ]
  },
  {
   "cell_type": "code",
   "execution_count": 2,
   "metadata": {},
   "outputs": [
    {
     "name": "stdout",
     "output_type": "stream",
     "text": [
      "set the value of a 2\n",
      "set the value of b 1\n",
      "a and b were 2 and 1\n",
      "now a and b are 1 and 2\n"
     ]
    }
   ],
   "source": [
    "def swapper(x,y):\n",
    "    return y,x\n",
    "\n",
    "a=input(\"set the value of a \")\n",
    "b=input(\"set the value of b \")\n",
    "a,b = swapper(a,b)\n",
    "print (\"a and b were\", b,\"and\",a)\n",
    "print (\"now a and b are\", a,\"and\",b)"
   ]
  },
  {
   "cell_type": "markdown",
   "metadata": {},
   "source": [
    "3\\. Computing the distance\n",
    "\n",
    "Write a function that calculates and returns the euclidean distance between two points *u* and *v*, where *u* and *v* are both 2-tuples *(x,y)*. For example, if *u=(3,0)* and *v=(0,4)*, the function should return 5"
   ]
  },
  {
   "cell_type": "code",
   "execution_count": 3,
   "metadata": {},
   "outputs": [
    {
     "name": "stdout",
     "output_type": "stream",
     "text": [
      "set the value of a (2,1)\n",
      "set the value of b (3,4)\n",
      "[2.0, 1.0] [3.0, 4.0]\n",
      "d(a,b)= 3.16\n"
     ]
    }
   ],
   "source": [
    "import numpy as np\n",
    "def distance(x,y):\n",
    "    d = np.sqrt((x[0]-y[0])**2+(x[1]-y[1])**2)\n",
    "    return d\n",
    "\n",
    "\n",
    "a=input(\"set the value of a \")\n",
    "b=input(\"set the value of b \")\n",
    "\n",
    "#The inputs were gotten as strings, with the following blocks we transform them in lists.\n",
    "a = a.replace(\"(\",\"\")\n",
    "a = a.replace(\")\",\"\")\n",
    "a = a.split(\",\")\n",
    "a = [float(x) for x in a]\n",
    "\n",
    "b = b.replace(\"(\",\"\")\n",
    "b = b.replace(\")\",\"\")\n",
    "b = b.split(\",\")\n",
    "b = [float(x) for x in b]\n",
    "\n",
    "print(a,b)\n",
    "d=distance(a,b)\n",
    "print (\"d(a,b)= %.2f\" % d)"
   ]
  },
  {
   "cell_type": "markdown",
   "metadata": {},
   "source": [
    "4\\. Counting letters\n",
    "\n",
    "Write a program to calculate the number of times each character occurs in a given string *s*. Ignore differneces in capitalization"
   ]
  },
  {
   "cell_type": "code",
   "execution_count": 4,
   "metadata": {},
   "outputs": [
    {
     "name": "stdout",
     "output_type": "stream",
     "text": [
      "[['w', 2], ['r', 17], ['i', 14], ['t', 19], ['e', 22], [' ', 41], ['a', 7], ['p', 8], ['o', 13], ['g', 1], ['m', 12], ['h', 9], ['n', 10], ['s', 9], ['u', 9], ['b', 5], ['f', 10], ['1', 2], ['0', 2], ['.', 2], ['l', 6], ['c', 3], ['k', 2], ['y', 2], ['d', 3], ['v', 2]]\n"
     ]
    }
   ],
   "source": [
    "s=\"Write a program that prints the numbers from 1 to 100. \\\n",
    "But for multiples of three print Mickey instead of the number and for the multiples of five print Mouse. \\\n",
    "For numbers which are multiples of both three and five print MickeyMouse\"\n",
    "count_list=[]\n",
    "counted_list=[]\n",
    "s=s.lower()\n",
    "for i in s:\n",
    "    if not counted_list.count(i) >= 1:\n",
    "        count_list.append([i,s.count(i)])\n",
    "        counted_list.append(i)\n",
    "print (count_list)\n"
   ]
  },
  {
   "cell_type": "markdown",
   "metadata": {},
   "source": [
    "5\\. Isolating the unique\n",
    "\n",
    "Write a function that determines and count the unique numbers in the list *l*"
   ]
  },
  {
   "cell_type": "code",
   "execution_count": 5,
   "metadata": {},
   "outputs": [
    {
     "name": "stdout",
     "output_type": "stream",
     "text": [
      "There are 43 repeated numbers, and 37 unique numbers, which are [58, 74, 96, 64, 10, 24, 19, 33, 86, 99, 18, 47, 88, 55, 54, 8, 79, 81, 57, 37, 1, 9, 95, 90, 98, 39, 16, 82, 92, 41, 30, 94, 5, 72, 87, 75, 53]\n"
     ]
    }
   ],
   "source": [
    "l = [36, 45, 58, 3, 74, 96, 64, 45, 31, 10, 24, 19, 33, 86, 99, 18, 63, 70, 85,\n",
    " 85, 63, 47, 56, 42, 70, 84, 88, 55, 20, 54, 8, 56, 51, 79, 81, 57, 37, 91,\n",
    " 1, 84, 84, 36, 66, 9, 89, 50, 42, 91, 50, 95, 90, 98, 39, 16, 82, 31, 92, 41,\n",
    " 45, 30, 66, 70, 34, 85, 94, 5, 3, 36, 72, 91, 84, 34, 87, 75, 53, 51, 20, 89, 51, 20]\n",
    "\n",
    "def unifinder(set):\n",
    "    uni_list=[]\n",
    "    repeated_list=[]\n",
    "    for i in range (0,len(set)):\n",
    "        k=0\n",
    "        for j in range (0,len(set)):\n",
    "            if set[i]==set[j]:\n",
    "                k=k+1\n",
    "        if k==1:\n",
    "            uni_list.append(set[i])\n",
    "        else:\n",
    "            repeated_list.append(set[i])\n",
    "    return uni_list, repeated_list\n",
    "\n",
    "unique,repeated=unifinder(l)\n",
    "\n",
    "print(\"There are\",len(repeated),\"repeated numbers, and\",len(unique),\"unique numbers, which are\", unique)"
   ]
  },
  {
   "cell_type": "markdown",
   "metadata": {},
   "source": [
    "6\\. Combination of functions\n",
    "\n",
    "Write two functions - one that returns the square of a number, and one that returns the cube. Now write a third function that returns the number raised to the 6th power using the two previous functions."
   ]
  },
  {
   "cell_type": "code",
   "execution_count": 6,
   "metadata": {},
   "outputs": [
    {
     "name": "stdout",
     "output_type": "stream",
     "text": [
      "9 27 729\n"
     ]
    }
   ],
   "source": [
    "def square(x):\n",
    "    return x**2\n",
    "\n",
    "def cube(x):\n",
    "    return x**3\n",
    "\n",
    "def sixthpow(x):\n",
    "    return cube(square(x))\n",
    "a = 3\n",
    "#al posto della riga precedente vorrei: a=input(\"set the value of a \")\n",
    "b = square(a)\n",
    "c = cube(a)\n",
    "d = sixthpow(a)\n",
    "print (b,c,d)"
   ]
  },
  {
   "cell_type": "markdown",
   "metadata": {},
   "source": [
    "7\\. Cubes\n",
    "\n",
    "Create a list of the cubes of x for x in *[0, 10]* using:\n",
    "\n",
    "a) a for loop\n",
    "\n",
    "b) a list comprehension"
   ]
  },
  {
   "cell_type": "code",
   "execution_count": 7,
   "metadata": {},
   "outputs": [
    {
     "name": "stdout",
     "output_type": "stream",
     "text": [
      "[0, 1, 8, 27, 64, 125, 216, 343, 512, 729, 1000] [0, 1, 8, 27, 64, 125, 216, 343, 512, 729, 1000]\n"
     ]
    }
   ],
   "source": [
    "cubes_list1=[]\n",
    "for i in range(0,11):\n",
    "    cubes_list1.append(i**3)\n",
    "    \n",
    "cubes_list2=[i**3 for i in range(0,11)]\n",
    "\n",
    "print (cubes_list1,cubes_list2)"
   ]
  },
  {
   "cell_type": "markdown",
   "metadata": {},
   "source": [
    "8\\. Nested list comprehension\n",
    "\n",
    "A Pythagorean triple is an integer solution to the Pythagorean theorem $a^2+b^2=c^2$. The first Pythagorean triple is (3,4,5). Find and put in a tuple all unique Pythagorean triples for the positive integers a, b and c less than 100."
   ]
  },
  {
   "cell_type": "code",
   "execution_count": 8,
   "metadata": {},
   "outputs": [
    {
     "name": "stdout",
     "output_type": "stream",
     "text": [
      "Number of triples:\n",
      "50\n",
      "The triples are:\n",
      "((3, 4, 5), (6, 8, 10), (5, 12, 13), (9, 12, 15), (8, 15, 17), (12, 16, 20), (15, 20, 25), (7, 24, 25), (10, 24, 26), (20, 21, 29), (18, 24, 30), (16, 30, 34), (21, 28, 35), (12, 35, 37), (15, 36, 39), (24, 32, 40), (9, 40, 41), (27, 36, 45), (30, 40, 50), (14, 48, 50), (24, 45, 51), (20, 48, 52), (28, 45, 53), (33, 44, 55), (40, 42, 58), (36, 48, 60), (11, 60, 61), (39, 52, 65), (33, 56, 65), (25, 60, 65), (16, 63, 65), (32, 60, 68), (42, 56, 70), (48, 55, 73), (24, 70, 74), (45, 60, 75), (21, 72, 75), (30, 72, 78), (48, 64, 80), (18, 80, 82), (51, 68, 85), (40, 75, 85), (36, 77, 85), (13, 84, 85), (60, 63, 87), (39, 80, 89), (54, 72, 90), (35, 84, 91), (57, 76, 95), (65, 72, 97))\n"
     ]
    }
   ],
   "source": [
    "triple_tuple=()\n",
    "i=1\n",
    "for a in range (1,100):\n",
    "    for b in range (1,a+1):\n",
    "        for c in range (1,b+1):\n",
    "            if a**2==b**2+c**2:\n",
    "                i=i+1\n",
    "                triple_tuple=triple_tuple+((c,b,a),)\n",
    "                break\n",
    "print(\"Number of triples:\")\n",
    "print(len(triple_tuple))\n",
    "print(\"The triples are:\")\n",
    "print(triple_tuple)\n",
    "                "
   ]
  },
  {
   "cell_type": "markdown",
   "metadata": {},
   "source": [
    "9\\. Normalization\n",
    "\n",
    "Write a function that takes a tuple of numbers and returns it with the entries normalized to one"
   ]
  },
  {
   "cell_type": "code",
   "execution_count": 9,
   "metadata": {},
   "outputs": [
    {
     "name": "stdout",
     "output_type": "stream",
     "text": [
      "the normalized vector is: (0.6804138174397717, 0.2721655269759087, 0.408248290463863, 0.5443310539518174)\n",
      "the normalized rounded vector is: (0.680, 0.272, 0.408, 0.544)\n"
     ]
    }
   ],
   "source": [
    "def normalizer(vector):\n",
    "    unitvector=()\n",
    "    scalarp=0\n",
    "    for i in range (0,len(vector)):\n",
    "        scalarp=scalarp+vector[i]**2\n",
    "    for i in range (0,len(vector)):\n",
    "        unitvector=unitvector+(vector[i]/scalarp**0.5,)\n",
    "    return unitvector\n",
    "\n",
    "randomvector=(5,2,3,4)\n",
    "\n",
    "print (\"the normalized vector is:\",normalizer(randomvector))\n",
    "\n",
    "print (\"the normalized rounded vector is: (%0.3f, %0.3f, %0.3f, %0.3f)\"% normalizer((5,2,3,4)))"
   ]
  },
  {
   "cell_type": "code",
   "execution_count": null,
   "metadata": {},
   "outputs": [],
   "source": []
  }
 ],
 "metadata": {
  "kernelspec": {
   "display_name": "Python 3",
   "language": "python",
   "name": "python3"
  },
  "language_info": {
   "codemirror_mode": {
    "name": "ipython",
    "version": 3
   },
   "file_extension": ".py",
   "mimetype": "text/x-python",
   "name": "python",
   "nbconvert_exporter": "python",
   "pygments_lexer": "ipython3",
   "version": "3.8.8"
  }
 },
 "nbformat": 4,
 "nbformat_minor": 2
}
