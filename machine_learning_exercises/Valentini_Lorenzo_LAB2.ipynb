{
 "cells": [
  {
   "cell_type": "markdown",
   "metadata": {},
   "source": [
    "# Kuzushiji Classification with Support Vector Machines\n",
    "\n",
    "In this notebook we are going to explore the use of Support Vector Machines (SVM) for image classification. We will use a variant of the famous MNIST dataset (the original is a dataset of handwritten digits). The version we are going to use is called Kuzushiji-MNIST or K-MNIST for short (https://github.com/rois-codh/kmnist) and is a dataset of traditional japanese handwritten kana.\n",
    "\n",
    "\n",
    "\n",
    "The dataset labels are the following:\n",
    "\n",
    "| Label | Hiragana Character | Romanji (Pronunciation) |\n",
    "| :-: | :-: | :-: |\n",
    "|   0   | お | o |\n",
    "| 1 | き | ki |\n",
    "| 2 | す | su |\n",
    "| 3 | つ | tsu |\n",
    "| 4 | な | na |\n",
    "| 5 | は | ha |\n",
    "| 6 | ま | ma |\n",
    "| 7 | や | ya |\n",
    "| 8 | れ | re |\n",
    "| 9 | を | wo |"
   ]
  },
  {
   "cell_type": "markdown",
   "metadata": {},
   "source": [
    "## TODO: Insert your surname, name and ID number\n",
    "\n",
    "Student surname: Valentini\n",
    "\n",
    "Student name: Lorenzo\n",
    "    \n",
    "ID: 1187687"
   ]
  },
  {
   "cell_type": "code",
   "execution_count": 21,
   "metadata": {},
   "outputs": [],
   "source": [
    "#load the required packages\n",
    "\n",
    "%matplotlib inline  \n",
    "import pandas as pd\n",
    "import numpy as np\n",
    "import scipy as sp\n",
    "import matplotlib.pyplot as plt\n",
    "import sklearn\n",
    "import sklearn.metrics as skm\n",
    "import seaborn as sns\n",
    "from sklearn import linear_model\n",
    "from sklearn.datasets import fetch_openml\n",
    "from sklearn.neural_network import MLPClassifier\n",
    "from sklearn.decomposition import PCA\n",
    "from sklearn.svm import SVC\n",
    "from sklearn import metrics\n",
    "from sklearn.model_selection import GridSearchCV\n",
    "from sklearn.metrics import classification_report, confusion_matrix, ConfusionMatrixDisplay\n",
    "from IPython.display import display, HTML"
   ]
  },
  {
   "cell_type": "code",
   "execution_count": 22,
   "metadata": {},
   "outputs": [],
   "source": [
    "# helper function to load Kuzushiji-MNIST dataset\n",
    "def load_mnist(path, kind='train'):\n",
    "    import os\n",
    "    import gzip\n",
    "    import numpy as np\n",
    "    labels_path = os.path.join(path, 'K%s-labels-idx1-ubyte.gz' % kind)\n",
    "    images_path = os.path.join(path, 'K%s-images-idx3-ubyte.gz' % kind)\n",
    "    with gzip.open(labels_path, 'rb') as lbpath:\n",
    "        labels = np.frombuffer(lbpath.read(), dtype=np.uint8,offset=8)\n",
    "    with gzip.open(images_path, 'rb') as imgpath:\n",
    "        images = np.frombuffer(imgpath.read(), dtype=np.uint8,offset=16).reshape(len(labels), 784)\n",
    "    return images, labels"
   ]
  },
  {
   "cell_type": "code",
   "execution_count": 23,
   "metadata": {},
   "outputs": [],
   "source": [
    "#fix your ID (\"numero di matricola\") and the seed for random generator (as usual you can try different seeds)\n",
    "ID = 1187687\n",
    "np.random.seed(ID)"
   ]
  },
  {
   "cell_type": "code",
   "execution_count": 24,
   "metadata": {},
   "outputs": [
    {
     "name": "stdout",
     "output_type": "stream",
     "text": [
      "(60000, 784) (60000,)\n"
     ]
    }
   ],
   "source": [
    "#load the K-MNIST dataset from the 'data' folder and let's normalize the features so that each value is in [0,1] \n",
    "\n",
    "X, y = load_mnist('data', kind='train')\n",
    "# rescale the data\n",
    "X, y = X / 255., y # original pixel values are between 0 and 255\n",
    "print(X.shape, y.shape)"
   ]
  },
  {
   "cell_type": "markdown",
   "metadata": {},
   "source": [
    "Now split into training and test. Make sure that each label is present at least 10 times\n",
    "in training. If it is not, then keep adding permutations to the initial data until this \n",
    "happens."
   ]
  },
  {
   "cell_type": "code",
   "execution_count": 25,
   "metadata": {},
   "outputs": [
    {
     "name": "stdout",
     "output_type": "stream",
     "text": [
      "Labels in training dataset:  [0 1 2 3 4 5 6 7 8 9]\n",
      "Frequencies in training dataset:  [52 53 49 63 55 58 57 81 64 68]\n",
      "Frequencies in test dataset:  [376 418 365 394 393 401 396 427 421 409]\n"
     ]
    }
   ],
   "source": [
    "# Random permute the data and split into training and test taking the first 600\n",
    "# data samples as training and 4000 samples as test\n",
    "permutation = np.random.permutation(X.shape[0])\n",
    "\n",
    "X = X[permutation]\n",
    "y = y[permutation]\n",
    "\n",
    "m_training = 600\n",
    "m_test = 4000\n",
    "\n",
    "X_train, X_test = X[:m_training], X[m_training:m_training+m_test:]\n",
    "y_train, y_test = y[:m_training], y[m_training:m_training+m_test:]\n",
    "\n",
    "labels, freqs = np.unique(y_train, return_counts=True)\n",
    "test_labels, test_freqs = np.unique(y_test, return_counts=True)\n",
    "print(\"Labels in training dataset: \", labels)\n",
    "print(\"Frequencies in training dataset: \", freqs)\n",
    "print(\"Frequencies in test dataset: \", test_freqs)\n"
   ]
  },
  {
   "cell_type": "code",
   "execution_count": 26,
   "metadata": {},
   "outputs": [],
   "source": [
    "#function for plotting a image and printing the corresponding label\n",
    "def plot_input(X_matrix, labels, index):\n",
    "    print(\"INPUT:\")\n",
    "    plt.imshow(\n",
    "        X_matrix[index].reshape(28,28),\n",
    "        cmap          = plt.cm.gray_r,\n",
    "        interpolation = \"nearest\"\n",
    "    )\n",
    "    plt.show()\n",
    "    print(\"LABEL: %i\"%labels[index])\n",
    "    return"
   ]
  },
  {
   "cell_type": "code",
   "execution_count": 27,
   "metadata": {},
   "outputs": [
    {
     "name": "stdout",
     "output_type": "stream",
     "text": [
      "INPUT:\n"
     ]
    },
    {
     "data": {
      "image/png": "[encoded data removed]",
      "text/plain": [
       "<Figure size 432x288 with 1 Axes>"
      ]
     },
     "metadata": {
      "needs_background": "light"
     },
     "output_type": "display_data"
    },
    {
     "name": "stdout",
     "output_type": "stream",
     "text": [
      "LABEL: 9\n",
      "INPUT:\n"
     ]
    },
    {
     "data": {
      "image/png": "[encoded data removed]",
      "text/plain": [
       "<Figure size 432x288 with 1 Axes>"
      ]
     },
     "metadata": {
      "needs_background": "light"
     },
     "output_type": "display_data"
    },
    {
     "name": "stdout",
     "output_type": "stream",
     "text": [
      "LABEL: 1\n",
      "INPUT:\n"
     ]
    },
    {
     "data": {
      "image/png": "[encoded data removed]",
      "text/plain": [
       "<Figure size 432x288 with 1 Axes>"
      ]
     },
     "metadata": {
      "needs_background": "light"
     },
     "output_type": "display_data"
    },
    {
     "name": "stdout",
     "output_type": "stream",
     "text": [
      "LABEL: 3\n",
      "INPUT:\n"
     ]
    },
    {
     "data": {
      "image/png": "[encoded data removed]",
      "text/plain": [
       "<Figure size 432x288 with 1 Axes>"
      ]
     },
     "metadata": {
      "needs_background": "light"
     },
     "output_type": "display_data"
    },
    {
     "name": "stdout",
     "output_type": "stream",
     "text": [
      "LABEL: 7\n"
     ]
    }
   ],
   "source": [
    "#let's try the plotting function\n",
    "plot_input(X_train,y_train,5)\n",
    "plot_input(X_test,y_test,50)\n",
    "plot_input(X_test,y_test,500)\n",
    "plot_input(X_test,y_test,700)"
   ]
  },
  {
   "cell_type": "markdown",
   "metadata": {},
   "source": [
    "## TO DO 1\n",
    "Use a SVM classifier with cross validation to pick a model. Use a 4-fold cross-validation. Let's start with a Linear kernel:"
   ]
  },
  {
   "cell_type": "code",
   "execution_count": 28,
   "metadata": {},
   "outputs": [
    {
     "name": "stdout",
     "output_type": "stream",
     "text": [
      "RESULTS FOR LINEAR KERNEL\n",
      "Best parameters set found: {'C': 10}\n",
      "Score with best parameters 0.8383333333333333\n",
      "\n",
      "Scores on the grid:\n"
     ]
    },
    {
     "data": {
      "text/html": [
       "<table border=\"1\" class=\"dataframe\">\n",
       "  <thead>\n",
       "    <tr style=\"text-align: right;\">\n",
       "      <th></th>\n",
       "      <th>param_C</th>\n",
       "      <th>mean_test_score</th>\n",
       "    </tr>\n",
       "  </thead>\n",
       "  <tbody>\n",
       "    <tr>\n",
       "      <th>0</th>\n",
       "      <td>0.01</td>\n",
       "      <td>0.135000</td>\n",
       "    </tr>\n",
       "    <tr>\n",
       "      <th>1</th>\n",
       "      <td>0.1</td>\n",
       "      <td>0.136667</td>\n",
       "    </tr>\n",
       "    <tr>\n",
       "      <th>2</th>\n",
       "      <td>1</td>\n",
       "      <td>0.825000</td>\n",
       "    </tr>\n",
       "    <tr>\n",
       "      <th>3</th>\n",
       "      <td>10</td>\n",
       "      <td>0.838333</td>\n",
       "    </tr>\n",
       "  </tbody>\n",
       "</table>"
      ],
      "text/plain": [
       "<IPython.core.display.HTML object>"
      ]
     },
     "metadata": {},
     "output_type": "display_data"
    },
    {
     "name": "stdout",
     "output_type": "stream",
     "text": [
      "None\n",
      "\n",
      "Complete results:\n"
     ]
    },
    {
     "data": {
      "text/html": [
       "<table border=\"1\" class=\"dataframe\">\n",
       "  <thead>\n",
       "    <tr style=\"text-align: right;\">\n",
       "      <th></th>\n",
       "      <th>mean_fit_time</th>\n",
       "      <th>std_fit_time</th>\n",
       "      <th>mean_score_time</th>\n",
       "      <th>std_score_time</th>\n",
       "      <th>param_C</th>\n",
       "      <th>params</th>\n",
       "      <th>split0_test_score</th>\n",
       "      <th>split1_test_score</th>\n",
       "      <th>split2_test_score</th>\n",
       "      <th>split3_test_score</th>\n",
       "      <th>split4_test_score</th>\n",
       "      <th>mean_test_score</th>\n",
       "      <th>std_test_score</th>\n",
       "      <th>rank_test_score</th>\n",
       "    </tr>\n",
       "  </thead>\n",
       "  <tbody>\n",
       "    <tr>\n",
       "      <th>0</th>\n",
       "      <td>0.152718</td>\n",
       "      <td>0.033579</td>\n",
       "      <td>0.043630</td>\n",
       "      <td>0.002688</td>\n",
       "      <td>0.01</td>\n",
       "      <td>{'C': 0.01}</td>\n",
       "      <td>0.133333</td>\n",
       "      <td>0.133333</td>\n",
       "      <td>0.133333</td>\n",
       "      <td>0.141667</td>\n",
       "      <td>0.133333</td>\n",
       "      <td>0.135000</td>\n",
       "      <td>0.003333</td>\n",
       "      <td>4</td>\n",
       "    </tr>\n",
       "    <tr>\n",
       "      <th>1</th>\n",
       "      <td>0.135913</td>\n",
       "      <td>0.002008</td>\n",
       "      <td>0.048609</td>\n",
       "      <td>0.001956</td>\n",
       "      <td>0.1</td>\n",
       "      <td>{'C': 0.1}</td>\n",
       "      <td>0.133333</td>\n",
       "      <td>0.141667</td>\n",
       "      <td>0.133333</td>\n",
       "      <td>0.141667</td>\n",
       "      <td>0.133333</td>\n",
       "      <td>0.136667</td>\n",
       "      <td>0.004082</td>\n",
       "      <td>3</td>\n",
       "    </tr>\n",
       "    <tr>\n",
       "      <th>2</th>\n",
       "      <td>0.138426</td>\n",
       "      <td>0.006765</td>\n",
       "      <td>0.044299</td>\n",
       "      <td>0.007771</td>\n",
       "      <td>1</td>\n",
       "      <td>{'C': 1}</td>\n",
       "      <td>0.783333</td>\n",
       "      <td>0.833333</td>\n",
       "      <td>0.808333</td>\n",
       "      <td>0.866667</td>\n",
       "      <td>0.833333</td>\n",
       "      <td>0.825000</td>\n",
       "      <td>0.027889</td>\n",
       "      <td>2</td>\n",
       "    </tr>\n",
       "    <tr>\n",
       "      <th>3</th>\n",
       "      <td>0.138195</td>\n",
       "      <td>0.002132</td>\n",
       "      <td>0.043076</td>\n",
       "      <td>0.002776</td>\n",
       "      <td>10</td>\n",
       "      <td>{'C': 10}</td>\n",
       "      <td>0.808333</td>\n",
       "      <td>0.833333</td>\n",
       "      <td>0.858333</td>\n",
       "      <td>0.858333</td>\n",
       "      <td>0.833333</td>\n",
       "      <td>0.838333</td>\n",
       "      <td>0.018708</td>\n",
       "      <td>1</td>\n",
       "    </tr>\n",
       "  </tbody>\n",
       "</table>"
      ],
      "text/plain": [
       "<IPython.core.display.HTML object>"
      ]
     },
     "metadata": {},
     "output_type": "display_data"
    },
    {
     "name": "stdout",
     "output_type": "stream",
     "text": [
      "None\n"
     ]
    }
   ],
   "source": [
    "parameters = {'C': [0.01, 0.1, 1, 10]}\n",
    "\n",
    "svc = SVC()\n",
    "clf = GridSearchCV(svc, parameters)\n",
    "clf.fit(X_train,y_train)\n",
    "\n",
    "df = pd.DataFrame(clf.cv_results_)\n",
    "\n",
    "print ('RESULTS FOR LINEAR KERNEL')\n",
    "\n",
    "print(\"Best parameters set found:\",clf.best_params_)\n",
    "\n",
    "print(\"Score with best parameters\",clf.best_score_)\n",
    "\n",
    "print(\"\\nScores on the grid:\")\n",
    "\n",
    "print(f'{display(HTML(df[[\"param_C\",\"mean_test_score\"]].to_html()))}')\n",
    "\n",
    "print(\"\\nComplete results:\")\n",
    "\n",
    "print(f'{display(HTML(df.to_html()))}')"
   ]
  },
  {
   "cell_type": "markdown",
   "metadata": {},
   "source": [
    "## TO DO 2\n",
    "Pick a model for the Polynomial kernel with degree=2:"
   ]
  },
  {
   "cell_type": "code",
   "execution_count": 29,
   "metadata": {},
   "outputs": [
    {
     "name": "stdout",
     "output_type": "stream",
     "text": [
      "RESULTS FOR POLY DEGREE=2 KERNEL\n",
      "Best parameters set found: {'C': 0.01, 'degree': 2, 'gamma': 0.1, 'kernel': 'poly'}\n",
      "Score with best parameters 0.7916666666666666\n",
      "\n",
      "Scores on the grid:\n"
     ]
    },
    {
     "data": {
      "text/html": [
       "<table border=\"1\" class=\"dataframe\">\n",
       "  <thead>\n",
       "    <tr style=\"text-align: right;\">\n",
       "      <th></th>\n",
       "      <th>param_C</th>\n",
       "      <th>mean_test_score</th>\n",
       "      <th>param_gamma</th>\n",
       "    </tr>\n",
       "  </thead>\n",
       "  <tbody>\n",
       "    <tr>\n",
       "      <th>0</th>\n",
       "      <td>0.01</td>\n",
       "      <td>0.135000</td>\n",
       "      <td>0.01</td>\n",
       "    </tr>\n",
       "    <tr>\n",
       "      <th>1</th>\n",
       "      <td>0.01</td>\n",
       "      <td>0.791667</td>\n",
       "      <td>0.1</td>\n",
       "    </tr>\n",
       "    <tr>\n",
       "      <th>2</th>\n",
       "      <td>0.01</td>\n",
       "      <td>0.791667</td>\n",
       "      <td>1</td>\n",
       "    </tr>\n",
       "    <tr>\n",
       "      <th>3</th>\n",
       "      <td>0.1</td>\n",
       "      <td>0.538333</td>\n",
       "      <td>0.01</td>\n",
       "    </tr>\n",
       "    <tr>\n",
       "      <th>4</th>\n",
       "      <td>0.1</td>\n",
       "      <td>0.788333</td>\n",
       "      <td>0.1</td>\n",
       "    </tr>\n",
       "    <tr>\n",
       "      <th>5</th>\n",
       "      <td>0.1</td>\n",
       "      <td>0.791667</td>\n",
       "      <td>1</td>\n",
       "    </tr>\n",
       "    <tr>\n",
       "      <th>6</th>\n",
       "      <td>1</td>\n",
       "      <td>0.791667</td>\n",
       "      <td>0.01</td>\n",
       "    </tr>\n",
       "    <tr>\n",
       "      <th>7</th>\n",
       "      <td>1</td>\n",
       "      <td>0.791667</td>\n",
       "      <td>0.1</td>\n",
       "    </tr>\n",
       "    <tr>\n",
       "      <th>8</th>\n",
       "      <td>1</td>\n",
       "      <td>0.791667</td>\n",
       "      <td>1</td>\n",
       "    </tr>\n",
       "  </tbody>\n",
       "</table>"
      ],
      "text/plain": [
       "<IPython.core.display.HTML object>"
      ]
     },
     "metadata": {},
     "output_type": "display_data"
    },
    {
     "name": "stdout",
     "output_type": "stream",
     "text": [
      "None\n",
      "\n",
      "Complete results:\n"
     ]
    },
    {
     "data": {
      "text/html": [
       "<table border=\"1\" class=\"dataframe\">\n",
       "  <thead>\n",
       "    <tr style=\"text-align: right;\">\n",
       "      <th></th>\n",
       "      <th>mean_fit_time</th>\n",
       "      <th>std_fit_time</th>\n",
       "      <th>mean_score_time</th>\n",
       "      <th>std_score_time</th>\n",
       "      <th>param_C</th>\n",
       "      <th>param_degree</th>\n",
       "      <th>param_gamma</th>\n",
       "      <th>param_kernel</th>\n",
       "      <th>params</th>\n",
       "      <th>split0_test_score</th>\n",
       "      <th>split1_test_score</th>\n",
       "      <th>split2_test_score</th>\n",
       "      <th>split3_test_score</th>\n",
       "      <th>split4_test_score</th>\n",
       "      <th>mean_test_score</th>\n",
       "      <th>std_test_score</th>\n",
       "      <th>rank_test_score</th>\n",
       "    </tr>\n",
       "  </thead>\n",
       "  <tbody>\n",
       "    <tr>\n",
       "      <th>0</th>\n",
       "      <td>0.126505</td>\n",
       "      <td>0.005117</td>\n",
       "      <td>0.022506</td>\n",
       "      <td>0.000184</td>\n",
       "      <td>0.01</td>\n",
       "      <td>2</td>\n",
       "      <td>0.01</td>\n",
       "      <td>poly</td>\n",
       "      <td>{'C': 0.01, 'degree': 2, 'gamma': 0.01, 'kernel': 'poly'}</td>\n",
       "      <td>0.133333</td>\n",
       "      <td>0.133333</td>\n",
       "      <td>0.133333</td>\n",
       "      <td>0.141667</td>\n",
       "      <td>0.133333</td>\n",
       "      <td>0.135000</td>\n",
       "      <td>0.003333</td>\n",
       "      <td>9</td>\n",
       "    </tr>\n",
       "    <tr>\n",
       "      <th>1</th>\n",
       "      <td>0.098196</td>\n",
       "      <td>0.004029</td>\n",
       "      <td>0.018522</td>\n",
       "      <td>0.000428</td>\n",
       "      <td>0.01</td>\n",
       "      <td>2</td>\n",
       "      <td>0.1</td>\n",
       "      <td>poly</td>\n",
       "      <td>{'C': 0.01, 'degree': 2, 'gamma': 0.1, 'kernel': 'poly'}</td>\n",
       "      <td>0.775000</td>\n",
       "      <td>0.783333</td>\n",
       "      <td>0.833333</td>\n",
       "      <td>0.800000</td>\n",
       "      <td>0.766667</td>\n",
       "      <td>0.791667</td>\n",
       "      <td>0.023570</td>\n",
       "      <td>1</td>\n",
       "    </tr>\n",
       "    <tr>\n",
       "      <th>2</th>\n",
       "      <td>0.101654</td>\n",
       "      <td>0.002180</td>\n",
       "      <td>0.017700</td>\n",
       "      <td>0.000333</td>\n",
       "      <td>0.01</td>\n",
       "      <td>2</td>\n",
       "      <td>1</td>\n",
       "      <td>poly</td>\n",
       "      <td>{'C': 0.01, 'degree': 2, 'gamma': 1, 'kernel': 'poly'}</td>\n",
       "      <td>0.783333</td>\n",
       "      <td>0.800000</td>\n",
       "      <td>0.808333</td>\n",
       "      <td>0.783333</td>\n",
       "      <td>0.783333</td>\n",
       "      <td>0.791667</td>\n",
       "      <td>0.010541</td>\n",
       "      <td>1</td>\n",
       "    </tr>\n",
       "    <tr>\n",
       "      <th>3</th>\n",
       "      <td>0.116513</td>\n",
       "      <td>0.001199</td>\n",
       "      <td>0.022311</td>\n",
       "      <td>0.000182</td>\n",
       "      <td>0.1</td>\n",
       "      <td>2</td>\n",
       "      <td>0.01</td>\n",
       "      <td>poly</td>\n",
       "      <td>{'C': 0.1, 'degree': 2, 'gamma': 0.01, 'kernel': 'poly'}</td>\n",
       "      <td>0.533333</td>\n",
       "      <td>0.475000</td>\n",
       "      <td>0.558333</td>\n",
       "      <td>0.575000</td>\n",
       "      <td>0.550000</td>\n",
       "      <td>0.538333</td>\n",
       "      <td>0.034400</td>\n",
       "      <td>8</td>\n",
       "    </tr>\n",
       "    <tr>\n",
       "      <th>4</th>\n",
       "      <td>0.102345</td>\n",
       "      <td>0.003474</td>\n",
       "      <td>0.017865</td>\n",
       "      <td>0.000455</td>\n",
       "      <td>0.1</td>\n",
       "      <td>2</td>\n",
       "      <td>0.1</td>\n",
       "      <td>poly</td>\n",
       "      <td>{'C': 0.1, 'degree': 2, 'gamma': 0.1, 'kernel': 'poly'}</td>\n",
       "      <td>0.775000</td>\n",
       "      <td>0.800000</td>\n",
       "      <td>0.808333</td>\n",
       "      <td>0.775000</td>\n",
       "      <td>0.783333</td>\n",
       "      <td>0.788333</td>\n",
       "      <td>0.013540</td>\n",
       "      <td>7</td>\n",
       "    </tr>\n",
       "    <tr>\n",
       "      <th>5</th>\n",
       "      <td>0.101891</td>\n",
       "      <td>0.001992</td>\n",
       "      <td>0.017963</td>\n",
       "      <td>0.000583</td>\n",
       "      <td>0.1</td>\n",
       "      <td>2</td>\n",
       "      <td>1</td>\n",
       "      <td>poly</td>\n",
       "      <td>{'C': 0.1, 'degree': 2, 'gamma': 1, 'kernel': 'poly'}</td>\n",
       "      <td>0.783333</td>\n",
       "      <td>0.800000</td>\n",
       "      <td>0.808333</td>\n",
       "      <td>0.783333</td>\n",
       "      <td>0.783333</td>\n",
       "      <td>0.791667</td>\n",
       "      <td>0.010541</td>\n",
       "      <td>1</td>\n",
       "    </tr>\n",
       "    <tr>\n",
       "      <th>6</th>\n",
       "      <td>0.096969</td>\n",
       "      <td>0.002329</td>\n",
       "      <td>0.018952</td>\n",
       "      <td>0.000623</td>\n",
       "      <td>1</td>\n",
       "      <td>2</td>\n",
       "      <td>0.01</td>\n",
       "      <td>poly</td>\n",
       "      <td>{'C': 1, 'degree': 2, 'gamma': 0.01, 'kernel': 'poly'}</td>\n",
       "      <td>0.775000</td>\n",
       "      <td>0.783333</td>\n",
       "      <td>0.833333</td>\n",
       "      <td>0.800000</td>\n",
       "      <td>0.766667</td>\n",
       "      <td>0.791667</td>\n",
       "      <td>0.023570</td>\n",
       "      <td>1</td>\n",
       "    </tr>\n",
       "    <tr>\n",
       "      <th>7</th>\n",
       "      <td>0.101438</td>\n",
       "      <td>0.002204</td>\n",
       "      <td>0.017988</td>\n",
       "      <td>0.000528</td>\n",
       "      <td>1</td>\n",
       "      <td>2</td>\n",
       "      <td>0.1</td>\n",
       "      <td>poly</td>\n",
       "      <td>{'C': 1, 'degree': 2, 'gamma': 0.1, 'kernel': 'poly'}</td>\n",
       "      <td>0.783333</td>\n",
       "      <td>0.800000</td>\n",
       "      <td>0.808333</td>\n",
       "      <td>0.783333</td>\n",
       "      <td>0.783333</td>\n",
       "      <td>0.791667</td>\n",
       "      <td>0.010541</td>\n",
       "      <td>1</td>\n",
       "    </tr>\n",
       "    <tr>\n",
       "      <th>8</th>\n",
       "      <td>0.102852</td>\n",
       "      <td>0.003079</td>\n",
       "      <td>0.018608</td>\n",
       "      <td>0.001179</td>\n",
       "      <td>1</td>\n",
       "      <td>2</td>\n",
       "      <td>1</td>\n",
       "      <td>poly</td>\n",
       "      <td>{'C': 1, 'degree': 2, 'gamma': 1, 'kernel': 'poly'}</td>\n",
       "      <td>0.783333</td>\n",
       "      <td>0.800000</td>\n",
       "      <td>0.808333</td>\n",
       "      <td>0.783333</td>\n",
       "      <td>0.783333</td>\n",
       "      <td>0.791667</td>\n",
       "      <td>0.010541</td>\n",
       "      <td>1</td>\n",
       "    </tr>\n",
       "  </tbody>\n",
       "</table>"
      ],
      "text/plain": [
       "<IPython.core.display.HTML object>"
      ]
     },
     "metadata": {},
     "output_type": "display_data"
    },
    {
     "name": "stdout",
     "output_type": "stream",
     "text": [
      "None\n"
     ]
    }
   ],
   "source": [
    "parameters = {'kernel':['poly'],'C': [0.01, 0.1, 1],'gamma':[0.01,0.1,1],'degree':[2]}\n",
    "\n",
    "svc = SVC()\n",
    "clf = GridSearchCV(svc, parameters)\n",
    "clf.fit(X_train,y_train)\n",
    "\n",
    "df = pd.DataFrame(clf.cv_results_)\n",
    "\n",
    "print ('RESULTS FOR POLY DEGREE=2 KERNEL')\n",
    "\n",
    "print(\"Best parameters set found:\",clf.best_params_)\n",
    "\n",
    "print(\"Score with best parameters\",clf.best_score_)\n",
    "\n",
    "print(\"\\nScores on the grid:\")\n",
    "\n",
    "print(f'{display(HTML(df[[\"param_C\",\"mean_test_score\",\"param_gamma\"]].to_html()))}')\n",
    "\n",
    "print(\"\\nComplete results:\")\n",
    "\n",
    "print(f'{display(HTML(df.to_html()))}')"
   ]
  },
  {
   "cell_type": "markdown",
   "metadata": {},
   "source": [
    "## TO DO 3\n",
    "\n",
    "Now let's try a higher degree for the polynomial kernel (e.g., 3rd degree)."
   ]
  },
  {
   "cell_type": "code",
   "execution_count": 30,
   "metadata": {},
   "outputs": [
    {
     "name": "stdout",
     "output_type": "stream",
     "text": [
      "RESULTS FOR POLY DEGREE=3 KERNEL\n",
      "Best parameters set found: {'C': 1, 'degree': 3, 'gamma': 0.01, 'kernel': 'poly'}\n",
      "Score with best parameters 0.76\n",
      "\n",
      "Scores on the grid:\n"
     ]
    },
    {
     "data": {
      "text/html": [
       "<table border=\"1\" class=\"dataframe\">\n",
       "  <thead>\n",
       "    <tr style=\"text-align: right;\">\n",
       "      <th></th>\n",
       "      <th>param_C</th>\n",
       "      <th>mean_test_score</th>\n",
       "      <th>param_gamma</th>\n",
       "    </tr>\n",
       "  </thead>\n",
       "  <tbody>\n",
       "    <tr>\n",
       "      <th>0</th>\n",
       "      <td>0.01</td>\n",
       "      <td>0.135000</td>\n",
       "      <td>0.01</td>\n",
       "    </tr>\n",
       "    <tr>\n",
       "      <th>1</th>\n",
       "      <td>0.01</td>\n",
       "      <td>0.746667</td>\n",
       "      <td>0.1</td>\n",
       "    </tr>\n",
       "    <tr>\n",
       "      <th>2</th>\n",
       "      <td>0.01</td>\n",
       "      <td>0.733333</td>\n",
       "      <td>1</td>\n",
       "    </tr>\n",
       "    <tr>\n",
       "      <th>3</th>\n",
       "      <td>0.1</td>\n",
       "      <td>0.490000</td>\n",
       "      <td>0.01</td>\n",
       "    </tr>\n",
       "    <tr>\n",
       "      <th>4</th>\n",
       "      <td>0.1</td>\n",
       "      <td>0.733333</td>\n",
       "      <td>0.1</td>\n",
       "    </tr>\n",
       "    <tr>\n",
       "      <th>5</th>\n",
       "      <td>0.1</td>\n",
       "      <td>0.733333</td>\n",
       "      <td>1</td>\n",
       "    </tr>\n",
       "    <tr>\n",
       "      <th>6</th>\n",
       "      <td>1</td>\n",
       "      <td>0.760000</td>\n",
       "      <td>0.01</td>\n",
       "    </tr>\n",
       "    <tr>\n",
       "      <th>7</th>\n",
       "      <td>1</td>\n",
       "      <td>0.733333</td>\n",
       "      <td>0.1</td>\n",
       "    </tr>\n",
       "    <tr>\n",
       "      <th>8</th>\n",
       "      <td>1</td>\n",
       "      <td>0.733333</td>\n",
       "      <td>1</td>\n",
       "    </tr>\n",
       "  </tbody>\n",
       "</table>"
      ],
      "text/plain": [
       "<IPython.core.display.HTML object>"
      ]
     },
     "metadata": {},
     "output_type": "display_data"
    },
    {
     "name": "stdout",
     "output_type": "stream",
     "text": [
      "None\n",
      "\n",
      "Complete results:\n"
     ]
    },
    {
     "data": {
      "text/html": [
       "<table border=\"1\" class=\"dataframe\">\n",
       "  <thead>\n",
       "    <tr style=\"text-align: right;\">\n",
       "      <th></th>\n",
       "      <th>mean_fit_time</th>\n",
       "      <th>std_fit_time</th>\n",
       "      <th>mean_score_time</th>\n",
       "      <th>std_score_time</th>\n",
       "      <th>param_C</th>\n",
       "      <th>param_degree</th>\n",
       "      <th>param_gamma</th>\n",
       "      <th>param_kernel</th>\n",
       "      <th>params</th>\n",
       "      <th>split0_test_score</th>\n",
       "      <th>split1_test_score</th>\n",
       "      <th>split2_test_score</th>\n",
       "      <th>split3_test_score</th>\n",
       "      <th>split4_test_score</th>\n",
       "      <th>mean_test_score</th>\n",
       "      <th>std_test_score</th>\n",
       "      <th>rank_test_score</th>\n",
       "    </tr>\n",
       "  </thead>\n",
       "  <tbody>\n",
       "    <tr>\n",
       "      <th>0</th>\n",
       "      <td>0.125684</td>\n",
       "      <td>0.004918</td>\n",
       "      <td>0.022643</td>\n",
       "      <td>0.000451</td>\n",
       "      <td>0.01</td>\n",
       "      <td>3</td>\n",
       "      <td>0.01</td>\n",
       "      <td>poly</td>\n",
       "      <td>{'C': 0.01, 'degree': 3, 'gamma': 0.01, 'kernel': 'poly'}</td>\n",
       "      <td>0.133333</td>\n",
       "      <td>0.133333</td>\n",
       "      <td>0.133333</td>\n",
       "      <td>0.141667</td>\n",
       "      <td>0.133333</td>\n",
       "      <td>0.135000</td>\n",
       "      <td>0.003333</td>\n",
       "      <td>9</td>\n",
       "    </tr>\n",
       "    <tr>\n",
       "      <th>1</th>\n",
       "      <td>0.113097</td>\n",
       "      <td>0.003600</td>\n",
       "      <td>0.020361</td>\n",
       "      <td>0.004457</td>\n",
       "      <td>0.01</td>\n",
       "      <td>3</td>\n",
       "      <td>0.1</td>\n",
       "      <td>poly</td>\n",
       "      <td>{'C': 0.01, 'degree': 3, 'gamma': 0.1, 'kernel': 'poly'}</td>\n",
       "      <td>0.733333</td>\n",
       "      <td>0.775000</td>\n",
       "      <td>0.758333</td>\n",
       "      <td>0.716667</td>\n",
       "      <td>0.750000</td>\n",
       "      <td>0.746667</td>\n",
       "      <td>0.020138</td>\n",
       "      <td>2</td>\n",
       "    </tr>\n",
       "    <tr>\n",
       "      <th>2</th>\n",
       "      <td>0.112860</td>\n",
       "      <td>0.005088</td>\n",
       "      <td>0.018261</td>\n",
       "      <td>0.000571</td>\n",
       "      <td>0.01</td>\n",
       "      <td>3</td>\n",
       "      <td>1</td>\n",
       "      <td>poly</td>\n",
       "      <td>{'C': 0.01, 'degree': 3, 'gamma': 1, 'kernel': 'poly'}</td>\n",
       "      <td>0.700000</td>\n",
       "      <td>0.758333</td>\n",
       "      <td>0.758333</td>\n",
       "      <td>0.708333</td>\n",
       "      <td>0.741667</td>\n",
       "      <td>0.733333</td>\n",
       "      <td>0.024721</td>\n",
       "      <td>3</td>\n",
       "    </tr>\n",
       "    <tr>\n",
       "      <th>3</th>\n",
       "      <td>0.119154</td>\n",
       "      <td>0.002457</td>\n",
       "      <td>0.022396</td>\n",
       "      <td>0.000201</td>\n",
       "      <td>0.1</td>\n",
       "      <td>3</td>\n",
       "      <td>0.01</td>\n",
       "      <td>poly</td>\n",
       "      <td>{'C': 0.1, 'degree': 3, 'gamma': 0.01, 'kernel': 'poly'}</td>\n",
       "      <td>0.533333</td>\n",
       "      <td>0.416667</td>\n",
       "      <td>0.525000</td>\n",
       "      <td>0.475000</td>\n",
       "      <td>0.500000</td>\n",
       "      <td>0.490000</td>\n",
       "      <td>0.041966</td>\n",
       "      <td>8</td>\n",
       "    </tr>\n",
       "    <tr>\n",
       "      <th>4</th>\n",
       "      <td>0.111200</td>\n",
       "      <td>0.002413</td>\n",
       "      <td>0.018209</td>\n",
       "      <td>0.000619</td>\n",
       "      <td>0.1</td>\n",
       "      <td>3</td>\n",
       "      <td>0.1</td>\n",
       "      <td>poly</td>\n",
       "      <td>{'C': 0.1, 'degree': 3, 'gamma': 0.1, 'kernel': 'poly'}</td>\n",
       "      <td>0.700000</td>\n",
       "      <td>0.758333</td>\n",
       "      <td>0.758333</td>\n",
       "      <td>0.708333</td>\n",
       "      <td>0.741667</td>\n",
       "      <td>0.733333</td>\n",
       "      <td>0.024721</td>\n",
       "      <td>3</td>\n",
       "    </tr>\n",
       "    <tr>\n",
       "      <th>5</th>\n",
       "      <td>0.111029</td>\n",
       "      <td>0.002650</td>\n",
       "      <td>0.018271</td>\n",
       "      <td>0.000723</td>\n",
       "      <td>0.1</td>\n",
       "      <td>3</td>\n",
       "      <td>1</td>\n",
       "      <td>poly</td>\n",
       "      <td>{'C': 0.1, 'degree': 3, 'gamma': 1, 'kernel': 'poly'}</td>\n",
       "      <td>0.700000</td>\n",
       "      <td>0.758333</td>\n",
       "      <td>0.758333</td>\n",
       "      <td>0.708333</td>\n",
       "      <td>0.741667</td>\n",
       "      <td>0.733333</td>\n",
       "      <td>0.024721</td>\n",
       "      <td>3</td>\n",
       "    </tr>\n",
       "    <tr>\n",
       "      <th>6</th>\n",
       "      <td>0.109630</td>\n",
       "      <td>0.002154</td>\n",
       "      <td>0.019094</td>\n",
       "      <td>0.000332</td>\n",
       "      <td>1</td>\n",
       "      <td>3</td>\n",
       "      <td>0.01</td>\n",
       "      <td>poly</td>\n",
       "      <td>{'C': 1, 'degree': 3, 'gamma': 0.01, 'kernel': 'poly'}</td>\n",
       "      <td>0.750000</td>\n",
       "      <td>0.775000</td>\n",
       "      <td>0.783333</td>\n",
       "      <td>0.758333</td>\n",
       "      <td>0.733333</td>\n",
       "      <td>0.760000</td>\n",
       "      <td>0.017795</td>\n",
       "      <td>1</td>\n",
       "    </tr>\n",
       "    <tr>\n",
       "      <th>7</th>\n",
       "      <td>0.111135</td>\n",
       "      <td>0.002548</td>\n",
       "      <td>0.017781</td>\n",
       "      <td>0.000414</td>\n",
       "      <td>1</td>\n",
       "      <td>3</td>\n",
       "      <td>0.1</td>\n",
       "      <td>poly</td>\n",
       "      <td>{'C': 1, 'degree': 3, 'gamma': 0.1, 'kernel': 'poly'}</td>\n",
       "      <td>0.700000</td>\n",
       "      <td>0.758333</td>\n",
       "      <td>0.758333</td>\n",
       "      <td>0.708333</td>\n",
       "      <td>0.741667</td>\n",
       "      <td>0.733333</td>\n",
       "      <td>0.024721</td>\n",
       "      <td>3</td>\n",
       "    </tr>\n",
       "    <tr>\n",
       "      <th>8</th>\n",
       "      <td>0.111716</td>\n",
       "      <td>0.003281</td>\n",
       "      <td>0.017896</td>\n",
       "      <td>0.000420</td>\n",
       "      <td>1</td>\n",
       "      <td>3</td>\n",
       "      <td>1</td>\n",
       "      <td>poly</td>\n",
       "      <td>{'C': 1, 'degree': 3, 'gamma': 1, 'kernel': 'poly'}</td>\n",
       "      <td>0.700000</td>\n",
       "      <td>0.758333</td>\n",
       "      <td>0.758333</td>\n",
       "      <td>0.708333</td>\n",
       "      <td>0.741667</td>\n",
       "      <td>0.733333</td>\n",
       "      <td>0.024721</td>\n",
       "      <td>3</td>\n",
       "    </tr>\n",
       "  </tbody>\n",
       "</table>"
      ],
      "text/plain": [
       "<IPython.core.display.HTML object>"
      ]
     },
     "metadata": {},
     "output_type": "display_data"
    },
    {
     "name": "stdout",
     "output_type": "stream",
     "text": [
      "None\n"
     ]
    }
   ],
   "source": [
    "parameters = {'kernel':['poly'],'C': [0.01, 0.1, 1],'gamma':[0.01,0.1,1],'degree':[3]}\n",
    "\n",
    "svc = SVC()\n",
    "clf = GridSearchCV(svc, parameters)\n",
    "clf.fit(X_train,y_train)\n",
    "\n",
    "df = pd.DataFrame(clf.cv_results_)\n",
    "\n",
    "print ('RESULTS FOR POLY DEGREE=3 KERNEL')\n",
    "\n",
    "print(\"Best parameters set found:\",clf.best_params_)\n",
    "\n",
    "print(\"Score with best parameters\",clf.best_score_)\n",
    "\n",
    "print(\"\\nScores on the grid:\")\n",
    "\n",
    "print(f'{display(HTML(df[[\"param_C\",\"mean_test_score\",\"param_gamma\"]].to_html()))}')\n",
    "\n",
    "print(\"\\nComplete results:\")\n",
    "\n",
    "print(f'{display(HTML(df.to_html()))}')"
   ]
  },
  {
   "cell_type": "markdown",
   "metadata": {},
   "source": [
    "## TO DO 4\n",
    "Pick a model for the Radial Basis Function kernel:"
   ]
  },
  {
   "cell_type": "code",
   "execution_count": 31,
   "metadata": {},
   "outputs": [
    {
     "name": "stdout",
     "output_type": "stream",
     "text": [
      "Best parameters set found: {'C': 10, 'gamma': 0.01, 'kernel': 'rbf'}\n",
      "Score with best parameters 0.8400000000000001\n",
      "\n",
      "Scores on the grid:\n"
     ]
    },
    {
     "data": {
      "text/html": [
       "<table border=\"1\" class=\"dataframe\">\n",
       "  <thead>\n",
       "    <tr style=\"text-align: right;\">\n",
       "      <th></th>\n",
       "      <th>param_C</th>\n",
       "      <th>param_gamma</th>\n",
       "      <th>mean_test_score</th>\n",
       "    </tr>\n",
       "  </thead>\n",
       "  <tbody>\n",
       "    <tr>\n",
       "      <th>0</th>\n",
       "      <td>0.1</td>\n",
       "      <td>0.001</td>\n",
       "      <td>0.135000</td>\n",
       "    </tr>\n",
       "    <tr>\n",
       "      <th>1</th>\n",
       "      <td>0.1</td>\n",
       "      <td>0.01</td>\n",
       "      <td>0.138333</td>\n",
       "    </tr>\n",
       "    <tr>\n",
       "      <th>2</th>\n",
       "      <td>0.1</td>\n",
       "      <td>0.1</td>\n",
       "      <td>0.135000</td>\n",
       "    </tr>\n",
       "    <tr>\n",
       "      <th>3</th>\n",
       "      <td>0.1</td>\n",
       "      <td>1</td>\n",
       "      <td>0.135000</td>\n",
       "    </tr>\n",
       "    <tr>\n",
       "      <th>4</th>\n",
       "      <td>1</td>\n",
       "      <td>0.001</td>\n",
       "      <td>0.678333</td>\n",
       "    </tr>\n",
       "    <tr>\n",
       "      <th>5</th>\n",
       "      <td>1</td>\n",
       "      <td>0.01</td>\n",
       "      <td>0.825000</td>\n",
       "    </tr>\n",
       "    <tr>\n",
       "      <th>6</th>\n",
       "      <td>1</td>\n",
       "      <td>0.1</td>\n",
       "      <td>0.135000</td>\n",
       "    </tr>\n",
       "    <tr>\n",
       "      <th>7</th>\n",
       "      <td>1</td>\n",
       "      <td>1</td>\n",
       "      <td>0.135000</td>\n",
       "    </tr>\n",
       "    <tr>\n",
       "      <th>8</th>\n",
       "      <td>10</td>\n",
       "      <td>0.001</td>\n",
       "      <td>0.791667</td>\n",
       "    </tr>\n",
       "    <tr>\n",
       "      <th>9</th>\n",
       "      <td>10</td>\n",
       "      <td>0.01</td>\n",
       "      <td>0.840000</td>\n",
       "    </tr>\n",
       "    <tr>\n",
       "      <th>10</th>\n",
       "      <td>10</td>\n",
       "      <td>0.1</td>\n",
       "      <td>0.141667</td>\n",
       "    </tr>\n",
       "    <tr>\n",
       "      <th>11</th>\n",
       "      <td>10</td>\n",
       "      <td>1</td>\n",
       "      <td>0.135000</td>\n",
       "    </tr>\n",
       "    <tr>\n",
       "      <th>12</th>\n",
       "      <td>100</td>\n",
       "      <td>0.001</td>\n",
       "      <td>0.781667</td>\n",
       "    </tr>\n",
       "    <tr>\n",
       "      <th>13</th>\n",
       "      <td>100</td>\n",
       "      <td>0.01</td>\n",
       "      <td>0.840000</td>\n",
       "    </tr>\n",
       "    <tr>\n",
       "      <th>14</th>\n",
       "      <td>100</td>\n",
       "      <td>0.1</td>\n",
       "      <td>0.141667</td>\n",
       "    </tr>\n",
       "    <tr>\n",
       "      <th>15</th>\n",
       "      <td>100</td>\n",
       "      <td>1</td>\n",
       "      <td>0.135000</td>\n",
       "    </tr>\n",
       "  </tbody>\n",
       "</table>"
      ],
      "text/plain": [
       "<IPython.core.display.HTML object>"
      ]
     },
     "metadata": {},
     "output_type": "display_data"
    },
    {
     "name": "stdout",
     "output_type": "stream",
     "text": [
      "None\n",
      "\n",
      "Complete results:\n"
     ]
    },
    {
     "data": {
      "text/html": [
       "<table border=\"1\" class=\"dataframe\">\n",
       "  <thead>\n",
       "    <tr style=\"text-align: right;\">\n",
       "      <th></th>\n",
       "      <th>mean_fit_time</th>\n",
       "      <th>std_fit_time</th>\n",
       "      <th>mean_score_time</th>\n",
       "      <th>std_score_time</th>\n",
       "      <th>param_C</th>\n",
       "      <th>param_gamma</th>\n",
       "      <th>param_kernel</th>\n",
       "      <th>params</th>\n",
       "      <th>split0_test_score</th>\n",
       "      <th>split1_test_score</th>\n",
       "      <th>split2_test_score</th>\n",
       "      <th>split3_test_score</th>\n",
       "      <th>split4_test_score</th>\n",
       "      <th>mean_test_score</th>\n",
       "      <th>std_test_score</th>\n",
       "      <th>rank_test_score</th>\n",
       "    </tr>\n",
       "  </thead>\n",
       "  <tbody>\n",
       "    <tr>\n",
       "      <th>0</th>\n",
       "      <td>0.133259</td>\n",
       "      <td>0.006483</td>\n",
       "      <td>0.041412</td>\n",
       "      <td>0.000320</td>\n",
       "      <td>0.1</td>\n",
       "      <td>0.001</td>\n",
       "      <td>rbf</td>\n",
       "      <td>{'C': 0.1, 'gamma': 0.001, 'kernel': 'rbf'}</td>\n",
       "      <td>0.133333</td>\n",
       "      <td>0.133333</td>\n",
       "      <td>0.133333</td>\n",
       "      <td>0.141667</td>\n",
       "      <td>0.133333</td>\n",
       "      <td>0.135000</td>\n",
       "      <td>0.003333</td>\n",
       "      <td>10</td>\n",
       "    </tr>\n",
       "    <tr>\n",
       "      <th>1</th>\n",
       "      <td>0.135868</td>\n",
       "      <td>0.003452</td>\n",
       "      <td>0.044345</td>\n",
       "      <td>0.002251</td>\n",
       "      <td>0.1</td>\n",
       "      <td>0.01</td>\n",
       "      <td>rbf</td>\n",
       "      <td>{'C': 0.1, 'gamma': 0.01, 'kernel': 'rbf'}</td>\n",
       "      <td>0.133333</td>\n",
       "      <td>0.150000</td>\n",
       "      <td>0.133333</td>\n",
       "      <td>0.141667</td>\n",
       "      <td>0.133333</td>\n",
       "      <td>0.138333</td>\n",
       "      <td>0.006667</td>\n",
       "      <td>9</td>\n",
       "    </tr>\n",
       "    <tr>\n",
       "      <th>2</th>\n",
       "      <td>0.142333</td>\n",
       "      <td>0.001990</td>\n",
       "      <td>0.046527</td>\n",
       "      <td>0.005098</td>\n",
       "      <td>0.1</td>\n",
       "      <td>0.1</td>\n",
       "      <td>rbf</td>\n",
       "      <td>{'C': 0.1, 'gamma': 0.1, 'kernel': 'rbf'}</td>\n",
       "      <td>0.133333</td>\n",
       "      <td>0.133333</td>\n",
       "      <td>0.133333</td>\n",
       "      <td>0.141667</td>\n",
       "      <td>0.133333</td>\n",
       "      <td>0.135000</td>\n",
       "      <td>0.003333</td>\n",
       "      <td>10</td>\n",
       "    </tr>\n",
       "    <tr>\n",
       "      <th>3</th>\n",
       "      <td>0.146275</td>\n",
       "      <td>0.000611</td>\n",
       "      <td>0.042836</td>\n",
       "      <td>0.002258</td>\n",
       "      <td>0.1</td>\n",
       "      <td>1</td>\n",
       "      <td>rbf</td>\n",
       "      <td>{'C': 0.1, 'gamma': 1, 'kernel': 'rbf'}</td>\n",
       "      <td>0.133333</td>\n",
       "      <td>0.133333</td>\n",
       "      <td>0.133333</td>\n",
       "      <td>0.141667</td>\n",
       "      <td>0.133333</td>\n",
       "      <td>0.135000</td>\n",
       "      <td>0.003333</td>\n",
       "      <td>10</td>\n",
       "    </tr>\n",
       "    <tr>\n",
       "      <th>4</th>\n",
       "      <td>0.115558</td>\n",
       "      <td>0.001562</td>\n",
       "      <td>0.043360</td>\n",
       "      <td>0.002130</td>\n",
       "      <td>1</td>\n",
       "      <td>0.001</td>\n",
       "      <td>rbf</td>\n",
       "      <td>{'C': 1, 'gamma': 0.001, 'kernel': 'rbf'}</td>\n",
       "      <td>0.633333</td>\n",
       "      <td>0.658333</td>\n",
       "      <td>0.675000</td>\n",
       "      <td>0.733333</td>\n",
       "      <td>0.691667</td>\n",
       "      <td>0.678333</td>\n",
       "      <td>0.033582</td>\n",
       "      <td>6</td>\n",
       "    </tr>\n",
       "    <tr>\n",
       "      <th>5</th>\n",
       "      <td>0.133340</td>\n",
       "      <td>0.001996</td>\n",
       "      <td>0.048582</td>\n",
       "      <td>0.009528</td>\n",
       "      <td>1</td>\n",
       "      <td>0.01</td>\n",
       "      <td>rbf</td>\n",
       "      <td>{'C': 1, 'gamma': 0.01, 'kernel': 'rbf'}</td>\n",
       "      <td>0.783333</td>\n",
       "      <td>0.833333</td>\n",
       "      <td>0.808333</td>\n",
       "      <td>0.866667</td>\n",
       "      <td>0.833333</td>\n",
       "      <td>0.825000</td>\n",
       "      <td>0.027889</td>\n",
       "      <td>3</td>\n",
       "    </tr>\n",
       "    <tr>\n",
       "      <th>6</th>\n",
       "      <td>0.148515</td>\n",
       "      <td>0.003838</td>\n",
       "      <td>0.049552</td>\n",
       "      <td>0.009922</td>\n",
       "      <td>1</td>\n",
       "      <td>0.1</td>\n",
       "      <td>rbf</td>\n",
       "      <td>{'C': 1, 'gamma': 0.1, 'kernel': 'rbf'}</td>\n",
       "      <td>0.133333</td>\n",
       "      <td>0.133333</td>\n",
       "      <td>0.133333</td>\n",
       "      <td>0.141667</td>\n",
       "      <td>0.133333</td>\n",
       "      <td>0.135000</td>\n",
       "      <td>0.003333</td>\n",
       "      <td>10</td>\n",
       "    </tr>\n",
       "    <tr>\n",
       "      <th>7</th>\n",
       "      <td>0.148992</td>\n",
       "      <td>0.001056</td>\n",
       "      <td>0.044922</td>\n",
       "      <td>0.001741</td>\n",
       "      <td>1</td>\n",
       "      <td>1</td>\n",
       "      <td>rbf</td>\n",
       "      <td>{'C': 1, 'gamma': 1, 'kernel': 'rbf'}</td>\n",
       "      <td>0.133333</td>\n",
       "      <td>0.133333</td>\n",
       "      <td>0.133333</td>\n",
       "      <td>0.141667</td>\n",
       "      <td>0.133333</td>\n",
       "      <td>0.135000</td>\n",
       "      <td>0.003333</td>\n",
       "      <td>10</td>\n",
       "    </tr>\n",
       "    <tr>\n",
       "      <th>8</th>\n",
       "      <td>0.085139</td>\n",
       "      <td>0.001018</td>\n",
       "      <td>0.039733</td>\n",
       "      <td>0.000960</td>\n",
       "      <td>10</td>\n",
       "      <td>0.001</td>\n",
       "      <td>rbf</td>\n",
       "      <td>{'C': 10, 'gamma': 0.001, 'kernel': 'rbf'}</td>\n",
       "      <td>0.758333</td>\n",
       "      <td>0.775000</td>\n",
       "      <td>0.808333</td>\n",
       "      <td>0.808333</td>\n",
       "      <td>0.808333</td>\n",
       "      <td>0.791667</td>\n",
       "      <td>0.021082</td>\n",
       "      <td>4</td>\n",
       "    </tr>\n",
       "    <tr>\n",
       "      <th>9</th>\n",
       "      <td>0.135544</td>\n",
       "      <td>0.000492</td>\n",
       "      <td>0.042772</td>\n",
       "      <td>0.002438</td>\n",
       "      <td>10</td>\n",
       "      <td>0.01</td>\n",
       "      <td>rbf</td>\n",
       "      <td>{'C': 10, 'gamma': 0.01, 'kernel': 'rbf'}</td>\n",
       "      <td>0.808333</td>\n",
       "      <td>0.841667</td>\n",
       "      <td>0.858333</td>\n",
       "      <td>0.858333</td>\n",
       "      <td>0.833333</td>\n",
       "      <td>0.840000</td>\n",
       "      <td>0.018559</td>\n",
       "      <td>1</td>\n",
       "    </tr>\n",
       "    <tr>\n",
       "      <th>10</th>\n",
       "      <td>0.147765</td>\n",
       "      <td>0.001378</td>\n",
       "      <td>0.046275</td>\n",
       "      <td>0.001043</td>\n",
       "      <td>10</td>\n",
       "      <td>0.1</td>\n",
       "      <td>rbf</td>\n",
       "      <td>{'C': 10, 'gamma': 0.1, 'kernel': 'rbf'}</td>\n",
       "      <td>0.133333</td>\n",
       "      <td>0.141667</td>\n",
       "      <td>0.141667</td>\n",
       "      <td>0.150000</td>\n",
       "      <td>0.141667</td>\n",
       "      <td>0.141667</td>\n",
       "      <td>0.005270</td>\n",
       "      <td>7</td>\n",
       "    </tr>\n",
       "    <tr>\n",
       "      <th>11</th>\n",
       "      <td>0.155330</td>\n",
       "      <td>0.000861</td>\n",
       "      <td>0.043686</td>\n",
       "      <td>0.001963</td>\n",
       "      <td>10</td>\n",
       "      <td>1</td>\n",
       "      <td>rbf</td>\n",
       "      <td>{'C': 10, 'gamma': 1, 'kernel': 'rbf'}</td>\n",
       "      <td>0.133333</td>\n",
       "      <td>0.133333</td>\n",
       "      <td>0.133333</td>\n",
       "      <td>0.141667</td>\n",
       "      <td>0.133333</td>\n",
       "      <td>0.135000</td>\n",
       "      <td>0.003333</td>\n",
       "      <td>10</td>\n",
       "    </tr>\n",
       "    <tr>\n",
       "      <th>12</th>\n",
       "      <td>0.090226</td>\n",
       "      <td>0.001610</td>\n",
       "      <td>0.039315</td>\n",
       "      <td>0.000592</td>\n",
       "      <td>100</td>\n",
       "      <td>0.001</td>\n",
       "      <td>rbf</td>\n",
       "      <td>{'C': 100, 'gamma': 0.001, 'kernel': 'rbf'}</td>\n",
       "      <td>0.783333</td>\n",
       "      <td>0.783333</td>\n",
       "      <td>0.766667</td>\n",
       "      <td>0.766667</td>\n",
       "      <td>0.808333</td>\n",
       "      <td>0.781667</td>\n",
       "      <td>0.015275</td>\n",
       "      <td>5</td>\n",
       "    </tr>\n",
       "    <tr>\n",
       "      <th>13</th>\n",
       "      <td>0.137708</td>\n",
       "      <td>0.001552</td>\n",
       "      <td>0.044031</td>\n",
       "      <td>0.000780</td>\n",
       "      <td>100</td>\n",
       "      <td>0.01</td>\n",
       "      <td>rbf</td>\n",
       "      <td>{'C': 100, 'gamma': 0.01, 'kernel': 'rbf'}</td>\n",
       "      <td>0.808333</td>\n",
       "      <td>0.841667</td>\n",
       "      <td>0.858333</td>\n",
       "      <td>0.858333</td>\n",
       "      <td>0.833333</td>\n",
       "      <td>0.840000</td>\n",
       "      <td>0.018559</td>\n",
       "      <td>1</td>\n",
       "    </tr>\n",
       "    <tr>\n",
       "      <th>14</th>\n",
       "      <td>0.147389</td>\n",
       "      <td>0.002788</td>\n",
       "      <td>0.046612</td>\n",
       "      <td>0.002898</td>\n",
       "      <td>100</td>\n",
       "      <td>0.1</td>\n",
       "      <td>rbf</td>\n",
       "      <td>{'C': 100, 'gamma': 0.1, 'kernel': 'rbf'}</td>\n",
       "      <td>0.133333</td>\n",
       "      <td>0.141667</td>\n",
       "      <td>0.141667</td>\n",
       "      <td>0.150000</td>\n",
       "      <td>0.141667</td>\n",
       "      <td>0.141667</td>\n",
       "      <td>0.005270</td>\n",
       "      <td>7</td>\n",
       "    </tr>\n",
       "    <tr>\n",
       "      <th>15</th>\n",
       "      <td>0.160769</td>\n",
       "      <td>0.001411</td>\n",
       "      <td>0.048012</td>\n",
       "      <td>0.005300</td>\n",
       "      <td>100</td>\n",
       "      <td>1</td>\n",
       "      <td>rbf</td>\n",
       "      <td>{'C': 100, 'gamma': 1, 'kernel': 'rbf'}</td>\n",
       "      <td>0.133333</td>\n",
       "      <td>0.133333</td>\n",
       "      <td>0.133333</td>\n",
       "      <td>0.141667</td>\n",
       "      <td>0.133333</td>\n",
       "      <td>0.135000</td>\n",
       "      <td>0.003333</td>\n",
       "      <td>10</td>\n",
       "    </tr>\n",
       "  </tbody>\n",
       "</table>"
      ],
      "text/plain": [
       "<IPython.core.display.HTML object>"
      ]
     },
     "metadata": {},
     "output_type": "display_data"
    },
    {
     "name": "stdout",
     "output_type": "stream",
     "text": [
      "None\n"
     ]
    }
   ],
   "source": [
    "parameters = {'kernel':['rbf'],'C': [0.1, 1, 10, 100],'gamma':[0.001, 0.01, 0.1,1]}\n",
    "\n",
    "svc = SVC()\n",
    "clf = GridSearchCV(svc, parameters)\n",
    "clf.fit(X_train,y_train)\n",
    "\n",
    "df = pd.DataFrame(clf.cv_results_)\n",
    "\n",
    "print(\"Best parameters set found:\",clf.best_params_)\n",
    "\n",
    "print(\"Score with best parameters\",clf.best_score_)\n",
    "\n",
    "print(\"\\nScores on the grid:\")\n",
    "\n",
    "print(f'{display(HTML(df[[\"param_C\",\"param_gamma\",\"mean_test_score\"]].to_html()))}')\n",
    "\n",
    "print(\"\\nComplete results:\")\n",
    "\n",
    "print(f'{display(HTML(df.to_html()))}')"
   ]
  },
  {
   "cell_type": "markdown",
   "metadata": {},
   "source": [
    "## QUESTION 1\n",
    "What do you observe when using linear, polynomial and RBF kernels on this dataset ?"
   ]
  },
  {
   "cell_type": "markdown",
   "metadata": {},
   "source": [
    "For a linear kernel I get a good accuracy for C=1,10 (0.8) and a bad accuracy for C=0.1,0.01 (0.1).\\\n",
    "For a 2-degree-poly kernel I get a good accuracy (.8) for nearly every value of C and gamma. Exceptions are C=0.01, gamma=0.01 (accuracy=0.1) and C=0.1, gamma=0.01 (accuracy=0.5).\\\n",
    "For a 3-degree-poly kernel I get similar results, with an accuracy of about 0.7. Exceptions are C=0.01, gamma=0.01 (accuracy=0.1) and C=0.1, gamma=0.01 (accuracy=0.5).\\\n",
    "For an rbf kernel I get many different accuracies for different values of the couple of parameters. Many couples of parameters give a really bad accuracy (0.1), however for C=10 or 100, gamma=0.01 I reach the best accuracy (0.84) mong all the possible kernels and parameters."
   ]
  },
  {
   "cell_type": "markdown",
   "metadata": {},
   "source": [
    "## TO DO 5\n",
    "Report here the best SVM kernel and parameters"
   ]
  },
  {
   "cell_type": "code",
   "execution_count": 32,
   "metadata": {},
   "outputs": [
    {
     "name": "stdout",
     "output_type": "stream",
     "text": [
      "Best SVM training error: 0.000000\n",
      "Best SVM test error: 0.168000\n"
     ]
    }
   ],
   "source": [
    "best_SVM = SVC(kernel = 'rbf', C = 10, gamma = 0.01 )\n",
    "\n",
    "best_SVM.fit(X_train, y_train)\n",
    "\n",
    "training_error = 1.-best_SVM.score(X_train, y_train)\n",
    "test_error = 1.-best_SVM.score(X_test, y_test)\n",
    "\n",
    "print (\"Best SVM training error: %f\" % training_error)\n",
    "print (\"Best SVM test error: %f\" % test_error)"
   ]
  },
  {
   "cell_type": "markdown",
   "metadata": {},
   "source": [
    "## TO DO 6\n",
    "\n",
    "Analyze how the gamma parameter (inversely proportional to standard deviation of Gaussian Kernel) impact the performances of the classifier"
   ]
  },
  {
   "cell_type": "code",
   "execution_count": 33,
   "metadata": {},
   "outputs": [
    {
     "name": "stdout",
     "output_type": "stream",
     "text": [
      "[1.e-05 1.e-04 1.e-03 1.e-02 1.e-01 1.e+00 1.e+01 1.e+02]\n"
     ]
    }
   ],
   "source": [
    "#Test with different values of gamma\n",
    "\n",
    "# Set gamma values\n",
    "gamma_values = np.logspace(-5,2,8)\n",
    "print(gamma_values)\n"
   ]
  },
  {
   "cell_type": "code",
   "execution_count": 34,
   "metadata": {},
   "outputs": [
    {
     "data": {
      "image/png": "[encoded data removed]",
      "text/plain": [
       "<Figure size 1080x360 with 2 Axes>"
      ]
     },
     "metadata": {
      "needs_background": "light"
     },
     "output_type": "display_data"
    }
   ],
   "source": [
    "# Try the SVM with the previously set values of gamma\n",
    "# use rbf kernel and C=1\n",
    "\n",
    "train_acc_list, test_acc_list = [], []\n",
    "\n",
    "    \n",
    "# ADD YOUR CODE TO TRAIN THE SVM MULTIPLE TIMES WITH THE DIFFERENT VALUES OF GAMMA\n",
    "# PLACE THE TRAIN AND TEST ACCURACY FOR EACH TEST IN THE TRAIN AND TEST ACCURACY LISTS\n",
    "for i in gamma_values:\n",
    "    temp_SVM = SVC(kernel = 'rbf', C = 1, gamma = i)\n",
    "    temp_SVM.fit(X_train, y_train)\n",
    "    #temp_tr_error = 1.-temp_SVM.score(X_train, y_train)\n",
    "    #temp_ts_error = 1.-temp_SVM.score(X_test, y_test)\n",
    "    train_acc_list.append(temp_SVM.score(X_train, y_train))\n",
    "    test_acc_list.append(temp_SVM.score(X_test, y_test))\n",
    "    \n",
    "# Plot\n",
    "fig, ax = plt.subplots(1,2, figsize=(15,5))\n",
    "\n",
    "ax[0].plot(gamma_values, train_acc_list)\n",
    "ax[0].set_xscale('log')\n",
    "ax[0].set_xlabel('gamma')\n",
    "ax[0].set_ylabel('Train accuracy')\n",
    "ax[0].grid(True)\n",
    "\n",
    "ax[1].plot(gamma_values, test_acc_list)\n",
    "ax[1].set_xscale('log')\n",
    "ax[1].set_xlabel('gamma')\n",
    "ax[1].set_ylabel('Test accuracy')\n",
    "ax[1].grid(True)\n",
    "\n",
    "\n",
    "plt.show()"
   ]
  },
  {
   "cell_type": "markdown",
   "metadata": {},
   "source": [
    "## QUESTION 2\n",
    "How do the train and test error change when changing gamma ? Which is the best value of gamma ? \n",
    "Connect your answers to the discussion about the overfitting issue."
   ]
  },
  {
   "cell_type": "markdown",
   "metadata": {},
   "source": [
    "For the smallest values of gamma the performance on both training and test set is poor.\\\n",
    "Increasing gamma (which means reducing the variances of the kernel's gaussians) allows to fit much better the training set. Obviously this leads to problems of overfitting that start for gamma greater than $10^{-2}$. In fact we see that for those values the accuracy on the test set drops down to 0.1 again. Therefore the best value for gamma is $10^{-2}$.\\\n",
    "Even without looking at the test set, a hint could have been the fact that gamma=0.01 was the last value for which the accracy on the training set wasn't exactly equal 1."
   ]
  },
  {
   "cell_type": "markdown",
   "metadata": {},
   "source": [
    "## More data\n",
    "Now let's do the same but using more data points for training.\n",
    "\n",
    "\n",
    "Choose a new number of data points."
   ]
  },
  {
   "cell_type": "code",
   "execution_count": 35,
   "metadata": {},
   "outputs": [
    {
     "name": "stdout",
     "output_type": "stream",
     "text": [
      "Labels in training dataset:  [0 1 2 3 4 5 6 7 8 9]\n",
      "Frequencies in training dataset:  [180 228 216 196 170 200 196 211 196 207]\n"
     ]
    }
   ],
   "source": [
    "X = X[permutation]\n",
    "y = y[permutation]\n",
    "\n",
    "m_training = 2000 # TODO number of data points, adjust depending on the capabilities of your PC\n",
    "\n",
    "X_train, X_test = X[:m_training], X[m_training:]\n",
    "y_train, y_test = y[:m_training], y[m_training:]\n",
    "\n",
    "labels, freqs = np.unique(y_train, return_counts=True)\n",
    "print(\"Labels in training dataset: \", labels)\n",
    "print(\"Frequencies in training dataset: \", freqs)"
   ]
  },
  {
   "cell_type": "markdown",
   "metadata": {},
   "source": [
    "## TO DO 7\n",
    "\n",
    "Let's try to use SVM with parameters obtained from the best model for $m_{training} =  2000$. Since it may take a long time to run, you can decide to just let it run for some time and stop it if it does not complete. If you decide to do this, report it in the cell below."
   ]
  },
  {
   "cell_type": "code",
   "execution_count": 36,
   "metadata": {
    "scrolled": true
   },
   "outputs": [
    {
     "name": "stdout",
     "output_type": "stream",
     "text": [
      "Best SVM training error: 0.000000\n",
      "Best SVM test error: 0.111810\n"
     ]
    }
   ],
   "source": [
    "best_SVM = SVC(kernel = 'rbf', C = 10, gamma = 0.01 )\n",
    "\n",
    "best_SVM.fit(X_train, y_train)\n",
    "\n",
    "training_error = 1.-best_SVM.score(X_train, y_train)\n",
    "test_error = 1.-best_SVM.score(X_test, y_test)\n",
    "\n",
    "print (\"Best SVM training error: %f\" % training_error)\n",
    "print (\"Best SVM test error: %f\" % test_error)"
   ]
  },
  {
   "cell_type": "markdown",
   "metadata": {},
   "source": [
    "Just for comparison, let's also use logistic regression \n",
    "\n",
    "## TO DO 8 Try first without regularization (use a very large large C)¶"
   ]
  },
  {
   "cell_type": "code",
   "execution_count": 37,
   "metadata": {},
   "outputs": [
    {
     "name": "stdout",
     "output_type": "stream",
     "text": [
      "Best logistic regression training error: 0.000000\n",
      "Best logistic regression test error: 0.284931\n"
     ]
    }
   ],
   "source": [
    "logreg = linear_model.LogisticRegression(C=1e10)\n",
    "\n",
    "logreg.fit(X_train, y_train)\n",
    "\n",
    "training_error = 1-logreg.score(X_train, y_train)\n",
    "test_error = 1-logreg.score(X_test, y_test)\n",
    "print (\"Best logistic regression training error: %f\" % training_error)\n",
    "print (\"Best logistic regression test error: %f\" % test_error)"
   ]
  },
  {
   "cell_type": "markdown",
   "metadata": {},
   "source": [
    "## TO DO 9 Try  with regularization (use C=1)¶"
   ]
  },
  {
   "cell_type": "code",
   "execution_count": 38,
   "metadata": {},
   "outputs": [
    {
     "name": "stdout",
     "output_type": "stream",
     "text": [
      "Best logistic regression training error: 0.001500\n",
      "Best logistic regression test error: 0.250672\n"
     ]
    }
   ],
   "source": [
    "logreg = linear_model.LogisticRegression(C=1, max_iter=1000)\n",
    "\n",
    "logreg.fit(X_train, y_train)\n",
    "\n",
    "training_error = 1-logreg.score(X_train, y_train)\n",
    "test_error = 1-logreg.score(X_test, y_test)\n",
    "print (\"Best logistic regression training error: %f\" % training_error)\n",
    "print (\"Best logistic regression test error: %f\" % test_error)"
   ]
  },
  {
   "cell_type": "markdown",
   "metadata": {},
   "source": [
    "## QUESTION 3\n",
    "Compare and discuss:\n",
    "- the results from SVM with m=600 and with m=2000 training data points. If you stopped the SVM, include such aspect in your comparison.\n",
    "- the results of SVM and of Logistic Regression"
   ]
  },
  {
   "cell_type": "markdown",
   "metadata": {},
   "source": [
    "### 3.1)\n",
    "\n",
    "The SVM's training error goes to zero in both cases. Clearly, the bigger the training set, the more accurate are our predictions. This in fact is what we observe when comparing the two results on the test set, where we have errors of 0.11 and 0.17.\n",
    "\n",
    "### 3.2)\n",
    "\n",
    "SVM results much better than the logistic regression (independently by the regularization of the log-reg). While the errors on the training set are close to zero for both, the errors on the test set are 0.16 for the SVM and more than 0.25 for the log-reg."
   ]
  },
  {
   "cell_type": "markdown",
   "metadata": {},
   "source": [
    "## TO DO 10\n",
    "Plot an item of clothing that is missclassified by logistic regression and correctly classified by SVM."
   ]
  },
  {
   "cell_type": "code",
   "execution_count": 39,
   "metadata": {},
   "outputs": [
    {
     "name": "stdout",
     "output_type": "stream",
     "text": [
      "according to the svm: 8\n",
      "according to the log regression: 5\n",
      "INPUT:\n"
     ]
    },
    {
     "data": {
      "image/png": "[encoded data removed]",
      "text/plain": [
       "<Figure size 432x288 with 1 Axes>"
      ]
     },
     "metadata": {
      "needs_background": "light"
     },
     "output_type": "display_data"
    },
    {
     "name": "stdout",
     "output_type": "stream",
     "text": [
      "LABEL: 8\n"
     ]
    }
   ],
   "source": [
    "y_pred_svm = best_SVM.predict(X_test)\n",
    "y_pred_log = logreg.predict(X_test)\n",
    "\n",
    "for i in range (len(y_pred_svm)):\n",
    "    if y_pred_svm[i]!=y_pred_log[i]:\n",
    "        index_miscl=i\n",
    "        break\n",
    "print(\"according to the svm:\",y_pred_svm[index_miscl])\n",
    "print(\"according to the log regression:\",y_pred_log[index_miscl])\n",
    "\n",
    "plot_input(X_test,y_test,index_miscl)"
   ]
  },
  {
   "cell_type": "markdown",
   "metadata": {},
   "source": [
    "## TO DO 11\n",
    "Plot the confusion matrix for the SVM classifier and for logistic regression.\n",
    "The confusion matrix has one column for each predicted label and one row for each true label. \n",
    "It shows for each class in the corresponding row how many samples belonging to that class gets each possible output label.\n",
    "Notice that the diagonal contains the correctly classified samples, while the other cells correspond to errors.\n",
    "You can obtain it with the sklearn.metrics.confusion_matrix function (see the documentation).\n",
    "Try also to normalize the confusion matrix by the number of samples in each class in order to measure the accuracy on each single class.\n"
   ]
  },
  {
   "cell_type": "code",
   "execution_count": 46,
   "metadata": {},
   "outputs": [
    {
     "name": "stdout",
     "output_type": "stream",
     "text": [
      "Labels and frequencies in test set:  [5820 5772 5784 5804 5830 5800 5804 5789 5804 5793]\n",
      "\n",
      " Confusion matrix LR  \n",
      " \n",
      " [[5004   29   32   54  158  157   10  219   55  102]\n",
      " [  32 4380  398  103  149   67  210   34  190  209]\n",
      " [   9  334 3754  147  150  206  492   73  395  224]\n",
      " [  24  174  139 4596  169  282   59  178  155   28]\n",
      " [ 245  412  349  131 3940  102  196  168  121  166]\n",
      " [ 120  209  134  300   71 4557  112  114  158   25]\n",
      " [  49  433  610   82  190   96 3985  162  155   42]\n",
      " [  59  111  153  108  161  134  118 4734  107  104]\n",
      " [ 108  326  369  180   42  159  236   30 4293   61]\n",
      " [  71  453  324   40  217   73   94  114  189 4218]]\n",
      "\n",
      " Confusion matrix LR (normalized)   \n",
      " \n",
      " [[0.86 0.00 0.01 0.01 0.03 0.03 0.00 0.04 0.01 0.02]\n",
      " [0.01 0.76 0.07 0.02 0.03 0.01 0.04 0.01 0.03 0.04]\n",
      " [0.00 0.06 0.65 0.03 0.03 0.04 0.09 0.01 0.07 0.04]\n",
      " [0.00 0.03 0.02 0.79 0.03 0.05 0.01 0.03 0.03 0.00]\n",
      " [0.04 0.07 0.06 0.02 0.68 0.02 0.03 0.03 0.02 0.03]\n",
      " [0.02 0.04 0.02 0.05 0.01 0.79 0.02 0.02 0.03 0.00]\n",
      " [0.01 0.07 0.11 0.01 0.03 0.02 0.69 0.03 0.03 0.01]\n",
      " [0.01 0.02 0.03 0.02 0.03 0.02 0.02 0.82 0.02 0.02]\n",
      " [0.02 0.06 0.06 0.03 0.01 0.03 0.04 0.01 0.74 0.01]\n",
      " [0.01 0.08 0.06 0.01 0.04 0.01 0.02 0.02 0.03 0.73]]\n",
      "\n",
      " Confusion matrix SVM  \n",
      " \n",
      " [[5437    7    5   28   93   58    6  118   38   30]\n",
      " [  15 5156  102   68   70   13  135    6   80  127]\n",
      " [   0  136 4779  174   50   41  314   22  185   83]\n",
      " [  11   66   99 5365   54   46   23   50   72   18]\n",
      " [ 184  154  169   64 4900   17  117   46   93   86]\n",
      " [  49   75   73  164   38 5242   62   21   56   20]\n",
      " [  14  185  304   35  106   13 5010   79   45   13]\n",
      " [  40   54   53   42  129   17   63 5326   44   21]\n",
      " [  74  165   65   67    9   41  160    9 5193   21]\n",
      " [  21  219  177   18  117   13   19   38   64 5107]]\n",
      "\n",
      " Confusion matrix SVM (normalized)   \n",
      " \n",
      " [[0.93 0.00 0.00 0.00 0.02 0.01 0.00 0.02 0.01 0.01]\n",
      " [0.00 0.89 0.02 0.01 0.01 0.00 0.02 0.00 0.01 0.02]\n",
      " [0.00 0.02 0.83 0.03 0.01 0.01 0.05 0.00 0.03 0.01]\n",
      " [0.00 0.01 0.02 0.92 0.01 0.01 0.00 0.01 0.01 0.00]\n",
      " [0.03 0.03 0.03 0.01 0.84 0.00 0.02 0.01 0.02 0.01]\n",
      " [0.01 0.01 0.01 0.03 0.01 0.90 0.01 0.00 0.01 0.00]\n",
      " [0.00 0.03 0.05 0.01 0.02 0.00 0.86 0.01 0.01 0.00]\n",
      " [0.01 0.01 0.01 0.01 0.02 0.00 0.01 0.92 0.01 0.00]\n",
      " [0.01 0.03 0.01 0.01 0.00 0.01 0.03 0.00 0.89 0.00]\n",
      " [0.00 0.04 0.03 0.00 0.02 0.00 0.00 0.01 0.01 0.88]]\n"
     ]
    }
   ],
   "source": [
    "np.set_printoptions(precision=2, suppress=True, floatmode='fixed')\n",
    "u, counts = np.unique(y_test, return_counts=True)\n",
    "print(\"Labels and frequencies in test set: \", counts)\n",
    "\n",
    "confusion_LR = metrics.confusion_matrix(y_test, y_pred_log)\n",
    "print(\"\\n Confusion matrix LR  \\n \\n\", confusion_LR)\n",
    "print(\"\\n Confusion matrix LR (normalized)   \\n \\n\", confusion_LR /counts[:,None] )\n",
    "\n",
    "confusion_SVM = metrics.confusion_matrix(y_test, y_pred_svm)\n",
    "print(\"\\n Confusion matrix SVM  \\n \\n\", confusion_SVM)\n",
    "print(\"\\n Confusion matrix SVM (normalized)   \\n \\n\", confusion_SVM /counts[:,None] )"
   ]
  },
  {
   "cell_type": "code",
   "execution_count": 47,
   "metadata": {},
   "outputs": [
    {
     "name": "stdout",
     "output_type": "stream",
     "text": [
      "\n",
      " Another nice way to visualize the same result is using heatmaps with a logarithmic scale (to see better the different colors):\n"
     ]
    },
    {
     "data": {
      "image/png": "[encoded data removed]",
      "text/plain": [
       "<Figure size 432x288 with 2 Axes>"
      ]
     },
     "metadata": {
      "needs_background": "light"
     },
     "output_type": "display_data"
    },
    {
     "data": {
      "image/png": "[encoded data removed]",
      "text/plain": [
       "<Figure size 432x288 with 2 Axes>"
      ]
     },
     "metadata": {
      "needs_background": "light"
     },
     "output_type": "display_data"
    }
   ],
   "source": [
    "print(\"\\n Another nice way to visualize the same result is using heatmaps with a logarithmic scale (to see better the different colors):\")\n",
    "confusion_SVM_ln=np.log((confusion_SVM+1)/counts[:,None])\n",
    "confusion_LR_ln=np.log((confusion_LR+1)/counts[:,None])\n",
    "\n",
    "disp1 = ConfusionMatrixDisplay(confusion_matrix=-confusion_SVM_ln, display_labels=None)\n",
    "disp1.plot()\n",
    "disp1 = ConfusionMatrixDisplay(confusion_matrix=-confusion_LR_ln, display_labels=None)\n",
    "disp1.plot()\n",
    "plt.show()"
   ]
  },
  {
   "cell_type": "markdown",
   "metadata": {},
   "source": [
    "## QUESTION 4\n",
    "Have a look at the confusion matrices and comment on the obtained accuracies. Why some classes have lower accuracies and others an higher one ? Make some guesses on the possible causes.\n"
   ]
  },
  {
   "cell_type": "markdown",
   "metadata": {},
   "source": [
    "From the confusion matrices we can see that the two most difficult images to distinguish are labels 2-6. Other couples of less difficult but still often misclassified labels are: 1-9, 1-6, 2-9.\\\n",
    "Coherently we see that the term (2,2) is the smaller in value on the entire diagonal of the matrix.\\\n",
    "In fact we see that label that are rarely misclassified are much different from each other (like 0-2), while 2-6 are very similar (they both have a small circle in the bottom and are bot sword shaped at the top, with 6 only having one horizzontal line more than 2)."
   ]
  },
  {
   "cell_type": "code",
   "execution_count": null,
   "metadata": {},
   "outputs": [],
   "source": []
  }
 ],
 "metadata": {
  "kernelspec": {
   "display_name": "Python 3",
   "language": "python",
   "name": "python3"
  },
  "language_info": {
   "codemirror_mode": {
    "name": "ipython",
    "version": 3
   },
   "file_extension": ".py",
   "mimetype": "text/x-python",
   "name": "python",
   "nbconvert_exporter": "python",
   "pygments_lexer": "ipython3",
   "version": "3.8.8"
  }
 },
 "nbformat": 4,
 "nbformat_minor": 4
}
