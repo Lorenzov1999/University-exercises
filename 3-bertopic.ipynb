{
 "cells": [
  {
   "cell_type": "markdown",
   "metadata": {},
   "source": [
    "# **Incels affiliation with the alt-right** | topic modeling with BERTopic\n",
    "\n",
    "Project for *Network Science*, University of Padua, A.Y. 2022/23<br>\n",
    "\n",
    "**Students** | Alberto Gobbin, Gianmarco Nagaro Quiroz, Daniele Ninni, Lorenzo Valentini"
   ]
  },
  {
   "cell_type": "code",
   "execution_count": 1,
   "metadata": {
    "execution": {
     "iopub.execute_input": "2023-02-25T10:09:56.190384Z",
     "iopub.status.busy": "2023-02-25T10:09:56.189578Z",
     "iopub.status.idle": "2023-02-25T10:10:05.997140Z",
     "shell.execute_reply": "2023-02-25T10:10:05.996368Z",
     "shell.execute_reply.started": "2023-02-25T10:09:56.190318Z"
    }
   },
   "outputs": [
    {
     "name": "stdout",
     "output_type": "stream",
     "text": [
      "Hit:1 http://archive.ubuntu.com/ubuntu focal InRelease\n",
      "Hit:2 https://developer.download.nvidia.com/compute/cuda/repos/ubuntu2004/x86_64  InRelease\n",
      "Hit:3 http://archive.ubuntu.com/ubuntu focal-updates InRelease               \u001b[0m\n",
      "Hit:4 http://archive.ubuntu.com/ubuntu focal-backports InRelease             \n",
      "Get:5 http://security.ubuntu.com/ubuntu focal-security InRelease [114 kB]\n",
      "Fetched 114 kB in 0s (247 kB/s)    \u001b[0m\u001b[33m\u001b[33m\u001b[33m\u001b[33m\u001b[33m\n",
      "Reading package lists... Done\n",
      "Building dependency tree       \n",
      "Reading state information... Done\n",
      "1 package can be upgraded. Run 'apt list --upgradable' to see it.\n",
      "Reading package lists... Done\n",
      "Building dependency tree       \n",
      "Reading state information... Done\n",
      "Calculating upgrade... Done\n",
      "The following packages have been kept back:\n",
      "  libnccl2\n",
      "0 upgraded, 0 newly installed, 0 to remove and 1 not upgraded.\n",
      "Reading package lists... Done\n",
      "Building dependency tree       \n",
      "Reading state information... Done\n",
      "build-essential is already the newest version (12.8ubuntu1.1).\n",
      "0 upgraded, 0 newly installed, 0 to remove and 1 not upgraded.\n",
      "Requirement already satisfied: bertopic in /opt/conda/envs/rapids/lib/python3.9/site-packages (0.14.0)\n",
      "Requirement already satisfied: tqdm>=4.41.1 in /opt/conda/envs/rapids/lib/python3.9/site-packages (from bertopic) (4.64.1)\n",
      "Requirement already satisfied: umap-learn>=0.5.0 in /opt/conda/envs/rapids/lib/python3.9/site-packages (from bertopic) (0.5.3)\n",
      "Requirement already satisfied: sentence-transformers>=0.4.1 in /opt/conda/envs/rapids/lib/python3.9/site-packages (from bertopic) (2.2.2)\n",
      "Requirement already satisfied: scikit-learn>=0.22.2.post1 in /opt/conda/envs/rapids/lib/python3.9/site-packages (from bertopic) (0.24.2)\n",
      "Requirement already satisfied: numpy>=1.20.0 in /opt/conda/envs/rapids/lib/python3.9/site-packages (from bertopic) (1.23.4)\n",
      "Requirement already satisfied: plotly>=4.7.0 in /opt/conda/envs/rapids/lib/python3.9/site-packages (from bertopic) (5.13.1)\n",
      "Requirement already satisfied: pandas>=1.1.5 in /opt/conda/envs/rapids/lib/python3.9/site-packages (from bertopic) (1.5.1)\n",
      "Requirement already satisfied: hdbscan>=0.8.29 in /opt/conda/envs/rapids/lib/python3.9/site-packages (from bertopic) (0.8.29)\n",
      "Requirement already satisfied: joblib>=1.0 in /opt/conda/envs/rapids/lib/python3.9/site-packages (from hdbscan>=0.8.29->bertopic) (1.2.0)\n",
      "Requirement already satisfied: scipy>=1.0 in /opt/conda/envs/rapids/lib/python3.9/site-packages (from hdbscan>=0.8.29->bertopic) (1.6.0)\n",
      "Requirement already satisfied: cython>=0.27 in /opt/conda/envs/rapids/lib/python3.9/site-packages (from hdbscan>=0.8.29->bertopic) (0.29.32)\n",
      "Requirement already satisfied: python-dateutil>=2.8.1 in /opt/conda/envs/rapids/lib/python3.9/site-packages (from pandas>=1.1.5->bertopic) (2.8.2)\n",
      "Requirement already satisfied: pytz>=2020.1 in /opt/conda/envs/rapids/lib/python3.9/site-packages (from pandas>=1.1.5->bertopic) (2022.5)\n",
      "Requirement already satisfied: tenacity>=6.2.0 in /opt/conda/envs/rapids/lib/python3.9/site-packages (from plotly>=4.7.0->bertopic) (8.2.1)\n",
      "Requirement already satisfied: threadpoolctl>=2.0.0 in /opt/conda/envs/rapids/lib/python3.9/site-packages (from scikit-learn>=0.22.2.post1->bertopic) (3.1.0)\n",
      "Requirement already satisfied: sentencepiece in /opt/conda/envs/rapids/lib/python3.9/site-packages (from sentence-transformers>=0.4.1->bertopic) (0.1.97)\n",
      "Requirement already satisfied: torchvision in /opt/conda/envs/rapids/lib/python3.9/site-packages (from sentence-transformers>=0.4.1->bertopic) (0.14.1)\n",
      "Requirement already satisfied: huggingface-hub>=0.4.0 in /opt/conda/envs/rapids/lib/python3.9/site-packages (from sentence-transformers>=0.4.1->bertopic) (0.12.1)\n",
      "Requirement already satisfied: nltk in /opt/conda/envs/rapids/lib/python3.9/site-packages (from sentence-transformers>=0.4.1->bertopic) (3.8.1)\n",
      "Requirement already satisfied: torch>=1.6.0 in /opt/conda/envs/rapids/lib/python3.9/site-packages (from sentence-transformers>=0.4.1->bertopic) (1.13.1)\n",
      "Requirement already satisfied: transformers<5.0.0,>=4.6.0 in /opt/conda/envs/rapids/lib/python3.9/site-packages (from sentence-transformers>=0.4.1->bertopic) (4.26.1)\n",
      "Requirement already satisfied: pynndescent>=0.5 in /opt/conda/envs/rapids/lib/python3.9/site-packages (from umap-learn>=0.5.0->bertopic) (0.5.8)\n",
      "Requirement already satisfied: numba>=0.49 in /opt/conda/envs/rapids/lib/python3.9/site-packages (from umap-learn>=0.5.0->bertopic) (0.56.3)\n",
      "Requirement already satisfied: packaging>=20.9 in /opt/conda/envs/rapids/lib/python3.9/site-packages (from huggingface-hub>=0.4.0->sentence-transformers>=0.4.1->bertopic) (21.3)\n",
      "Requirement already satisfied: pyyaml>=5.1 in /opt/conda/envs/rapids/lib/python3.9/site-packages (from huggingface-hub>=0.4.0->sentence-transformers>=0.4.1->bertopic) (6.0)\n",
      "Requirement already satisfied: typing-extensions>=3.7.4.3 in /opt/conda/envs/rapids/lib/python3.9/site-packages (from huggingface-hub>=0.4.0->sentence-transformers>=0.4.1->bertopic) (4.4.0)\n",
      "Requirement already satisfied: filelock in /opt/conda/envs/rapids/lib/python3.9/site-packages (from huggingface-hub>=0.4.0->sentence-transformers>=0.4.1->bertopic) (3.9.0)\n",
      "Requirement already satisfied: requests in /opt/conda/envs/rapids/lib/python3.9/site-packages (from huggingface-hub>=0.4.0->sentence-transformers>=0.4.1->bertopic) (2.28.1)\n",
      "Requirement already satisfied: setuptools in /opt/conda/envs/rapids/lib/python3.9/site-packages (from numba>=0.49->umap-learn>=0.5.0->bertopic) (60.10.0)\n",
      "Requirement already satisfied: llvmlite<0.40,>=0.39.0dev0 in /opt/conda/envs/rapids/lib/python3.9/site-packages (from numba>=0.49->umap-learn>=0.5.0->bertopic) (0.39.1)\n",
      "Requirement already satisfied: six>=1.5 in /opt/conda/envs/rapids/lib/python3.9/site-packages (from python-dateutil>=2.8.1->pandas>=1.1.5->bertopic) (1.16.0)\n",
      "Requirement already satisfied: nvidia-cublas-cu11==11.10.3.66 in /opt/conda/envs/rapids/lib/python3.9/site-packages (from torch>=1.6.0->sentence-transformers>=0.4.1->bertopic) (11.10.3.66)\n",
      "Requirement already satisfied: nvidia-cuda-nvrtc-cu11==11.7.99 in /opt/conda/envs/rapids/lib/python3.9/site-packages (from torch>=1.6.0->sentence-transformers>=0.4.1->bertopic) (11.7.99)\n",
      "Requirement already satisfied: nvidia-cuda-runtime-cu11==11.7.99 in /opt/conda/envs/rapids/lib/python3.9/site-packages (from torch>=1.6.0->sentence-transformers>=0.4.1->bertopic) (11.7.99)\n",
      "Requirement already satisfied: nvidia-cudnn-cu11==8.5.0.96 in /opt/conda/envs/rapids/lib/python3.9/site-packages (from torch>=1.6.0->sentence-transformers>=0.4.1->bertopic) (8.5.0.96)\n",
      "Requirement already satisfied: wheel in /opt/conda/envs/rapids/lib/python3.9/site-packages (from nvidia-cublas-cu11==11.10.3.66->torch>=1.6.0->sentence-transformers>=0.4.1->bertopic) (0.37.1)\n",
      "Requirement already satisfied: regex!=2019.12.17 in /opt/conda/envs/rapids/lib/python3.9/site-packages (from transformers<5.0.0,>=4.6.0->sentence-transformers>=0.4.1->bertopic) (2022.10.31)\n",
      "Requirement already satisfied: tokenizers!=0.11.3,<0.14,>=0.11.1 in /opt/conda/envs/rapids/lib/python3.9/site-packages (from transformers<5.0.0,>=4.6.0->sentence-transformers>=0.4.1->bertopic) (0.13.2)\n",
      "Requirement already satisfied: click in /opt/conda/envs/rapids/lib/python3.9/site-packages (from nltk->sentence-transformers>=0.4.1->bertopic) (8.1.3)\n",
      "Requirement already satisfied: pillow!=8.3.*,>=5.3.0 in /opt/conda/envs/rapids/lib/python3.9/site-packages (from torchvision->sentence-transformers>=0.4.1->bertopic) (9.2.0)\n",
      "Requirement already satisfied: pyparsing!=3.0.5,>=2.0.2 in /opt/conda/envs/rapids/lib/python3.9/site-packages (from packaging>=20.9->huggingface-hub>=0.4.0->sentence-transformers>=0.4.1->bertopic) (3.0.9)\n",
      "Requirement already satisfied: idna<4,>=2.5 in /opt/conda/envs/rapids/lib/python3.9/site-packages (from requests->huggingface-hub>=0.4.0->sentence-transformers>=0.4.1->bertopic) (3.4)\n",
      "Requirement already satisfied: certifi>=2017.4.17 in /opt/conda/envs/rapids/lib/python3.9/site-packages (from requests->huggingface-hub>=0.4.0->sentence-transformers>=0.4.1->bertopic) (2022.9.24)\n",
      "Requirement already satisfied: charset-normalizer<3,>=2 in /opt/conda/envs/rapids/lib/python3.9/site-packages (from requests->huggingface-hub>=0.4.0->sentence-transformers>=0.4.1->bertopic) (2.1.1)\n",
      "Requirement already satisfied: urllib3<1.27,>=1.21.1 in /opt/conda/envs/rapids/lib/python3.9/site-packages (from requests->huggingface-hub>=0.4.0->sentence-transformers>=0.4.1->bertopic) (1.26.11)\n",
      "\u001b[33mWARNING: Running pip as the 'root' user can result in broken permissions and conflicting behaviour with the system package manager. It is recommended to use a virtual environment instead: https://pip.pypa.io/warnings/venv\u001b[0m\u001b[33m\n",
      "\u001b[0mRequirement already satisfied: wordcloud in /opt/conda/envs/rapids/lib/python3.9/site-packages (1.8.2.2)\n",
      "Requirement already satisfied: numpy>=1.6.1 in /opt/conda/envs/rapids/lib/python3.9/site-packages (from wordcloud) (1.23.4)\n",
      "Requirement already satisfied: matplotlib in /opt/conda/envs/rapids/lib/python3.9/site-packages (from wordcloud) (3.6.1)\n",
      "Requirement already satisfied: pillow in /opt/conda/envs/rapids/lib/python3.9/site-packages (from wordcloud) (9.2.0)\n",
      "Requirement already satisfied: packaging>=20.0 in /opt/conda/envs/rapids/lib/python3.9/site-packages (from matplotlib->wordcloud) (21.3)\n",
      "Requirement already satisfied: pyparsing>=2.2.1 in /opt/conda/envs/rapids/lib/python3.9/site-packages (from matplotlib->wordcloud) (3.0.9)\n",
      "Requirement already satisfied: python-dateutil>=2.7 in /opt/conda/envs/rapids/lib/python3.9/site-packages (from matplotlib->wordcloud) (2.8.2)\n",
      "Requirement already satisfied: fonttools>=4.22.0 in /opt/conda/envs/rapids/lib/python3.9/site-packages (from matplotlib->wordcloud) (4.38.0)\n",
      "Requirement already satisfied: kiwisolver>=1.0.1 in /opt/conda/envs/rapids/lib/python3.9/site-packages (from matplotlib->wordcloud) (1.4.4)\n",
      "Requirement already satisfied: contourpy>=1.0.1 in /opt/conda/envs/rapids/lib/python3.9/site-packages (from matplotlib->wordcloud) (1.0.6)\n",
      "Requirement already satisfied: cycler>=0.10 in /opt/conda/envs/rapids/lib/python3.9/site-packages (from matplotlib->wordcloud) (0.11.0)\n",
      "Requirement already satisfied: six>=1.5 in /opt/conda/envs/rapids/lib/python3.9/site-packages (from python-dateutil>=2.7->matplotlib->wordcloud) (1.16.0)\n",
      "\u001b[33mWARNING: Running pip as the 'root' user can result in broken permissions and conflicting behaviour with the system package manager. It is recommended to use a virtual environment instead: https://pip.pypa.io/warnings/venv\u001b[0m\u001b[33m\n",
      "\u001b[0m"
     ]
    }
   ],
   "source": [
    "!apt update\n",
    "!apt upgrade -y\n",
    "!apt install build-essential -y\n",
    "!pip install bertopic\n",
    "!pip install wordcloud"
   ]
  },
  {
   "cell_type": "code",
   "execution_count": 2,
   "metadata": {
    "execution": {
     "iopub.execute_input": "2023-02-25T10:10:05.998761Z",
     "iopub.status.busy": "2023-02-25T10:10:05.998567Z",
     "iopub.status.idle": "2023-02-25T10:10:12.565393Z",
     "shell.execute_reply": "2023-02-25T10:10:12.564840Z",
     "shell.execute_reply.started": "2023-02-25T10:10:05.998743Z"
    }
   },
   "outputs": [],
   "source": [
    "import time\n",
    "from shutil import make_archive\n",
    "\n",
    "import numpy as np\n",
    "import pandas as pd\n",
    "\n",
    "from sentence_transformers import SentenceTransformer\n",
    "\n",
    "from cuml.manifold import UMAP   # GPU-accelerated UMAP\n",
    "from cuml.cluster import HDBSCAN # GPU-accelerated HDBSCAN\n",
    "\n",
    "from sklearn.feature_extraction.text import CountVectorizer\n",
    "\n",
    "from bertopic import BERTopic\n",
    "from bertopic.vectorizers import ClassTfidfTransformer\n",
    "from bertopic.representation import MaximalMarginalRelevance, KeyBERTInspired\n",
    "\n",
    "import matplotlib.pyplot as plt\n",
    "from wordcloud import WordCloud\n",
    "import plotly.express as px"
   ]
  },
  {
   "cell_type": "markdown",
   "metadata": {},
   "source": [
    " ### Settings"
   ]
  },
  {
   "cell_type": "code",
   "execution_count": 3,
   "metadata": {
    "execution": {
     "iopub.execute_input": "2023-02-25T10:10:12.566826Z",
     "iopub.status.busy": "2023-02-25T10:10:12.566243Z",
     "iopub.status.idle": "2023-02-25T10:10:12.572264Z",
     "shell.execute_reply": "2023-02-25T10:10:12.571865Z",
     "shell.execute_reply.started": "2023-02-25T10:10:12.566802Z"
    }
   },
   "outputs": [],
   "source": [
    "norm            = False\n",
    "fit_model        = False\n",
    "smoke_test      = False\n",
    "smoke_test_frac = 0.2"
   ]
  },
  {
   "cell_type": "markdown",
   "metadata": {},
   "source": [
    "## 1 - Data"
   ]
  },
  {
   "cell_type": "markdown",
   "metadata": {
    "id": "Y3VGFZ1USMTu"
   },
   "source": [
    "### 1.1 - Load data"
   ]
  },
  {
   "cell_type": "code",
   "execution_count": 4,
   "metadata": {
    "execution": {
     "iopub.execute_input": "2023-02-25T10:10:12.573843Z",
     "iopub.status.busy": "2023-02-25T10:10:12.573308Z",
     "iopub.status.idle": "2023-02-25T10:10:26.245755Z",
     "shell.execute_reply": "2023-02-25T10:10:26.245153Z",
     "shell.execute_reply.started": "2023-02-25T10:10:12.573825Z"
    },
    "id": "JJij3WP6SEQD"
   },
   "outputs": [
    {
     "data": {
      "text/html": [
       "<div>\n",
       "<style scoped>\n",
       "    .dataframe tbody tr th:only-of-type {\n",
       "        vertical-align: middle;\n",
       "    }\n",
       "\n",
       "    .dataframe tbody tr th {\n",
       "        vertical-align: top;\n",
       "    }\n",
       "\n",
       "    .dataframe thead th {\n",
       "        text-align: right;\n",
       "    }\n",
       "</style>\n",
       "<table border=\"1\" class=\"dataframe\">\n",
       "  <thead>\n",
       "    <tr style=\"text-align: right;\">\n",
       "      <th></th>\n",
       "      <th>instance</th>\n",
       "      <th>author</th>\n",
       "      <th>body</th>\n",
       "      <th>title</th>\n",
       "      <th>subreddit</th>\n",
       "      <th>score</th>\n",
       "      <th>id</th>\n",
       "      <th>group</th>\n",
       "    </tr>\n",
       "  </thead>\n",
       "  <tbody>\n",
       "    <tr>\n",
       "      <th>0</th>\n",
       "      <td>submission</td>\n",
       "      <td>ANgroupMOD</td>\n",
       "      <td>dear  subscribers,  as you may know, we’ve gro...</td>\n",
       "      <td>Open call for moderator applications</td>\n",
       "      <td>antinatalism</td>\n",
       "      <td>71</td>\n",
       "      <td>yz7a7q</td>\n",
       "      <td>incels</td>\n",
       "    </tr>\n",
       "    <tr>\n",
       "      <th>1</th>\n",
       "      <td>comment</td>\n",
       "      <td>IPcreator</td>\n",
       "      <td>enjoyed it, great job by both.</td>\n",
       "      <td>mechANized: Antinatalism &amp; Open AI #2 Matti Hä...</td>\n",
       "      <td>antinatalism</td>\n",
       "      <td>1</td>\n",
       "      <td>j4ryie0</td>\n",
       "      <td>incels</td>\n",
       "    </tr>\n",
       "    <tr>\n",
       "      <th>2</th>\n",
       "      <td>comment</td>\n",
       "      <td>ArmsWindmill</td>\n",
       "      <td>“but who will take care of you when you’re old...</td>\n",
       "      <td>Imagine having ten children only to die alone ...</td>\n",
       "      <td>antinatalism</td>\n",
       "      <td>1</td>\n",
       "      <td>j4stojh</td>\n",
       "      <td>incels</td>\n",
       "    </tr>\n",
       "    <tr>\n",
       "      <th>3</th>\n",
       "      <td>comment</td>\n",
       "      <td>hypothetical_zombie</td>\n",
       "      <td>someone, please tell me again how being cf mea...</td>\n",
       "      <td>Imagine having ten children only to die alone ...</td>\n",
       "      <td>antinatalism</td>\n",
       "      <td>1</td>\n",
       "      <td>j4stim1</td>\n",
       "      <td>incels</td>\n",
       "    </tr>\n",
       "    <tr>\n",
       "      <th>4</th>\n",
       "      <td>comment</td>\n",
       "      <td>Aurora1717</td>\n",
       "      <td>\"smith listed many things about her mother, in...</td>\n",
       "      <td>Imagine having ten children only to die alone ...</td>\n",
       "      <td>antinatalism</td>\n",
       "      <td>1</td>\n",
       "      <td>j4tcxyh</td>\n",
       "      <td>incels</td>\n",
       "    </tr>\n",
       "    <tr>\n",
       "      <th>...</th>\n",
       "      <td>...</td>\n",
       "      <td>...</td>\n",
       "      <td>...</td>\n",
       "      <td>...</td>\n",
       "      <td>...</td>\n",
       "      <td>...</td>\n",
       "      <td>...</td>\n",
       "      <td>...</td>\n",
       "    </tr>\n",
       "    <tr>\n",
       "      <th>774048</th>\n",
       "      <td>comment</td>\n",
       "      <td>ProbableError</td>\n",
       "      <td>as someone who has been married for quite some...</td>\n",
       "      <td>I don't think it's rude to ask who the father ...</td>\n",
       "      <td>unpopularopinion</td>\n",
       "      <td>1</td>\n",
       "      <td>j1no8bs</td>\n",
       "      <td>incels</td>\n",
       "    </tr>\n",
       "    <tr>\n",
       "      <th>774049</th>\n",
       "      <td>comment</td>\n",
       "      <td>smitbret</td>\n",
       "      <td>because, in that situation, it's not rude to a...</td>\n",
       "      <td>I don't think it's rude to ask who the father ...</td>\n",
       "      <td>unpopularopinion</td>\n",
       "      <td>5</td>\n",
       "      <td>j18xcnh</td>\n",
       "      <td>incels</td>\n",
       "    </tr>\n",
       "    <tr>\n",
       "      <th>774050</th>\n",
       "      <td>comment</td>\n",
       "      <td>whiteshadow88</td>\n",
       "      <td>it’s not rude to wonder who 50% of the child i...</td>\n",
       "      <td>I don't think it's rude to ask who the father ...</td>\n",
       "      <td>unpopularopinion</td>\n",
       "      <td>4</td>\n",
       "      <td>j192d3a</td>\n",
       "      <td>incels</td>\n",
       "    </tr>\n",
       "    <tr>\n",
       "      <th>774051</th>\n",
       "      <td>comment</td>\n",
       "      <td>Level_Substance4771</td>\n",
       "      <td>i haven’t reread the thread, but i was under t...</td>\n",
       "      <td>I don't think it's rude to ask who the father ...</td>\n",
       "      <td>unpopularopinion</td>\n",
       "      <td>1</td>\n",
       "      <td>j1lxi5v</td>\n",
       "      <td>incels</td>\n",
       "    </tr>\n",
       "    <tr>\n",
       "      <th>774052</th>\n",
       "      <td>comment</td>\n",
       "      <td>zellegion</td>\n",
       "      <td>&gt;way to jump to way too many stupid fucking co...</td>\n",
       "      <td>I don't think it's rude to ask who the father ...</td>\n",
       "      <td>unpopularopinion</td>\n",
       "      <td>1</td>\n",
       "      <td>j1bi5ts</td>\n",
       "      <td>incels</td>\n",
       "    </tr>\n",
       "  </tbody>\n",
       "</table>\n",
       "<p>774053 rows × 8 columns</p>\n",
       "</div>"
      ],
      "text/plain": [
       "          instance               author  \\\n",
       "0       submission           ANgroupMOD   \n",
       "1          comment            IPcreator   \n",
       "2          comment         ArmsWindmill   \n",
       "3          comment  hypothetical_zombie   \n",
       "4          comment           Aurora1717   \n",
       "...            ...                  ...   \n",
       "774048     comment        ProbableError   \n",
       "774049     comment             smitbret   \n",
       "774050     comment        whiteshadow88   \n",
       "774051     comment  Level_Substance4771   \n",
       "774052     comment            zellegion   \n",
       "\n",
       "                                                     body  \\\n",
       "0       dear  subscribers,  as you may know, we’ve gro...   \n",
       "1                          enjoyed it, great job by both.   \n",
       "2       “but who will take care of you when you’re old...   \n",
       "3       someone, please tell me again how being cf mea...   \n",
       "4       \"smith listed many things about her mother, in...   \n",
       "...                                                   ...   \n",
       "774048  as someone who has been married for quite some...   \n",
       "774049  because, in that situation, it's not rude to a...   \n",
       "774050  it’s not rude to wonder who 50% of the child i...   \n",
       "774051  i haven’t reread the thread, but i was under t...   \n",
       "774052  >way to jump to way too many stupid fucking co...   \n",
       "\n",
       "                                                    title         subreddit  \\\n",
       "0                    Open call for moderator applications      antinatalism   \n",
       "1       mechANized: Antinatalism & Open AI #2 Matti Hä...      antinatalism   \n",
       "2       Imagine having ten children only to die alone ...      antinatalism   \n",
       "3       Imagine having ten children only to die alone ...      antinatalism   \n",
       "4       Imagine having ten children only to die alone ...      antinatalism   \n",
       "...                                                   ...               ...   \n",
       "774048  I don't think it's rude to ask who the father ...  unpopularopinion   \n",
       "774049  I don't think it's rude to ask who the father ...  unpopularopinion   \n",
       "774050  I don't think it's rude to ask who the father ...  unpopularopinion   \n",
       "774051  I don't think it's rude to ask who the father ...  unpopularopinion   \n",
       "774052  I don't think it's rude to ask who the father ...  unpopularopinion   \n",
       "\n",
       "        score       id   group  \n",
       "0          71   yz7a7q  incels  \n",
       "1           1  j4ryie0  incels  \n",
       "2           1  j4stojh  incels  \n",
       "3           1  j4stim1  incels  \n",
       "4           1  j4tcxyh  incels  \n",
       "...       ...      ...     ...  \n",
       "774048      1  j1no8bs  incels  \n",
       "774049      5  j18xcnh  incels  \n",
       "774050      4  j192d3a  incels  \n",
       "774051      1  j1lxi5v  incels  \n",
       "774052      1  j1bi5ts  incels  \n",
       "\n",
       "[774053 rows x 8 columns]"
      ]
     },
     "execution_count": 4,
     "metadata": {},
     "output_type": "execute_result"
    }
   ],
   "source": [
    "data = {}\n",
    "embeddings = {}\n",
    "\n",
    "groups = [\n",
    "    'incels',\n",
    "    'altright',\n",
    "    'leftwing'\n",
    "    ]\n",
    "\n",
    "for group in groups:\n",
    "\n",
    "    data[group] = pd.read_csv(f'data_{group}_cleaned.csv', lineterminator='\\n')\n",
    "    data[group]['group'] = group\n",
    "    \n",
    "    embeddings[group] = np.load(f'embeddings_{group}{\"_norm\" if norm else \"\"}.npy')\n",
    "\n",
    "data['incels']"
   ]
  },
  {
   "cell_type": "markdown",
   "metadata": {},
   "source": [
    "### 1.2 - Smoke test"
   ]
  },
  {
   "cell_type": "code",
   "execution_count": 5,
   "metadata": {
    "execution": {
     "iopub.execute_input": "2023-02-25T10:10:26.246832Z",
     "iopub.status.busy": "2023-02-25T10:10:26.246621Z",
     "iopub.status.idle": "2023-02-25T10:10:26.250964Z",
     "shell.execute_reply": "2023-02-25T10:10:26.250451Z",
     "shell.execute_reply.started": "2023-02-25T10:10:26.246813Z"
    }
   },
   "outputs": [],
   "source": [
    "smoke_test_threshold = 1000 # minimum length of reduced datasets\n",
    "\n",
    "if smoke_test:\n",
    "\n",
    "    len_min = smoke_test_frac * min([len(data[group]) for group in groups])\n",
    "    if len_min < smoke_test_threshold:\n",
    "\n",
    "        raise Exception(f'One of the reduced datasets would have a number of samples < {smoke_test_threshold}! Select a larger value for \"smoke_test_frac\".')\n",
    "\n",
    "    else:\n",
    "        \n",
    "        for group in groups:\n",
    "\n",
    "            data[group]       = data[group].sample(frac=smoke_test_frac, replace=False)\n",
    "            embeddings[group] = embeddings[group][data[group].index]"
   ]
  },
  {
   "cell_type": "markdown",
   "metadata": {},
   "source": [
    "### 1.3 - Documents"
   ]
  },
  {
   "cell_type": "code",
   "execution_count": 6,
   "metadata": {
    "execution": {
     "iopub.execute_input": "2023-02-25T10:10:26.251782Z",
     "iopub.status.busy": "2023-02-25T10:10:26.251612Z",
     "iopub.status.idle": "2023-02-25T10:10:26.402132Z",
     "shell.execute_reply": "2023-02-25T10:10:26.401526Z",
     "shell.execute_reply.started": "2023-02-25T10:10:26.251767Z"
    }
   },
   "outputs": [
    {
     "data": {
      "text/plain": [
       "0          dear  subscribers,  as you may know, we’ve gro...\n",
       "1                             enjoyed it, great job by both.\n",
       "2          “but who will take care of you when you’re old...\n",
       "3          someone, please tell me again how being cf mea...\n",
       "4          \"smith listed many things about her mother, in...\n",
       "                                 ...                        \n",
       "2001001    grow your own shit. companion planting alone c...\n",
       "2001002    sick yeah i live in pa so lots of mennonites/a...\n",
       "2001003    i wish i could :( but i live in an apartment i...\n",
       "2001004    yeah same :(  i personally recommend  if you c...\n",
       "2001005    here's a sneak peek of  using the [top posts](...\n",
       "Name: body, Length: 2001006, dtype: object"
      ]
     },
     "execution_count": 6,
     "metadata": {},
     "output_type": "execute_result"
    }
   ],
   "source": [
    "docs = pd.concat([data[group]['body'].astype('str') for group in groups], ignore_index=True)\n",
    "docs"
   ]
  },
  {
   "cell_type": "markdown",
   "metadata": {},
   "source": [
    "### 1.4 - Embeddings"
   ]
  },
  {
   "cell_type": "code",
   "execution_count": 7,
   "metadata": {
    "execution": {
     "iopub.execute_input": "2023-02-25T10:10:26.403077Z",
     "iopub.status.busy": "2023-02-25T10:10:26.402883Z",
     "iopub.status.idle": "2023-02-25T10:10:27.760530Z",
     "shell.execute_reply": "2023-02-25T10:10:27.759845Z",
     "shell.execute_reply.started": "2023-02-25T10:10:26.403067Z"
    }
   },
   "outputs": [
    {
     "data": {
      "text/plain": [
       "(2001006, 384)"
      ]
     },
     "execution_count": 7,
     "metadata": {},
     "output_type": "execute_result"
    }
   ],
   "source": [
    "embeddings = np.vstack([embeddings[group] for group in groups])\n",
    "embeddings.shape"
   ]
  },
  {
   "cell_type": "markdown",
   "metadata": {},
   "source": [
    "### 1.5 - Classes"
   ]
  },
  {
   "cell_type": "code",
   "execution_count": 8,
   "metadata": {
    "execution": {
     "iopub.execute_input": "2023-02-25T10:10:27.762086Z",
     "iopub.status.busy": "2023-02-25T10:10:27.761509Z",
     "iopub.status.idle": "2023-02-25T10:10:27.774080Z",
     "shell.execute_reply": "2023-02-25T10:10:27.773606Z",
     "shell.execute_reply.started": "2023-02-25T10:10:27.762064Z"
    }
   },
   "outputs": [
    {
     "data": {
      "text/plain": [
       "0            incels\n",
       "1            incels\n",
       "2            incels\n",
       "3            incels\n",
       "4            incels\n",
       "             ...   \n",
       "2001001    leftwing\n",
       "2001002    leftwing\n",
       "2001003    leftwing\n",
       "2001004    leftwing\n",
       "2001005    leftwing\n",
       "Name: group, Length: 2001006, dtype: object"
      ]
     },
     "execution_count": 8,
     "metadata": {},
     "output_type": "execute_result"
    }
   ],
   "source": [
    "classes = pd.concat([data[group]['group'] for group in groups], ignore_index=True)\n",
    "classes"
   ]
  },
  {
   "cell_type": "markdown",
   "metadata": {
    "id": "SBcNmZJzSTY8"
   },
   "source": [
    "## 2 - Topic modeling"
   ]
  },
  {
   "cell_type": "markdown",
   "metadata": {
    "id": "QI6vwelqnTL-"
   },
   "source": [
    "### 2.1 - BERTopic model training"
   ]
  },
  {
   "cell_type": "code",
   "execution_count": 9,
   "metadata": {
    "execution": {
     "iopub.execute_input": "2023-02-25T10:10:27.774905Z",
     "iopub.status.busy": "2023-02-25T10:10:27.774745Z",
     "iopub.status.idle": "2023-02-25T10:10:44.783680Z",
     "shell.execute_reply": "2023-02-25T10:10:44.782911Z",
     "shell.execute_reply.started": "2023-02-25T10:10:27.774891Z"
    },
    "id": "TfhfzqkoSJ1I"
   },
   "outputs": [
    {
     "name": "stdout",
     "output_type": "stream",
     "text": [
      "BERTopic model loading ... DONE! Elapsed time:    16.73 sec\n"
     ]
    }
   ],
   "source": [
    "embedding_model = SentenceTransformer('all-MiniLM-L6-v2')\n",
    "\n",
    "if fit_model:\n",
    "\n",
    "    # reduce dimensionality\n",
    "    umap_model = UMAP(n_neighbors=15, n_components=5, metric='cosine')\n",
    "\n",
    "    # cluster reduced embeddings\n",
    "    hdbscan_model = HDBSCAN(min_cluster_size=15, min_samples=5, metric='euclidean', prediction_data=False)\n",
    "\n",
    "    # tokenize topics\n",
    "    vectorizer_model = CountVectorizer(ngram_range=(1, 2), stop_words=\"english\", min_df=0.01, max_df=0.99)\n",
    "\n",
    "    # create topic representation\n",
    "    ctfidf_model = ClassTfidfTransformer(reduce_frequent_words=True)\n",
    "\n",
    "    # (optional) fine-tune topic representations with `bertopic.representation` models\n",
    "    representation_models = [MaximalMarginalRelevance(diversity=0.3), KeyBERTInspired()]\n",
    "    \n",
    "    # initialize model\n",
    "    topic_model = BERTopic(\n",
    "        embedding_model      = embedding_model,\n",
    "        umap_model           = umap_model,\n",
    "        hdbscan_model        = hdbscan_model,\n",
    "        vectorizer_model     = vectorizer_model,\n",
    "        ctfidf_model          = ctfidf_model,\n",
    "        representation_model = representation_models,\n",
    "        language             = 'english',\n",
    "        top_n_words          = 10,\n",
    "        min_topic_size       = 500,\n",
    "        nr_topics            = 'auto', # 'auto' for automatic topic reduction\n",
    "        verbose              = True\n",
    "    )\n",
    "    \n",
    "    # train model\n",
    "    print('BERTopic model training ...')\n",
    "    tic = time.time()\n",
    "    topic_model.fit_transform(docs, embeddings)\n",
    "    toc = time.time()\n",
    "    print(f'DONE! Elapsed time:', f'{toc-tic:.2f}'.rjust(8), 'sec')\n",
    "    \n",
    "    # save model\n",
    "    topic_model.save('bertopic_model')\n",
    "    \n",
    "else:\n",
    "    \n",
    "    # load model\n",
    "    print('BERTopic model loading ... ', end='')\n",
    "    tic = time.time()\n",
    "    topic_model = BERTopic.load('bertopic_model_full')\n",
    "    toc = time.time()\n",
    "    print(f'DONE! Elapsed time:', f'{toc-tic:.2f}'.rjust(8), 'sec')"
   ]
  },
  {
   "cell_type": "markdown",
   "metadata": {
    "id": "A5O3KpHTnVpz"
   },
   "source": [
    "### 2.2 - Get all topic information"
   ]
  },
  {
   "cell_type": "code",
   "execution_count": 10,
   "metadata": {
    "colab": {
     "base_uri": "https://localhost:8080/",
     "height": 195
    },
    "execution": {
     "iopub.execute_input": "2023-02-25T10:10:44.785885Z",
     "iopub.status.busy": "2023-02-25T10:10:44.785713Z",
     "iopub.status.idle": "2023-02-25T10:10:44.799351Z",
     "shell.execute_reply": "2023-02-25T10:10:44.798822Z",
     "shell.execute_reply.started": "2023-02-25T10:10:44.785869Z"
    },
    "id": "ScBUgXn06IK6",
    "outputId": "ee49a346-8d12-41c4-c7e9-8c1b6782c636"
   },
   "outputs": [
    {
     "data": {
      "text/html": [
       "<div>\n",
       "<style scoped>\n",
       "    .dataframe tbody tr th:only-of-type {\n",
       "        vertical-align: middle;\n",
       "    }\n",
       "\n",
       "    .dataframe tbody tr th {\n",
       "        vertical-align: top;\n",
       "    }\n",
       "\n",
       "    .dataframe thead th {\n",
       "        text-align: right;\n",
       "    }\n",
       "</style>\n",
       "<table border=\"1\" class=\"dataframe\">\n",
       "  <thead>\n",
       "    <tr style=\"text-align: right;\">\n",
       "      <th></th>\n",
       "      <th>Topic</th>\n",
       "      <th>Count</th>\n",
       "      <th>Name</th>\n",
       "    </tr>\n",
       "  </thead>\n",
       "  <tbody>\n",
       "    <tr>\n",
       "      <th>0</th>\n",
       "      <td>-1</td>\n",
       "      <td>1341928</td>\n",
       "      <td>-1_struggles_supremacist_white supremacy_atheist</td>\n",
       "    </tr>\n",
       "    <tr>\n",
       "      <th>1</th>\n",
       "      <td>0</td>\n",
       "      <td>12458</td>\n",
       "      <td>0_vaccine_vaccines_vaccinated_vaccination</td>\n",
       "    </tr>\n",
       "    <tr>\n",
       "      <th>2</th>\n",
       "      <td>1</td>\n",
       "      <td>9709</td>\n",
       "      <td>1_putin_ukraine_soviet union_russia</td>\n",
       "    </tr>\n",
       "    <tr>\n",
       "      <th>3</th>\n",
       "      <td>2</td>\n",
       "      <td>8364</td>\n",
       "      <td>2_scripture_salvation_verse_forgiveness</td>\n",
       "    </tr>\n",
       "    <tr>\n",
       "      <th>4</th>\n",
       "      <td>3</td>\n",
       "      <td>7909</td>\n",
       "      <td>3_firearm_firearms_rifles_gun control</td>\n",
       "    </tr>\n",
       "    <tr>\n",
       "      <th>...</th>\n",
       "      <td>...</td>\n",
       "      <td>...</td>\n",
       "      <td>...</td>\n",
       "    </tr>\n",
       "    <tr>\n",
       "      <th>5271</th>\n",
       "      <td>5270</td>\n",
       "      <td>15</td>\n",
       "      <td>5270_removing_purge_remove_removed</td>\n",
       "    </tr>\n",
       "    <tr>\n",
       "      <th>5272</th>\n",
       "      <td>5271</td>\n",
       "      <td>15</td>\n",
       "      <td>5271_bullshit___</td>\n",
       "    </tr>\n",
       "    <tr>\n",
       "      <th>5273</th>\n",
       "      <td>5272</td>\n",
       "      <td>15</td>\n",
       "      <td>5272_whats_wtf_need know_</td>\n",
       "    </tr>\n",
       "    <tr>\n",
       "      <th>5274</th>\n",
       "      <td>5273</td>\n",
       "      <td>15</td>\n",
       "      <td>5273_women aren_women want_woman don_think dep...</td>\n",
       "    </tr>\n",
       "    <tr>\n",
       "      <th>5275</th>\n",
       "      <td>5274</td>\n",
       "      <td>15</td>\n",
       "      <td>5274_steel_armor_rounds_plates</td>\n",
       "    </tr>\n",
       "  </tbody>\n",
       "</table>\n",
       "<p>5276 rows × 3 columns</p>\n",
       "</div>"
      ],
      "text/plain": [
       "      Topic    Count                                               Name\n",
       "0        -1  1341928   -1_struggles_supremacist_white supremacy_atheist\n",
       "1         0    12458          0_vaccine_vaccines_vaccinated_vaccination\n",
       "2         1     9709                1_putin_ukraine_soviet union_russia\n",
       "3         2     8364            2_scripture_salvation_verse_forgiveness\n",
       "4         3     7909              3_firearm_firearms_rifles_gun control\n",
       "...     ...      ...                                                ...\n",
       "5271   5270       15                 5270_removing_purge_remove_removed\n",
       "5272   5271       15                                   5271_bullshit___\n",
       "5273   5272       15                          5272_whats_wtf_need know_\n",
       "5274   5273       15  5273_women aren_women want_woman don_think dep...\n",
       "5275   5274       15                     5274_steel_armor_rounds_plates\n",
       "\n",
       "[5276 rows x 3 columns]"
      ]
     },
     "execution_count": 10,
     "metadata": {},
     "output_type": "execute_result"
    }
   ],
   "source": [
    "topic_model.get_topic_info()"
   ]
  },
  {
   "cell_type": "markdown",
   "metadata": {},
   "source": [
    "### 2.3 - Reduce number of topics"
   ]
  },
  {
   "cell_type": "code",
   "execution_count": 11,
   "metadata": {
    "execution": {
     "iopub.execute_input": "2023-02-25T10:10:44.800189Z",
     "iopub.status.busy": "2023-02-25T10:10:44.800041Z",
     "iopub.status.idle": "2023-02-25T10:10:44.802976Z",
     "shell.execute_reply": "2023-02-25T10:10:44.802375Z",
     "shell.execute_reply.started": "2023-02-25T10:10:44.800187Z"
    }
   },
   "outputs": [],
   "source": [
    "#if fit_model:\n",
    "#    topic_model.reduce_topics(docs, nr_topics=100)\n",
    "#else:\n",
    "#    topic_model = BERTopic.load('bertopic_model_full_100')\n",
    "\n",
    "#topic_model.get_topic_info()"
   ]
  },
  {
   "cell_type": "markdown",
   "metadata": {},
   "source": [
    "### 2.4 - Get most frequent topic information"
   ]
  },
  {
   "cell_type": "code",
   "execution_count": 12,
   "metadata": {
    "execution": {
     "iopub.execute_input": "2023-02-25T10:10:44.803801Z",
     "iopub.status.busy": "2023-02-25T10:10:44.803607Z",
     "iopub.status.idle": "2023-02-25T10:10:44.807806Z",
     "shell.execute_reply": "2023-02-25T10:10:44.807363Z",
     "shell.execute_reply.started": "2023-02-25T10:10:44.803771Z"
    }
   },
   "outputs": [
    {
     "data": {
      "text/plain": [
       "[('vaccine', 0.56867325),\n",
       " ('vaccines', 0.5674554),\n",
       " ('vaccinated', 0.554625),\n",
       " ('vaccination', 0.54312515),\n",
       " ('covid 19', 0.45387095),\n",
       " ('immunity', 0.4469548),\n",
       " ('pandemic', 0.36023602),\n",
       " ('flu', 0.34975922),\n",
       " ('immune', 0.3355602),\n",
       " ('infection', 0.33186287)]"
      ]
     },
     "execution_count": 12,
     "metadata": {},
     "output_type": "execute_result"
    }
   ],
   "source": [
    "topic_model.get_topic(0)"
   ]
  },
  {
   "cell_type": "markdown",
   "metadata": {},
   "source": [
    "### 2.5 - Get all document information"
   ]
  },
  {
   "cell_type": "code",
   "execution_count": 13,
   "metadata": {
    "execution": {
     "iopub.execute_input": "2023-02-25T10:10:44.808413Z",
     "iopub.status.busy": "2023-02-25T10:10:44.808260Z",
     "iopub.status.idle": "2023-02-25T10:10:45.948820Z",
     "shell.execute_reply": "2023-02-25T10:10:45.948198Z",
     "shell.execute_reply.started": "2023-02-25T10:10:44.808399Z"
    }
   },
   "outputs": [
    {
     "data": {
      "text/html": [
       "<div>\n",
       "<style scoped>\n",
       "    .dataframe tbody tr th:only-of-type {\n",
       "        vertical-align: middle;\n",
       "    }\n",
       "\n",
       "    .dataframe tbody tr th {\n",
       "        vertical-align: top;\n",
       "    }\n",
       "\n",
       "    .dataframe thead th {\n",
       "        text-align: right;\n",
       "    }\n",
       "</style>\n",
       "<table border=\"1\" class=\"dataframe\">\n",
       "  <thead>\n",
       "    <tr style=\"text-align: right;\">\n",
       "      <th></th>\n",
       "      <th>Document</th>\n",
       "      <th>Topic</th>\n",
       "      <th>Name</th>\n",
       "      <th>Top_n_words</th>\n",
       "      <th>Probability</th>\n",
       "      <th>Representative_document</th>\n",
       "    </tr>\n",
       "  </thead>\n",
       "  <tbody>\n",
       "    <tr>\n",
       "      <th>0</th>\n",
       "      <td>dear  subscribers,  as you may know, we’ve gro...</td>\n",
       "      <td>-1</td>\n",
       "      <td>-1_struggles_supremacist_white supremacy_atheist</td>\n",
       "      <td>struggles - supremacist - white supremacy - at...</td>\n",
       "      <td>0.000000</td>\n",
       "      <td>False</td>\n",
       "    </tr>\n",
       "    <tr>\n",
       "      <th>1</th>\n",
       "      <td>enjoyed it, great job by both.</td>\n",
       "      <td>2723</td>\n",
       "      <td>2723_enjoyed_glad_im glad_great job</td>\n",
       "      <td>enjoyed - glad - im glad - great job - thanks ...</td>\n",
       "      <td>0.952094</td>\n",
       "      <td>True</td>\n",
       "    </tr>\n",
       "    <tr>\n",
       "      <th>2</th>\n",
       "      <td>“but who will take care of you when you’re old...</td>\n",
       "      <td>-1</td>\n",
       "      <td>-1_struggles_supremacist_white supremacy_atheist</td>\n",
       "      <td>struggles - supremacist - white supremacy - at...</td>\n",
       "      <td>0.000000</td>\n",
       "      <td>False</td>\n",
       "    </tr>\n",
       "    <tr>\n",
       "      <th>3</th>\n",
       "      <td>someone, please tell me again how being cf mea...</td>\n",
       "      <td>-1</td>\n",
       "      <td>-1_struggles_supremacist_white supremacy_atheist</td>\n",
       "      <td>struggles - supremacist - white supremacy - at...</td>\n",
       "      <td>0.000000</td>\n",
       "      <td>False</td>\n",
       "    </tr>\n",
       "    <tr>\n",
       "      <th>4</th>\n",
       "      <td>\"smith listed many things about her mother, in...</td>\n",
       "      <td>-1</td>\n",
       "      <td>-1_struggles_supremacist_white supremacy_atheist</td>\n",
       "      <td>struggles - supremacist - white supremacy - at...</td>\n",
       "      <td>0.000000</td>\n",
       "      <td>False</td>\n",
       "    </tr>\n",
       "    <tr>\n",
       "      <th>...</th>\n",
       "      <td>...</td>\n",
       "      <td>...</td>\n",
       "      <td>...</td>\n",
       "      <td>...</td>\n",
       "      <td>...</td>\n",
       "      <td>...</td>\n",
       "    </tr>\n",
       "    <tr>\n",
       "      <th>2001001</th>\n",
       "      <td>grow your own shit. companion planting alone c...</td>\n",
       "      <td>-1</td>\n",
       "      <td>-1_struggles_supremacist_white supremacy_atheist</td>\n",
       "      <td>struggles - supremacist - white supremacy - at...</td>\n",
       "      <td>0.000000</td>\n",
       "      <td>False</td>\n",
       "    </tr>\n",
       "    <tr>\n",
       "      <th>2001002</th>\n",
       "      <td>sick yeah i live in pa so lots of mennonites/a...</td>\n",
       "      <td>817</td>\n",
       "      <td>817_civilized_anarchism_conservatism_empower</td>\n",
       "      <td>civilized - anarchism - conservatism - empower...</td>\n",
       "      <td>0.105739</td>\n",
       "      <td>False</td>\n",
       "    </tr>\n",
       "    <tr>\n",
       "      <th>2001003</th>\n",
       "      <td>i wish i could :( but i live in an apartment i...</td>\n",
       "      <td>-1</td>\n",
       "      <td>-1_struggles_supremacist_white supremacy_atheist</td>\n",
       "      <td>struggles - supremacist - white supremacy - at...</td>\n",
       "      <td>0.000000</td>\n",
       "      <td>False</td>\n",
       "    </tr>\n",
       "    <tr>\n",
       "      <th>2001004</th>\n",
       "      <td>yeah same :(  i personally recommend  if you c...</td>\n",
       "      <td>-1</td>\n",
       "      <td>-1_struggles_supremacist_white supremacy_atheist</td>\n",
       "      <td>struggles - supremacist - white supremacy - at...</td>\n",
       "      <td>0.000000</td>\n",
       "      <td>False</td>\n",
       "    </tr>\n",
       "    <tr>\n",
       "      <th>2001005</th>\n",
       "      <td>here's a sneak peek of  using the [top posts](...</td>\n",
       "      <td>567</td>\n",
       "      <td>567_comments don_comments just_comments_posts</td>\n",
       "      <td>comments don - comments just - comments - post...</td>\n",
       "      <td>0.294884</td>\n",
       "      <td>False</td>\n",
       "    </tr>\n",
       "  </tbody>\n",
       "</table>\n",
       "<p>2001006 rows × 6 columns</p>\n",
       "</div>"
      ],
      "text/plain": [
       "                                                  Document  Topic  \\\n",
       "0        dear  subscribers,  as you may know, we’ve gro...     -1   \n",
       "1                           enjoyed it, great job by both.   2723   \n",
       "2        “but who will take care of you when you’re old...     -1   \n",
       "3        someone, please tell me again how being cf mea...     -1   \n",
       "4        \"smith listed many things about her mother, in...     -1   \n",
       "...                                                    ...    ...   \n",
       "2001001  grow your own shit. companion planting alone c...     -1   \n",
       "2001002  sick yeah i live in pa so lots of mennonites/a...    817   \n",
       "2001003  i wish i could :( but i live in an apartment i...     -1   \n",
       "2001004  yeah same :(  i personally recommend  if you c...     -1   \n",
       "2001005  here's a sneak peek of  using the [top posts](...    567   \n",
       "\n",
       "                                                     Name  \\\n",
       "0        -1_struggles_supremacist_white supremacy_atheist   \n",
       "1                     2723_enjoyed_glad_im glad_great job   \n",
       "2        -1_struggles_supremacist_white supremacy_atheist   \n",
       "3        -1_struggles_supremacist_white supremacy_atheist   \n",
       "4        -1_struggles_supremacist_white supremacy_atheist   \n",
       "...                                                   ...   \n",
       "2001001  -1_struggles_supremacist_white supremacy_atheist   \n",
       "2001002      817_civilized_anarchism_conservatism_empower   \n",
       "2001003  -1_struggles_supremacist_white supremacy_atheist   \n",
       "2001004  -1_struggles_supremacist_white supremacy_atheist   \n",
       "2001005     567_comments don_comments just_comments_posts   \n",
       "\n",
       "                                               Top_n_words  Probability  \\\n",
       "0        struggles - supremacist - white supremacy - at...     0.000000   \n",
       "1        enjoyed - glad - im glad - great job - thanks ...     0.952094   \n",
       "2        struggles - supremacist - white supremacy - at...     0.000000   \n",
       "3        struggles - supremacist - white supremacy - at...     0.000000   \n",
       "4        struggles - supremacist - white supremacy - at...     0.000000   \n",
       "...                                                    ...          ...   \n",
       "2001001  struggles - supremacist - white supremacy - at...     0.000000   \n",
       "2001002  civilized - anarchism - conservatism - empower...     0.105739   \n",
       "2001003  struggles - supremacist - white supremacy - at...     0.000000   \n",
       "2001004  struggles - supremacist - white supremacy - at...     0.000000   \n",
       "2001005  comments don - comments just - comments - post...     0.294884   \n",
       "\n",
       "         Representative_document  \n",
       "0                          False  \n",
       "1                           True  \n",
       "2                          False  \n",
       "3                          False  \n",
       "4                          False  \n",
       "...                          ...  \n",
       "2001001                    False  \n",
       "2001002                    False  \n",
       "2001003                    False  \n",
       "2001004                    False  \n",
       "2001005                    False  \n",
       "\n",
       "[2001006 rows x 6 columns]"
      ]
     },
     "execution_count": 13,
     "metadata": {},
     "output_type": "execute_result"
    }
   ],
   "source": [
    "topic_model.get_document_info(docs)"
   ]
  },
  {
   "cell_type": "markdown",
   "metadata": {
    "id": "UbT2Bd9gqaJ3"
   },
   "source": [
    "## 3 - Topic visualization"
   ]
  },
  {
   "cell_type": "markdown",
   "metadata": {
    "id": "M8c8LenB8Zyl"
   },
   "source": [
    "### 3.1 - Visualize topics"
   ]
  },
  {
   "cell_type": "code",
   "execution_count": 14,
   "metadata": {
    "colab": {
     "base_uri": "https://localhost:8080/",
     "height": 667
    },
    "execution": {
     "iopub.execute_input": "2023-02-25T10:10:45.949653Z",
     "iopub.status.busy": "2023-02-25T10:10:45.949520Z",
     "iopub.status.idle": "2023-02-25T10:11:33.617853Z",
     "shell.execute_reply": "2023-02-25T10:11:33.617151Z",
     "shell.execute_reply.started": "2023-02-25T10:10:45.949639Z"
    },
    "id": "S9qDqEHddgKq",
    "outputId": "3fddd5f1-194e-4708-a7dc-f0c5602c140a"
   },
   "outputs": [],
   "source": [
    "fig = topic_model.visualize_topics()\n",
    "\n",
    "fig.write_html('fig/topics.html')\n",
    "#fig.show()"
   ]
  },
  {
   "cell_type": "markdown",
   "metadata": {},
   "source": [
    "### 3.2 - Visualize documents"
   ]
  },
  {
   "cell_type": "code",
   "execution_count": 15,
   "metadata": {
    "execution": {
     "iopub.execute_input": "2023-02-25T10:11:33.618849Z",
     "iopub.status.busy": "2023-02-25T10:11:33.618658Z",
     "iopub.status.idle": "2023-02-25T10:21:10.442346Z",
     "shell.execute_reply": "2023-02-25T10:21:10.441654Z",
     "shell.execute_reply.started": "2023-02-25T10:11:33.618832Z"
    }
   },
   "outputs": [],
   "source": [
    "if fit_model:\n",
    "    reduced_embeddings = UMAP(n_neighbors=15, n_components=2, metric='cosine').fit_transform(embeddings)\n",
    "else:\n",
    "    reduced_embeddings = np.load('embeddings_2d_full.npy')\n",
    "\n",
    "fig = topic_model.visualize_documents(docs, reduced_embeddings=reduced_embeddings, hide_annotations=True, hide_document_hover=True)\n",
    "\n",
    "fig.write_html('fig/docs_topics.html')\n",
    "#fig.show()"
   ]
  },
  {
   "cell_type": "markdown",
   "metadata": {
    "id": "QHRTeSpl5JYB"
   },
   "source": [
    "### 3.3 - Visualize topic hierarchy"
   ]
  },
  {
   "cell_type": "code",
   "execution_count": 16,
   "metadata": {
    "colab": {
     "base_uri": "https://localhost:8080/",
     "height": 617
    },
    "execution": {
     "iopub.execute_input": "2023-02-25T10:21:10.443308Z",
     "iopub.status.busy": "2023-02-25T10:21:10.443128Z",
     "iopub.status.idle": "2023-02-25T10:21:10.518997Z",
     "shell.execute_reply": "2023-02-25T10:21:10.518343Z",
     "shell.execute_reply.started": "2023-02-25T10:21:10.443292Z"
    },
    "id": "ltmLFRR56a4X",
    "outputId": "0458e59c-30ce-4700-8dbf-0932afc63f1d"
   },
   "outputs": [],
   "source": [
    "fig = topic_model.visualize_hierarchy(top_n_topics=30)\n",
    "\n",
    "fig.write_html('fig/topic_hierarchy.html')\n",
    "#fig.show()"
   ]
  },
  {
   "cell_type": "markdown",
   "metadata": {
    "id": "4spXl2_C6flq"
   },
   "source": [
    "### 3.4 - Visualize terms"
   ]
  },
  {
   "cell_type": "code",
   "execution_count": 17,
   "metadata": {
    "colab": {
     "base_uri": "https://localhost:8080/",
     "height": 617
    },
    "execution": {
     "iopub.execute_input": "2023-02-25T10:21:10.520017Z",
     "iopub.status.busy": "2023-02-25T10:21:10.519813Z",
     "iopub.status.idle": "2023-02-25T10:21:10.666507Z",
     "shell.execute_reply": "2023-02-25T10:21:10.665846Z",
     "shell.execute_reply.started": "2023-02-25T10:21:10.519997Z"
    },
    "id": "zpm9LsKW6mi5",
    "outputId": "1197affc-dde2-44c1-9ba7-c9fb36a1143c"
   },
   "outputs": [],
   "source": [
    "fig = topic_model.visualize_barchart(top_n_topics=16)\n",
    "\n",
    "fig.write_html('fig/terms.html')\n",
    "#fig.show()"
   ]
  },
  {
   "cell_type": "markdown",
   "metadata": {
    "id": "QCPdi6_z6sbT"
   },
   "source": [
    "### 3.5 - Visualize topic similarity"
   ]
  },
  {
   "cell_type": "code",
   "execution_count": 18,
   "metadata": {
    "colab": {
     "base_uri": "https://localhost:8080/",
     "height": 1000
    },
    "execution": {
     "iopub.execute_input": "2023-02-25T10:21:10.667511Z",
     "iopub.status.busy": "2023-02-25T10:21:10.667329Z",
     "iopub.status.idle": "2023-02-25T10:21:10.727390Z",
     "shell.execute_reply": "2023-02-25T10:21:10.726736Z",
     "shell.execute_reply.started": "2023-02-25T10:21:10.667495Z"
    },
    "id": "edzNhZuZ6wTr",
    "outputId": "e01231db-fe82-49d3-a96f-8135522d9b9b"
   },
   "outputs": [],
   "source": [
    "fig = topic_model.visualize_heatmap(top_n_topics=100)\n",
    "\n",
    "fig.write_html('fig/topic_similarity.html')\n",
    "#fig.show()"
   ]
  },
  {
   "cell_type": "code",
   "execution_count": 19,
   "metadata": {
    "execution": {
     "iopub.execute_input": "2023-02-25T10:21:10.728383Z",
     "iopub.status.busy": "2023-02-25T10:21:10.728194Z",
     "iopub.status.idle": "2023-02-25T10:21:10.732633Z",
     "shell.execute_reply": "2023-02-25T10:21:10.731923Z",
     "shell.execute_reply.started": "2023-02-25T10:21:10.728367Z"
    }
   },
   "outputs": [
    {
     "data": {
      "text/plain": [
       "(100, 100)"
      ]
     },
     "execution_count": 19,
     "metadata": {},
     "output_type": "execute_result"
    }
   ],
   "source": [
    "adjacency_matrix = (fig.data[0]).z\n",
    "adjacency_matrix.shape"
   ]
  },
  {
   "cell_type": "code",
   "execution_count": 20,
   "metadata": {
    "execution": {
     "iopub.execute_input": "2023-02-25T10:21:10.733365Z",
     "iopub.status.busy": "2023-02-25T10:21:10.733204Z",
     "iopub.status.idle": "2023-02-25T10:21:10.738507Z",
     "shell.execute_reply": "2023-02-25T10:21:10.738016Z",
     "shell.execute_reply.started": "2023-02-25T10:21:10.733351Z"
    }
   },
   "outputs": [],
   "source": [
    "np.save('topics_adjacency_matrix', adjacency_matrix)"
   ]
  },
  {
   "cell_type": "code",
   "execution_count": 21,
   "metadata": {
    "execution": {
     "iopub.execute_input": "2023-02-25T10:21:10.739186Z",
     "iopub.status.busy": "2023-02-25T10:21:10.739039Z",
     "iopub.status.idle": "2023-02-25T10:21:11.741930Z",
     "shell.execute_reply": "2023-02-25T10:21:11.741442Z",
     "shell.execute_reply.started": "2023-02-25T10:21:10.739173Z"
    }
   },
   "outputs": [
    {
     "data": {
      "text/html": [
       "<div>\n",
       "<style scoped>\n",
       "    .dataframe tbody tr th:only-of-type {\n",
       "        vertical-align: middle;\n",
       "    }\n",
       "\n",
       "    .dataframe tbody tr th {\n",
       "        vertical-align: top;\n",
       "    }\n",
       "\n",
       "    .dataframe thead th {\n",
       "        text-align: right;\n",
       "    }\n",
       "</style>\n",
       "<table border=\"1\" class=\"dataframe\">\n",
       "  <thead>\n",
       "    <tr style=\"text-align: right;\">\n",
       "      <th></th>\n",
       "      <th>Topic</th>\n",
       "      <th>Group</th>\n",
       "      <th>Color</th>\n",
       "      <th>Count</th>\n",
       "    </tr>\n",
       "  </thead>\n",
       "  <tbody>\n",
       "    <tr>\n",
       "      <th>0</th>\n",
       "      <td>0</td>\n",
       "      <td>altright</td>\n",
       "      <td>red</td>\n",
       "      <td>12458</td>\n",
       "    </tr>\n",
       "    <tr>\n",
       "      <th>1</th>\n",
       "      <td>1</td>\n",
       "      <td>altright</td>\n",
       "      <td>red</td>\n",
       "      <td>9709</td>\n",
       "    </tr>\n",
       "    <tr>\n",
       "      <th>2</th>\n",
       "      <td>2</td>\n",
       "      <td>altright</td>\n",
       "      <td>red</td>\n",
       "      <td>8364</td>\n",
       "    </tr>\n",
       "    <tr>\n",
       "      <th>3</th>\n",
       "      <td>3</td>\n",
       "      <td>altright</td>\n",
       "      <td>red</td>\n",
       "      <td>7909</td>\n",
       "    </tr>\n",
       "    <tr>\n",
       "      <th>4</th>\n",
       "      <td>4</td>\n",
       "      <td>incels</td>\n",
       "      <td>blue</td>\n",
       "      <td>6529</td>\n",
       "    </tr>\n",
       "    <tr>\n",
       "      <th>...</th>\n",
       "      <td>...</td>\n",
       "      <td>...</td>\n",
       "      <td>...</td>\n",
       "      <td>...</td>\n",
       "    </tr>\n",
       "    <tr>\n",
       "      <th>95</th>\n",
       "      <td>95</td>\n",
       "      <td>altright</td>\n",
       "      <td>red</td>\n",
       "      <td>1077</td>\n",
       "    </tr>\n",
       "    <tr>\n",
       "      <th>96</th>\n",
       "      <td>96</td>\n",
       "      <td>altright</td>\n",
       "      <td>red</td>\n",
       "      <td>1072</td>\n",
       "    </tr>\n",
       "    <tr>\n",
       "      <th>97</th>\n",
       "      <td>97</td>\n",
       "      <td>incels</td>\n",
       "      <td>blue</td>\n",
       "      <td>1067</td>\n",
       "    </tr>\n",
       "    <tr>\n",
       "      <th>98</th>\n",
       "      <td>98</td>\n",
       "      <td>leftwing</td>\n",
       "      <td>green</td>\n",
       "      <td>1058</td>\n",
       "    </tr>\n",
       "    <tr>\n",
       "      <th>99</th>\n",
       "      <td>99</td>\n",
       "      <td>incels</td>\n",
       "      <td>blue</td>\n",
       "      <td>1049</td>\n",
       "    </tr>\n",
       "  </tbody>\n",
       "</table>\n",
       "<p>100 rows × 4 columns</p>\n",
       "</div>"
      ],
      "text/plain": [
       "    Topic     Group  Color  Count\n",
       "0       0  altright    red  12458\n",
       "1       1  altright    red   9709\n",
       "2       2  altright    red   8364\n",
       "3       3  altright    red   7909\n",
       "4       4    incels   blue   6529\n",
       "..    ...       ...    ...    ...\n",
       "95     95  altright    red   1077\n",
       "96     96  altright    red   1072\n",
       "97     97    incels   blue   1067\n",
       "98     98  leftwing  green   1058\n",
       "99     99    incels   blue   1049\n",
       "\n",
       "[100 rows x 4 columns]"
      ]
     },
     "execution_count": 21,
     "metadata": {},
     "output_type": "execute_result"
    }
   ],
   "source": [
    "df = topic_model.get_document_info(docs)\n",
    "\n",
    "df['Group'] = classes\n",
    "\n",
    "df = df[(df['Topic'] < 100) & (df['Topic'] != -1)]\n",
    "df = df[[\"Topic\", \"Group\"]]\n",
    "\n",
    "counts = df.groupby(['Topic']).count()['Group']\n",
    "\n",
    "df = df.groupby(['Topic']).agg(pd.Series.mode)\n",
    "\n",
    "group_to_color = {'incels':'blue', 'altright':'red', 'leftwing':'green'}\n",
    "\n",
    "df['Color'] = df.replace({'Group': group_to_color})\n",
    "df['Count'] = counts\n",
    "\n",
    "df = df.reset_index()\n",
    "df"
   ]
  },
  {
   "cell_type": "code",
   "execution_count": 22,
   "metadata": {
    "execution": {
     "iopub.execute_input": "2023-02-25T10:21:11.742724Z",
     "iopub.status.busy": "2023-02-25T10:21:11.742556Z",
     "iopub.status.idle": "2023-02-25T10:21:11.750424Z",
     "shell.execute_reply": "2023-02-25T10:21:11.749965Z",
     "shell.execute_reply.started": "2023-02-25T10:21:11.742709Z"
    }
   },
   "outputs": [],
   "source": [
    "df.to_csv('topics_df.csv', index=False)"
   ]
  },
  {
   "cell_type": "markdown",
   "metadata": {
    "id": "_ak_CLR164mx"
   },
   "source": [
    "### 3.6 - Visualize term score decline"
   ]
  },
  {
   "cell_type": "code",
   "execution_count": 23,
   "metadata": {
    "colab": {
     "base_uri": "https://localhost:8080/",
     "height": 517
    },
    "execution": {
     "iopub.execute_input": "2023-02-25T10:21:11.751591Z",
     "iopub.status.busy": "2023-02-25T10:21:11.751425Z",
     "iopub.status.idle": "2023-02-25T10:21:14.146219Z",
     "shell.execute_reply": "2023-02-25T10:21:14.145731Z",
     "shell.execute_reply.started": "2023-02-25T10:21:11.751577Z"
    },
    "id": "7gT3Korh6-MX",
    "outputId": "5810f810-4633-425e-a7d2-3a1e9570639a"
   },
   "outputs": [],
   "source": [
    "fig = topic_model.visualize_term_rank()\n",
    "\n",
    "fig.write_html('fig/term_score_decline.html')\n",
    "#fig.show()"
   ]
  },
  {
   "cell_type": "markdown",
   "metadata": {},
   "source": [
    "### 3.7 - Visualize topics per class"
   ]
  },
  {
   "cell_type": "code",
   "execution_count": 24,
   "metadata": {
    "execution": {
     "iopub.execute_input": "2023-02-25T10:21:14.147325Z",
     "iopub.status.busy": "2023-02-25T10:21:14.147130Z",
     "iopub.status.idle": "2023-02-25T10:28:35.174151Z",
     "shell.execute_reply": "2023-02-25T10:28:35.173453Z",
     "shell.execute_reply.started": "2023-02-25T10:21:14.147308Z"
    }
   },
   "outputs": [
    {
     "name": "stderr",
     "output_type": "stream",
     "text": [
      "3it [07:20, 146.80s/it]\n"
     ]
    }
   ],
   "source": [
    "topics_per_class = topic_model.topics_per_class(docs, classes=classes)\n",
    "\n",
    "fig = topic_model.visualize_topics_per_class(topics_per_class, top_n_topics=30)\n",
    "\n",
    "fig.write_html('fig/topics_per_class.html')\n",
    "#fig.show()"
   ]
  },
  {
   "cell_type": "markdown",
   "metadata": {},
   "source": [
    "### 3.8 - Visualize wordcloud for a specific topic"
   ]
  },
  {
   "cell_type": "code",
   "execution_count": 25,
   "metadata": {
    "execution": {
     "iopub.execute_input": "2023-02-25T10:28:35.175185Z",
     "iopub.status.busy": "2023-02-25T10:28:35.174964Z",
     "iopub.status.idle": "2023-02-25T10:28:35.286666Z",
     "shell.execute_reply": "2023-02-25T10:28:35.286004Z",
     "shell.execute_reply.started": "2023-02-25T10:28:35.175166Z"
    }
   },
   "outputs": [
    {
     "data": {
      "image/png": "[encoded data removed]",
      "text/plain": [
       "<Figure size 640x480 with 1 Axes>"
      ]
     },
     "metadata": {},
     "output_type": "display_data"
    }
   ],
   "source": [
    "def create_wordcloud(model, topic):\n",
    "    \n",
    "    text = {word: value for word, value in model.get_topic(topic)}\n",
    "    wc = WordCloud(background_color='white', max_words=1000)\n",
    "    wc.generate_from_frequencies(text)\n",
    "    plt.imshow(wc, interpolation='bilinear')\n",
    "    plt.axis('off')\n",
    "    plt.show()\n",
    "    \n",
    "# show wordcloud\n",
    "create_wordcloud(topic_model, topic=1)"
   ]
  },
  {
   "cell_type": "markdown",
   "metadata": {},
   "source": [
    "### 3.9 - Visualize documents per class"
   ]
  },
  {
   "cell_type": "code",
   "execution_count": 26,
   "metadata": {
    "execution": {
     "iopub.execute_input": "2023-02-25T10:28:35.287725Z",
     "iopub.status.busy": "2023-02-25T10:28:35.287474Z",
     "iopub.status.idle": "2023-02-25T10:28:36.908963Z",
     "shell.execute_reply": "2023-02-25T10:28:36.908311Z",
     "shell.execute_reply.started": "2023-02-25T10:28:35.287688Z"
    }
   },
   "outputs": [],
   "source": [
    "docs_topic = topic_model.get_document_info(docs).Topic\n",
    "docs_repr  = topic_model.get_document_info(docs).Representative_document\n",
    "\n",
    "topics_frac = 0.9"
   ]
  },
  {
   "cell_type": "markdown",
   "metadata": {},
   "source": [
    "#### 3.9.1 - 2D embedding"
   ]
  },
  {
   "cell_type": "code",
   "execution_count": 27,
   "metadata": {
    "execution": {
     "iopub.execute_input": "2023-02-25T10:28:36.910074Z",
     "iopub.status.busy": "2023-02-25T10:28:36.909828Z",
     "iopub.status.idle": "2023-02-25T10:28:36.978773Z",
     "shell.execute_reply": "2023-02-25T10:28:36.978085Z",
     "shell.execute_reply.started": "2023-02-25T10:28:36.910051Z"
    }
   },
   "outputs": [],
   "source": [
    "if fit_model:\n",
    "    \n",
    "    embeddings_2d = UMAP(n_neighbors=15, n_components=2, metric='cosine').fit_transform(embeddings)\n",
    "    \n",
    "else:\n",
    "    \n",
    "    embeddings_2d = np.load('embeddings_2d_full.npy')"
   ]
  },
  {
   "cell_type": "code",
   "execution_count": 28,
   "metadata": {
    "execution": {
     "iopub.execute_input": "2023-02-25T10:28:36.982056Z",
     "iopub.status.busy": "2023-02-25T10:28:36.981594Z",
     "iopub.status.idle": "2023-02-25T10:28:37.072472Z",
     "shell.execute_reply": "2023-02-25T10:28:37.071821Z",
     "shell.execute_reply.started": "2023-02-25T10:28:36.982039Z"
    }
   },
   "outputs": [
    {
     "data": {
      "text/html": [
       "<div>\n",
       "<style scoped>\n",
       "    .dataframe tbody tr th:only-of-type {\n",
       "        vertical-align: middle;\n",
       "    }\n",
       "\n",
       "    .dataframe tbody tr th {\n",
       "        vertical-align: top;\n",
       "    }\n",
       "\n",
       "    .dataframe thead th {\n",
       "        text-align: right;\n",
       "    }\n",
       "</style>\n",
       "<table border=\"1\" class=\"dataframe\">\n",
       "  <thead>\n",
       "    <tr style=\"text-align: right;\">\n",
       "      <th></th>\n",
       "      <th>x</th>\n",
       "      <th>y</th>\n",
       "      <th>group</th>\n",
       "      <th>topic</th>\n",
       "      <th>representative</th>\n",
       "    </tr>\n",
       "  </thead>\n",
       "  <tbody>\n",
       "    <tr>\n",
       "      <th>1</th>\n",
       "      <td>3.081121</td>\n",
       "      <td>3.577079</td>\n",
       "      <td>incels</td>\n",
       "      <td>2723</td>\n",
       "      <td>True</td>\n",
       "    </tr>\n",
       "    <tr>\n",
       "      <th>100</th>\n",
       "      <td>3.091554</td>\n",
       "      <td>2.248085</td>\n",
       "      <td>incels</td>\n",
       "      <td>1363</td>\n",
       "      <td>True</td>\n",
       "    </tr>\n",
       "    <tr>\n",
       "      <th>115</th>\n",
       "      <td>-9.512629</td>\n",
       "      <td>-16.803669</td>\n",
       "      <td>incels</td>\n",
       "      <td>1188</td>\n",
       "      <td>True</td>\n",
       "    </tr>\n",
       "    <tr>\n",
       "      <th>131</th>\n",
       "      <td>0.639561</td>\n",
       "      <td>22.355591</td>\n",
       "      <td>incels</td>\n",
       "      <td>1984</td>\n",
       "      <td>True</td>\n",
       "    </tr>\n",
       "    <tr>\n",
       "      <th>132</th>\n",
       "      <td>1.574413</td>\n",
       "      <td>-2.529613</td>\n",
       "      <td>incels</td>\n",
       "      <td>3186</td>\n",
       "      <td>True</td>\n",
       "    </tr>\n",
       "    <tr>\n",
       "      <th>...</th>\n",
       "      <td>...</td>\n",
       "      <td>...</td>\n",
       "      <td>...</td>\n",
       "      <td>...</td>\n",
       "      <td>...</td>\n",
       "    </tr>\n",
       "    <tr>\n",
       "      <th>2000783</th>\n",
       "      <td>13.934971</td>\n",
       "      <td>7.568726</td>\n",
       "      <td>leftwing</td>\n",
       "      <td>12</td>\n",
       "      <td>True</td>\n",
       "    </tr>\n",
       "    <tr>\n",
       "      <th>2000831</th>\n",
       "      <td>4.225533</td>\n",
       "      <td>-29.807566</td>\n",
       "      <td>leftwing</td>\n",
       "      <td>111</td>\n",
       "      <td>True</td>\n",
       "    </tr>\n",
       "    <tr>\n",
       "      <th>2000849</th>\n",
       "      <td>8.664688</td>\n",
       "      <td>-7.500927</td>\n",
       "      <td>leftwing</td>\n",
       "      <td>4404</td>\n",
       "      <td>True</td>\n",
       "    </tr>\n",
       "    <tr>\n",
       "      <th>2000855</th>\n",
       "      <td>21.252972</td>\n",
       "      <td>-20.247147</td>\n",
       "      <td>leftwing</td>\n",
       "      <td>1090</td>\n",
       "      <td>True</td>\n",
       "    </tr>\n",
       "    <tr>\n",
       "      <th>2000945</th>\n",
       "      <td>-18.889080</td>\n",
       "      <td>2.182016</td>\n",
       "      <td>leftwing</td>\n",
       "      <td>3837</td>\n",
       "      <td>True</td>\n",
       "    </tr>\n",
       "  </tbody>\n",
       "</table>\n",
       "<p>42652 rows × 5 columns</p>\n",
       "</div>"
      ],
      "text/plain": [
       "                 x          y     group  topic  representative\n",
       "1         3.081121   3.577079    incels   2723            True\n",
       "100       3.091554   2.248085    incels   1363            True\n",
       "115      -9.512629 -16.803669    incels   1188            True\n",
       "131       0.639561  22.355591    incels   1984            True\n",
       "132       1.574413  -2.529613    incels   3186            True\n",
       "...            ...        ...       ...    ...             ...\n",
       "2000783  13.934971   7.568726  leftwing     12            True\n",
       "2000831   4.225533 -29.807566  leftwing    111            True\n",
       "2000849   8.664688  -7.500927  leftwing   4404            True\n",
       "2000855  21.252972 -20.247147  leftwing   1090            True\n",
       "2000945 -18.889080   2.182016  leftwing   3837            True\n",
       "\n",
       "[42652 rows x 5 columns]"
      ]
     },
     "execution_count": 28,
     "metadata": {},
     "output_type": "execute_result"
    }
   ],
   "source": [
    "docs_2d = pd.DataFrame({\n",
    "                    'x': embeddings_2d[:, 0],\n",
    "                    'y': embeddings_2d[:, 1],\n",
    "                    'group': classes,\n",
    "                    'topic': docs_topic,\n",
    "                    'representative': docs_repr\n",
    "                    })\n",
    "\n",
    "docs_2d = docs_2d[docs_2d['topic'] != -1]\n",
    "docs_2d = docs_2d[docs_2d['topic'] < (topics_frac * docs_2d['topic'].max())]\n",
    "docs_2d = docs_2d[docs_2d['representative'] == True]\n",
    "docs_2d"
   ]
  },
  {
   "cell_type": "code",
   "execution_count": 29,
   "metadata": {
    "execution": {
     "iopub.execute_input": "2023-02-25T10:28:37.073693Z",
     "iopub.status.busy": "2023-02-25T10:28:37.073522Z",
     "iopub.status.idle": "2023-02-25T10:28:37.176558Z",
     "shell.execute_reply": "2023-02-25T10:28:37.175674Z",
     "shell.execute_reply.started": "2023-02-25T10:28:37.073678Z"
    }
   },
   "outputs": [],
   "source": [
    "fig_2d = px.scatter(\n",
    "                data_frame = docs_2d,\n",
    "                x          = 'x',\n",
    "                y          = 'y',\n",
    "                color      = 'group',\n",
    "                opacity    = .5,\n",
    "                title      = \"<b>Documents |</b> 2D Embedding\",\n",
    "                template   = 'plotly_white'\n",
    "                )\n",
    "\n",
    "fig_2d.update_xaxes(visible=False)\n",
    "fig_2d.update_yaxes(visible=False)\n",
    "fig_2d.write_html('fig/docs_2d.html')\n",
    "#fig_2d.show()"
   ]
  },
  {
   "cell_type": "markdown",
   "metadata": {},
   "source": [
    "#### 3.9.2 - 3D embedding"
   ]
  },
  {
   "cell_type": "code",
   "execution_count": 30,
   "metadata": {
    "execution": {
     "iopub.execute_input": "2023-02-25T10:28:37.177860Z",
     "iopub.status.busy": "2023-02-25T10:28:37.177617Z",
     "iopub.status.idle": "2023-02-25T10:28:37.258542Z",
     "shell.execute_reply": "2023-02-25T10:28:37.257887Z",
     "shell.execute_reply.started": "2023-02-25T10:28:37.177839Z"
    }
   },
   "outputs": [],
   "source": [
    "if fit_model:\n",
    "    \n",
    "    embeddings_3d = UMAP(n_neighbors=15, n_components=3, metric='cosine').fit_transform(embeddings)\n",
    "    \n",
    "else:\n",
    "    \n",
    "    embeddings_3d = np.load('embeddings_3d_full.npy')"
   ]
  },
  {
   "cell_type": "code",
   "execution_count": 31,
   "metadata": {
    "execution": {
     "iopub.execute_input": "2023-02-25T10:28:37.259803Z",
     "iopub.status.busy": "2023-02-25T10:28:37.259590Z",
     "iopub.status.idle": "2023-02-25T10:28:37.352644Z",
     "shell.execute_reply": "2023-02-25T10:28:37.351990Z",
     "shell.execute_reply.started": "2023-02-25T10:28:37.259787Z"
    }
   },
   "outputs": [
    {
     "data": {
      "text/html": [
       "<div>\n",
       "<style scoped>\n",
       "    .dataframe tbody tr th:only-of-type {\n",
       "        vertical-align: middle;\n",
       "    }\n",
       "\n",
       "    .dataframe tbody tr th {\n",
       "        vertical-align: top;\n",
       "    }\n",
       "\n",
       "    .dataframe thead th {\n",
       "        text-align: right;\n",
       "    }\n",
       "</style>\n",
       "<table border=\"1\" class=\"dataframe\">\n",
       "  <thead>\n",
       "    <tr style=\"text-align: right;\">\n",
       "      <th></th>\n",
       "      <th>x</th>\n",
       "      <th>y</th>\n",
       "      <th>z</th>\n",
       "      <th>group</th>\n",
       "      <th>topic</th>\n",
       "      <th>representative</th>\n",
       "    </tr>\n",
       "  </thead>\n",
       "  <tbody>\n",
       "    <tr>\n",
       "      <th>1</th>\n",
       "      <td>-3.089359</td>\n",
       "      <td>1.755949</td>\n",
       "      <td>-0.395821</td>\n",
       "      <td>incels</td>\n",
       "      <td>2723</td>\n",
       "      <td>True</td>\n",
       "    </tr>\n",
       "    <tr>\n",
       "      <th>100</th>\n",
       "      <td>-2.491993</td>\n",
       "      <td>0.930130</td>\n",
       "      <td>-1.414467</td>\n",
       "      <td>incels</td>\n",
       "      <td>1363</td>\n",
       "      <td>True</td>\n",
       "    </tr>\n",
       "    <tr>\n",
       "      <th>115</th>\n",
       "      <td>5.545822</td>\n",
       "      <td>10.406246</td>\n",
       "      <td>-77.965088</td>\n",
       "      <td>incels</td>\n",
       "      <td>1188</td>\n",
       "      <td>True</td>\n",
       "    </tr>\n",
       "    <tr>\n",
       "      <th>131</th>\n",
       "      <td>-44.524635</td>\n",
       "      <td>-87.366486</td>\n",
       "      <td>-0.762491</td>\n",
       "      <td>incels</td>\n",
       "      <td>1984</td>\n",
       "      <td>True</td>\n",
       "    </tr>\n",
       "    <tr>\n",
       "      <th>132</th>\n",
       "      <td>0.853391</td>\n",
       "      <td>-0.268745</td>\n",
       "      <td>-1.733790</td>\n",
       "      <td>incels</td>\n",
       "      <td>3186</td>\n",
       "      <td>True</td>\n",
       "    </tr>\n",
       "    <tr>\n",
       "      <th>...</th>\n",
       "      <td>...</td>\n",
       "      <td>...</td>\n",
       "      <td>...</td>\n",
       "      <td>...</td>\n",
       "      <td>...</td>\n",
       "      <td>...</td>\n",
       "    </tr>\n",
       "    <tr>\n",
       "      <th>2000783</th>\n",
       "      <td>12.079699</td>\n",
       "      <td>-2.297165</td>\n",
       "      <td>-7.295205</td>\n",
       "      <td>leftwing</td>\n",
       "      <td>12</td>\n",
       "      <td>True</td>\n",
       "    </tr>\n",
       "    <tr>\n",
       "      <th>2000831</th>\n",
       "      <td>-3.833300</td>\n",
       "      <td>-7.940598</td>\n",
       "      <td>-18.976181</td>\n",
       "      <td>leftwing</td>\n",
       "      <td>111</td>\n",
       "      <td>True</td>\n",
       "    </tr>\n",
       "    <tr>\n",
       "      <th>2000849</th>\n",
       "      <td>4.402806</td>\n",
       "      <td>7.143660</td>\n",
       "      <td>-7.914943</td>\n",
       "      <td>leftwing</td>\n",
       "      <td>4404</td>\n",
       "      <td>True</td>\n",
       "    </tr>\n",
       "    <tr>\n",
       "      <th>2000855</th>\n",
       "      <td>20.083113</td>\n",
       "      <td>14.453609</td>\n",
       "      <td>0.896535</td>\n",
       "      <td>leftwing</td>\n",
       "      <td>1090</td>\n",
       "      <td>True</td>\n",
       "    </tr>\n",
       "    <tr>\n",
       "      <th>2000945</th>\n",
       "      <td>-2.268541</td>\n",
       "      <td>-0.077390</td>\n",
       "      <td>-17.175087</td>\n",
       "      <td>leftwing</td>\n",
       "      <td>3837</td>\n",
       "      <td>True</td>\n",
       "    </tr>\n",
       "  </tbody>\n",
       "</table>\n",
       "<p>42652 rows × 6 columns</p>\n",
       "</div>"
      ],
      "text/plain": [
       "                 x          y          z     group  topic  representative\n",
       "1        -3.089359   1.755949  -0.395821    incels   2723            True\n",
       "100      -2.491993   0.930130  -1.414467    incels   1363            True\n",
       "115       5.545822  10.406246 -77.965088    incels   1188            True\n",
       "131     -44.524635 -87.366486  -0.762491    incels   1984            True\n",
       "132       0.853391  -0.268745  -1.733790    incels   3186            True\n",
       "...            ...        ...        ...       ...    ...             ...\n",
       "2000783  12.079699  -2.297165  -7.295205  leftwing     12            True\n",
       "2000831  -3.833300  -7.940598 -18.976181  leftwing    111            True\n",
       "2000849   4.402806   7.143660  -7.914943  leftwing   4404            True\n",
       "2000855  20.083113  14.453609   0.896535  leftwing   1090            True\n",
       "2000945  -2.268541  -0.077390 -17.175087  leftwing   3837            True\n",
       "\n",
       "[42652 rows x 6 columns]"
      ]
     },
     "execution_count": 31,
     "metadata": {},
     "output_type": "execute_result"
    }
   ],
   "source": [
    "docs_3d = pd.DataFrame({\n",
    "                    'x': embeddings_3d[:, 0],\n",
    "                    'y': embeddings_3d[:, 1],\n",
    "                    'z': embeddings_3d[:, 2],\n",
    "                    'group': classes,\n",
    "                    'topic': docs_topic,\n",
    "                    'representative': docs_repr\n",
    "                    })\n",
    "\n",
    "docs_3d = docs_3d[docs_3d['topic'] != -1]\n",
    "docs_3d = docs_3d[docs_3d['topic'] < (topics_frac * docs_3d['topic'].max())]\n",
    "docs_3d = docs_3d[docs_3d['representative'] == True]\n",
    "docs_3d"
   ]
  },
  {
   "cell_type": "code",
   "execution_count": 32,
   "metadata": {
    "execution": {
     "iopub.execute_input": "2023-02-25T10:28:37.353565Z",
     "iopub.status.busy": "2023-02-25T10:28:37.353391Z",
     "iopub.status.idle": "2023-02-25T10:28:37.476673Z",
     "shell.execute_reply": "2023-02-25T10:28:37.476002Z",
     "shell.execute_reply.started": "2023-02-25T10:28:37.353550Z"
    }
   },
   "outputs": [],
   "source": [
    "fig_3d = px.scatter_3d(\n",
    "                    data_frame = docs_3d,\n",
    "                    x          = 'x',\n",
    "                    y          = 'y',\n",
    "                    z          = 'z',\n",
    "                    color      = 'group',\n",
    "                    opacity    = .5,\n",
    "                    title      = \"<b>Documents |</b> 3D Embedding\",\n",
    "                    template   = 'plotly_white'\n",
    "                    )\n",
    "\n",
    "fig_3d.write_html('fig/docs_3d.html')\n",
    "#fig_3d.show()"
   ]
  },
  {
   "cell_type": "code",
   "execution_count": 33,
   "metadata": {
    "execution": {
     "iopub.execute_input": "2023-02-25T10:28:37.477643Z",
     "iopub.status.busy": "2023-02-25T10:28:37.477435Z",
     "iopub.status.idle": "2023-02-25T10:28:45.598188Z",
     "shell.execute_reply": "2023-02-25T10:28:45.597531Z",
     "shell.execute_reply.started": "2023-02-25T10:28:37.477625Z"
    }
   },
   "outputs": [
    {
     "data": {
      "text/plain": [
       "'/notebooks/fig.zip'"
      ]
     },
     "execution_count": 33,
     "metadata": {},
     "output_type": "execute_result"
    }
   ],
   "source": [
    "make_archive('fig', 'zip', 'fig')"
   ]
  }
 ],
 "metadata": {
  "accelerator": "GPU",
  "colab": {
   "provenance": [],
   "toc_visible": true
  },
  "gpuClass": "standard",
  "kernelspec": {
   "display_name": "Python 3 (ipykernel)",
   "language": "python",
   "name": "python3"
  },
  "language_info": {
   "codemirror_mode": {
    "name": "ipython",
    "version": 3
   },
   "file_extension": ".py",
   "mimetype": "text/x-python",
   "name": "python",
   "nbconvert_exporter": "python",
   "pygments_lexer": "ipython3",
   "version": "3.9.13"
  },
  "vscode": {
   "interpreter": {
    "hash": "bee55977b04a12a4bcb08d8abcee17ee219187d76e216c1cab9162ac3cf0e9fa"
   }
  }
 },
 "nbformat": 4,
 "nbformat_minor": 4
}
